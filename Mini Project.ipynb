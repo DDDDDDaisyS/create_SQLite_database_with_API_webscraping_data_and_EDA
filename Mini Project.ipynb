{
 "cells": [
  {
   "cell_type": "code",
   "execution_count": 56,
   "id": "8d5500e2-ade8-4370-8f4d-44e17bd8f4b1",
   "metadata": {
    "collapsed": true,
    "jupyter": {
     "outputs_hidden": true
    },
    "tags": []
   },
   "outputs": [
    {
     "ename": "ModuleNotFoundError",
     "evalue": "No module named 'geopandas'",
     "output_type": "error",
     "traceback": [
      "\u001b[1;31m---------------------------------------------------------------------------\u001b[0m",
      "\u001b[1;31mModuleNotFoundError\u001b[0m                       Traceback (most recent call last)",
      "\u001b[1;32m~\\AppData\\Local\\Temp/ipykernel_91600/3498778151.py\u001b[0m in \u001b[0;36m<module>\u001b[1;34m\u001b[0m\n\u001b[0;32m      9\u001b[0m \u001b[1;32mimport\u001b[0m \u001b[0mseaborn\u001b[0m \u001b[1;32mas\u001b[0m \u001b[0msns\u001b[0m\u001b[1;33m\u001b[0m\u001b[1;33m\u001b[0m\u001b[0m\n\u001b[0;32m     10\u001b[0m \u001b[1;32mfrom\u001b[0m \u001b[0mmatplotlib_venn\u001b[0m \u001b[1;32mimport\u001b[0m \u001b[0mvenn2\u001b[0m\u001b[1;33m,\u001b[0m \u001b[0mvenn2_circles\u001b[0m\u001b[1;33m,\u001b[0m \u001b[0mvenn2_unweighted\u001b[0m\u001b[1;33m\u001b[0m\u001b[1;33m\u001b[0m\u001b[0m\n\u001b[1;32m---> 11\u001b[1;33m \u001b[1;32mimport\u001b[0m \u001b[0mgeopandas\u001b[0m\u001b[1;33m\u001b[0m\u001b[1;33m\u001b[0m\u001b[0m\n\u001b[0m",
      "\u001b[1;31mModuleNotFoundError\u001b[0m: No module named 'geopandas'"
     ]
    }
   ],
   "source": [
    "import requests as re\n",
    "import os\n",
    "from IPython.display import JSON\n",
    "import pandas as pd\n",
    "import json\n",
    "import sqlite3\n",
    "from sqlite3 import Error\n",
    "import matplotlib.pyplot as plt\n",
    "import seaborn as sns\n",
    "from matplotlib_venn import venn2, venn2_circles, venn2_unweighted\n",
    "import geopandas"
   ]
  },
  {
   "cell_type": "markdown",
   "id": "04e0a946-928f-479e-8f16-00eb76b64e49",
   "metadata": {},
   "source": [
    "### 1. Pull the data\n",
    "various POIs in the area through API. "
   ]
  },
  {
   "cell_type": "code",
   "execution_count": 2,
   "id": "a53fe7fd-913a-4959-929f-70398e893cb0",
   "metadata": {},
   "outputs": [],
   "source": [
    "#\n",
    "key_fs = os.environ[\"FOURSQUARE_API_KEY\"]\n",
    "key_yelp = os.environ[\"Yelp_API_Key\"]\n",
    "\n",
    "base_fs = \"https://api.foursquare.com\"\n",
    "path_fs = \"/v3/places/search\"\n",
    "headers_fs = {\n",
    "    \"Accept\": \"application/json\",\n",
    "    \"Authorization\": key_fs\n",
    "}\n",
    "\n",
    "base_yelp = \"https://api.yelp.com/\"\n",
    "path_yelp = \"v3/businesses/search\"\n",
    "headers_yelp = {'Authorization': 'Bearer %s' % key_yelp,}"
   ]
  },
  {
   "cell_type": "code",
   "execution_count": 3,
   "id": "8be691ae-a39b-4f96-a114-4cfa2ad2135e",
   "metadata": {},
   "outputs": [],
   "source": [
    "# transform params format\n",
    "def trans_params_fs(category_id, city, fields, search_limit):\n",
    "    \"\"\"\n",
    "    category_id type(str):\n",
    "    city type(str):\n",
    "    fields type(str): separated by comma WITHOUT space\n",
    "    search_limit type(str): \n",
    "    \"\"\"\n",
    "    params = {\n",
    "        'categories': category_id,\n",
    "        'near': city,\n",
    "        'fields': fields,\n",
    "        'sort': 'rating',\n",
    "        'limit': search_limit\n",
    "    }\n",
    "    return params\n",
    "\n",
    "# transform params format\n",
    "def trans_params_yelp(category, city, locale, search_limit):\n",
    "    \"\"\"\n",
    "    category type(str): category name\n",
    "    city type(str): \n",
    "    locale type(str): 'en_CA' stands for Canada\n",
    "    search_limit type(str): \n",
    "    \"\"\"\n",
    "    params = {\n",
    "        'categories': category,\n",
    "        'location': city,\n",
    "        'locale': locale,\n",
    "        'sort_by': 'rating',\n",
    "        'limit': search_limit\n",
    "    }\n",
    "    return params"
   ]
  },
  {
   "cell_type": "code",
   "execution_count": 4,
   "id": "e5f6f56c-9736-421a-898b-e903060e2e7f",
   "metadata": {},
   "outputs": [],
   "source": [
    "#\n",
    "def get_res(base, path, headers, params):\n",
    "    \"\"\"\n",
    "    base type(str): API host\n",
    "    path type(str): API searching path added after base\n",
    "    headers type(dict):\n",
    "    params type(dict): \n",
    "    \"\"\"\n",
    "    url = base+path\n",
    "    res = re.get(url, headers=headers, params=params)\n",
    "    return res.json()"
   ]
  },
  {
   "cell_type": "code",
   "execution_count": 5,
   "id": "59737987-0b6a-402c-b59c-f7e4380c3a2a",
   "metadata": {},
   "outputs": [
    {
     "data": {
      "application/json": {
       "context": {
        "geo_bounds": {
         "circle": {
          "center": {
           "latitude": 48.43294,
           "longitude": -123.3693
          },
          "radius": 2900
         }
        }
       },
       "results": [
        {
         "hours": {
          "display": "Mon-Tue 8:00-18:00; Thu-Fri 8:00-18:00",
          "is_local_holiday": false,
          "open_now": true,
          "regular": [
           {
            "close": "1800",
            "day": 1,
            "open": "0800"
           },
           {
            "close": "1800",
            "day": 2,
            "open": "0800"
           },
           {
            "close": "1800",
            "day": 4,
            "open": "0800"
           },
           {
            "close": "1800",
            "day": 5,
            "open": "0800"
           }
          ],
          "seasonal": []
         },
         "location": {
          "address": "1113 Langley St",
          "address_extended": "# 1",
          "country": "CA",
          "cross_street": "Fort and Langley",
          "formatted_address": "1113 Langley St (Fort and Langley), Victoria BC V8W 1V9",
          "locality": "Victoria",
          "postcode": "V8W 1V9",
          "region": "BC"
         },
         "name": "UC Life Chiropractic Centre",
         "popularity": 0.07794859476339179
        },
        {
         "hours": {
          "display": "Mon-Fri 8:00-20:00; Sat 9:00-15:00",
          "is_local_holiday": false,
          "open_now": true,
          "regular": [
           {
            "close": "2000",
            "day": 1,
            "open": "0800"
           },
           {
            "close": "2000",
            "day": 2,
            "open": "0800"
           },
           {
            "close": "2000",
            "day": 3,
            "open": "0800"
           },
           {
            "close": "2000",
            "day": 4,
            "open": "0800"
           },
           {
            "close": "2000",
            "day": 5,
            "open": "0800"
           },
           {
            "close": "1500",
            "day": 6,
            "open": "0900"
           }
          ],
          "seasonal": []
         },
         "location": {
          "address": "805 Johnson St",
          "country": "CA",
          "cross_street": "",
          "formatted_address": "805 Johnson St, Victoria BC V8W 1N4",
          "locality": "Victoria",
          "neighborhood": [
           "Downtown"
          ],
          "postcode": "V8W 1N4",
          "region": "BC"
         },
         "name": "Fix Healthcare",
         "popularity": 0.9189286572183522
        },
        {
         "hours": {
          "display": "Mon-Tue 6:30-16:00; Wed 6:30-11:30; Thu-Fri 6:30-16:00",
          "is_local_holiday": false,
          "open_now": true,
          "regular": [
           {
            "close": "1600",
            "day": 1,
            "open": "0630"
           },
           {
            "close": "1600",
            "day": 2,
            "open": "0630"
           },
           {
            "close": "1130",
            "day": 3,
            "open": "0630"
           },
           {
            "close": "1600",
            "day": 4,
            "open": "0630"
           },
           {
            "close": "1600",
            "day": 5,
            "open": "0630"
           }
          ],
          "seasonal": [
           {
            "closed": false,
            "hours": [
             {
              "close": "1600",
              "day": 1,
              "open": "0630"
             },
             {
              "close": "1600",
              "day": 2,
              "open": "0630"
             },
             {
              "close": "1130",
              "day": 3,
              "open": "0630"
             },
             {
              "close": "1600",
              "day": 4,
              "open": "0630"
             },
             {
              "close": "1600",
              "day": 5,
              "open": "0630"
             },
             {
              "close": "1600",
              "day": 1,
              "open": "0630"
             },
             {
              "close": "1600",
              "day": 2,
              "open": "0630"
             },
             {
              "close": "1130",
              "day": 3,
              "open": "0630"
             },
             {
              "close": "1600",
              "day": 4,
              "open": "0630"
             },
             {
              "close": "1600",
              "day": 5,
              "open": "0630"
             }
            ]
           },
           {
            "closed": false,
            "hours": [
             {
              "close": "1600",
              "day": 2,
              "open": "0630"
             },
             {
              "close": "1130",
              "day": 3,
              "open": "0630"
             },
             {
              "close": "1600",
              "day": 4,
              "open": "0630"
             },
             {
              "close": "1600",
              "day": 5,
              "open": "0630"
             }
            ]
           },
           {
            "closed": false,
            "hours": [
             {
              "close": "1600",
              "day": 1,
              "open": "0630"
             },
             {
              "close": "1600",
              "day": 2,
              "open": "0630"
             },
             {
              "close": "1130",
              "day": 3,
              "open": "0630"
             },
             {
              "close": "1600",
              "day": 4,
              "open": "0630"
             }
            ]
           },
           {
            "closed": false,
            "hours": [
             {
              "close": "1600",
              "day": 2,
              "open": "0630"
             },
             {
              "close": "1130",
              "day": 3,
              "open": "0630"
             },
             {
              "close": "1600",
              "day": 4,
              "open": "0630"
             },
             {
              "close": "1600",
              "day": 5,
              "open": "0630"
             }
            ]
           },
           {
            "closed": false,
            "hours": [
             {
              "close": "1600",
              "day": 2,
              "open": "0630"
             },
             {
              "close": "1130",
              "day": 3,
              "open": "0630"
             },
             {
              "close": "1600",
              "day": 4,
              "open": "0630"
             },
             {
              "close": "1600",
              "day": 5,
              "open": "0630"
             }
            ]
           },
           {
            "closed": false,
            "hours": [
             {
              "close": "1600",
              "day": 2,
              "open": "0630"
             },
             {
              "close": "1130",
              "day": 3,
              "open": "0630"
             },
             {
              "close": "1600",
              "day": 5,
              "open": "0630"
             }
            ]
           },
           {
            "closed": false,
            "hours": [
             {
              "close": "1600",
              "day": 1,
              "open": "0630"
             },
             {
              "close": "1600",
              "day": 2,
              "open": "0630"
             },
             {
              "close": "1130",
              "day": 3,
              "open": "0630"
             },
             {
              "close": "1600",
              "day": 5,
              "open": "0630"
             }
            ]
           },
           {
            "closed": false,
            "hours": [
             {
              "close": "1600",
              "day": 1,
              "open": "0630"
             },
             {
              "close": "1600",
              "day": 2,
              "open": "0630"
             },
             {
              "close": "1130",
              "day": 3,
              "open": "0630"
             },
             {
              "close": "1600",
              "day": 4,
              "open": "0630"
             }
            ]
           },
           {
            "closed": false,
            "hours": [
             {
              "close": "1600",
              "day": 2,
              "open": "0630"
             },
             {
              "close": "1600",
              "day": 4,
              "open": "0630"
             },
             {
              "close": "1600",
              "day": 5,
              "open": "0630"
             }
            ]
           },
           {
            "closed": false,
            "hours": [
             {
              "close": "1600",
              "day": 2,
              "open": "0630"
             },
             {
              "close": "1130",
              "day": 3,
              "open": "0630"
             },
             {
              "close": "1600",
              "day": 4,
              "open": "0630"
             },
             {
              "close": "1600",
              "day": 5,
              "open": "0630"
             }
            ]
           },
           {
            "closed": false,
            "hours": [
             {
              "close": "1600",
              "day": 2,
              "open": "0630"
             },
             {
              "close": "1130",
              "day": 3,
              "open": "0630"
             },
             {
              "close": "1600",
              "day": 4,
              "open": "0630"
             },
             {
              "close": "1600",
              "day": 5,
              "open": "0630"
             }
            ]
           },
           {
            "closed": false,
            "hours": [
             {
              "close": "1600",
              "day": 2,
              "open": "0630"
             },
             {
              "close": "1130",
              "day": 3,
              "open": "0630"
             },
             {
              "close": "1600",
              "day": 4,
              "open": "0630"
             },
             {
              "close": "1600",
              "day": 5,
              "open": "0630"
             }
            ]
           },
           {
            "closed": false,
            "hours": [
             {
              "close": "1600",
              "day": 1,
              "open": "0630"
             },
             {
              "close": "1600",
              "day": 2,
              "open": "0630"
             },
             {
              "close": "1130",
              "day": 3,
              "open": "0630"
             },
             {
              "close": "1600",
              "day": 5,
              "open": "0630"
             }
            ]
           },
           {
            "closed": false,
            "hours": [
             {
              "close": "1600",
              "day": 1,
              "open": "0630"
             },
             {
              "close": "1600",
              "day": 2,
              "open": "0630"
             },
             {
              "close": "1130",
              "day": 3,
              "open": "0630"
             },
             {
              "close": "1600",
              "day": 4,
              "open": "0630"
             },
             {
              "close": "1600",
              "day": 5,
              "open": "0630"
             }
            ]
           }
          ]
         },
         "location": {
          "address": "1116 Blanshard St",
          "country": "CA",
          "cross_street": "",
          "formatted_address": "1116 Blanshard St, Victoria BC V8W 2H6",
          "locality": "Victoria",
          "neighborhood": [
           "Downtown"
          ],
          "postcode": "V8W 2H6",
          "region": "BC"
         },
         "name": "Elder Chiropractic Office",
         "popularity": 0.438866202257987
        },
        {
         "hours": {
          "display": "Mon 11:00-19:00; Tue 8:30-17:30; Wed 12:00-17:30; Thu 11:00-19:00; Fri 8:30-17:30",
          "is_local_holiday": false,
          "open_now": true,
          "regular": [
           {
            "close": "1900",
            "day": 1,
            "open": "1100"
           },
           {
            "close": "1730",
            "day": 2,
            "open": "0830"
           },
           {
            "close": "1730",
            "day": 3,
            "open": "1200"
           },
           {
            "close": "1900",
            "day": 4,
            "open": "1100"
           },
           {
            "close": "1730",
            "day": 5,
            "open": "0830"
           }
          ],
          "seasonal": []
         },
         "location": {
          "address": "2950 Douglas St",
          "address_extended": "# 220",
          "country": "CA",
          "cross_street": "",
          "formatted_address": "2950 Douglas St, Victoria BC V8T 4N4",
          "locality": "Victoria",
          "neighborhood": [
           "Rock Bay"
          ],
          "postcode": "V8T 4N4",
          "region": "BC"
         },
         "name": "Coastal Chiropractic",
         "popularity": 0.4276963728080711
        },
        {
         "hours": {
          "display": "Mon-Fri 8:00-18:00; Sat 9:00-14:00; Sun 10:00-14:00",
          "is_local_holiday": false,
          "open_now": true,
          "regular": [
           {
            "close": "1800",
            "day": 1,
            "open": "0800"
           },
           {
            "close": "1800",
            "day": 2,
            "open": "0800"
           },
           {
            "close": "1800",
            "day": 3,
            "open": "0800"
           },
           {
            "close": "1800",
            "day": 4,
            "open": "0800"
           },
           {
            "close": "1800",
            "day": 5,
            "open": "0800"
           },
           {
            "close": "1400",
            "day": 6,
            "open": "0900"
           },
           {
            "close": "1400",
            "day": 7,
            "open": "1000"
           }
          ],
          "seasonal": []
         },
         "location": {
          "address": "1063 Fort St",
          "country": "CA",
          "formatted_address": "1063 Fort St, Victoria BC V8V 3K5",
          "locality": "Victoria",
          "neighborhood": [
           "Harris Green"
          ],
          "postcode": "V8V 3K5",
          "region": "BC"
         },
         "name": "Diversified Health Clinic Ltd",
         "popularity": 0.888061494114821
        },
        {
         "hours": {
          "display": "Mon 2:30-18:00; Wed 9:00-18:00; Thu 2:30-18:00; Sat 9:00-14:00",
          "is_local_holiday": false,
          "open_now": false,
          "regular": [
           {
            "close": "1800",
            "day": 1,
            "open": "0230"
           },
           {
            "close": "1800",
            "day": 3,
            "open": "0900"
           },
           {
            "close": "1800",
            "day": 4,
            "open": "0230"
           },
           {
            "close": "1400",
            "day": 6,
            "open": "0900"
           }
          ],
          "seasonal": []
         },
         "location": {
          "address": "337A Cook St",
          "address_extended": "# 1",
          "country": "CA",
          "formatted_address": "337A Cook St, Victoria BC V8V 3X5",
          "locality": "Victoria",
          "neighborhood": [
           "Fairfield"
          ],
          "postcode": "V8V 3X5",
          "region": "BC"
         },
         "name": "Fairfield Chiropractic & Massage",
         "popularity": 0.2541436464088398
        },
        {
         "hours": {
          "display": "Mon 10:00-19:00; Tue-Fri 7:00-19:00; Sat 9:00-17:00",
          "is_local_holiday": false,
          "open_now": true,
          "regular": [
           {
            "close": "1900",
            "day": 1,
            "open": "1000"
           },
           {
            "close": "1900",
            "day": 2,
            "open": "0700"
           },
           {
            "close": "1900",
            "day": 3,
            "open": "0700"
           },
           {
            "close": "1900",
            "day": 4,
            "open": "0700"
           },
           {
            "close": "1900",
            "day": 5,
            "open": "0700"
           },
           {
            "close": "1700",
            "day": 6,
            "open": "0900"
           }
          ],
          "seasonal": []
         },
         "location": {
          "address": "1625 Oak Bay Ave",
          "address_extended": "# 102",
          "country": "CA",
          "cross_street": "McGregor",
          "formatted_address": "1625 Oak Bay Ave (McGregor), Victoria BC V8R 1B1",
          "locality": "Victoria",
          "postcode": "V8R 1B1",
          "region": "BC"
         },
         "name": "Active Health & Wellness Clinic",
         "popularity": 0.8424213307710785
        },
        {
         "hours": {
          "display": "Mon 8:15-17:15; Tue 8:30-16:15; Wed 8:15-18:00; Thu 8:30-16:15; Fri 8:15-17:15; Sat 8:15-12:00",
          "is_local_holiday": false,
          "open_now": true,
          "regular": [
           {
            "close": "1715",
            "day": 1,
            "open": "0815"
           },
           {
            "close": "1615",
            "day": 2,
            "open": "0830"
           },
           {
            "close": "1800",
            "day": 3,
            "open": "0815"
           },
           {
            "close": "1615",
            "day": 4,
            "open": "0830"
           },
           {
            "close": "1715",
            "day": 5,
            "open": "0815"
           },
           {
            "close": "1200",
            "day": 6,
            "open": "0815"
           }
          ],
          "seasonal": []
         },
         "location": {
          "address": "3066 Shelbourne St",
          "address_extended": "# 125",
          "country": "CA",
          "cross_street": "Hillside",
          "formatted_address": "3066 Shelbourne St (Hillside), Victoria BC V8R 6T9",
          "locality": "Victoria",
          "neighborhood": [
           "Sears"
          ],
          "postcode": "V8R 6T9",
          "region": "BC"
         },
         "name": "Dr. Jack Chin",
         "popularity": 0.20790295460004804
        },
        {
         "hours": {
          "display": "Mon 9:00-17:00; Tue 15:00-18:30; Wed 8:00-15:00; Thu 9:30-18:30; Fri 9:30-13:00",
          "is_local_holiday": false,
          "open_now": true,
          "regular": [
           {
            "close": "1700",
            "day": 1,
            "open": "0900"
           },
           {
            "close": "1830",
            "day": 2,
            "open": "1500"
           },
           {
            "close": "1500",
            "day": 3,
            "open": "0800"
           },
           {
            "close": "1830",
            "day": 4,
            "open": "0930"
           },
           {
            "close": "1300",
            "day": 5,
            "open": "0930"
           }
          ],
          "seasonal": []
         },
         "location": {
          "address": "3200 Shelbourne St",
          "address_extended": "# 203",
          "country": "CA",
          "cross_street": "",
          "formatted_address": "3200 Shelbourne St, Victoria BC V8P 5G8",
          "locality": "Victoria",
          "neighborhood": [
           "Sears"
          ],
          "postcode": "V8P 5G8",
          "region": "BC"
         },
         "name": "Victoria Family Chiropractic",
         "popularity": 0.2149906015037594
        }
       ]
      },
      "text/plain": [
       "<IPython.core.display.JSON object>"
      ]
     },
     "execution_count": 5,
     "metadata": {
      "application/json": {
       "expanded": false,
       "root": "root"
      }
     },
     "output_type": "execute_result"
    }
   ],
   "source": [
    "# Chiropractor Info from Foursquare\n",
    "\n",
    "params_fs1 = trans_params_fs('15006', 'Victoria,BC', 'name,location,hours,rating,popularity,price', '50')\n",
    "res_fs1 = get_res(base_fs, path_fs, headers_fs, params_fs1)\n",
    "JSON(res_fs1)"
   ]
  },
  {
   "cell_type": "code",
   "execution_count": 6,
   "id": "e83db79b-6dba-4d76-ac65-e911f9ba5689",
   "metadata": {},
   "outputs": [
    {
     "data": {
      "application/json": {
       "businesses": [
        {
         "alias": "diversified-health-clinic-victoria-2",
         "categories": [
          {
           "alias": "acupuncture",
           "title": "Acupuncture"
          },
          {
           "alias": "chiropractors",
           "title": "Chiropractors"
          },
          {
           "alias": "physicaltherapy",
           "title": "Physical Therapy"
          }
         ],
         "coordinates": {
          "latitude": 48.4235171,
          "longitude": -123.355138
         },
         "display_phone": "(250) 382-0018",
         "distance": 1383.7801180468073,
         "id": "W6vrfL6oPVqLOnTDDH-bOw",
         "image_url": "https://s3-media1.fl.yelpcdn.com/bphoto/AHABx6qUwX9pqWFruOXMug/o.jpg",
         "is_closed": false,
         "location": {
          "address1": "1063 Fort Street",
          "address2": "",
          "address3": "",
          "city": "Victoria",
          "country": "CA",
          "display_address": [
           "1063 Fort Street",
           "Victoria, BC V8V 3K5"
          ],
          "state": "BC",
          "zip_code": "V8V 3K5"
         },
         "name": "Diversified Health Clinic",
         "phone": "+12503820018",
         "rating": 5,
         "review_count": 4,
         "transactions": [],
         "url": "https://www.yelp.ca/biz/diversified-health-clinic-victoria-2?adjust_creative=6IbiNCiVo8peFiWj0BRPDg&utm_campaign=yelp_api_v3&utm_medium=api_v3_business_search&utm_source=6IbiNCiVo8peFiWj0BRPDg"
        },
        {
         "alias": "geometry-integrated-health-victoria",
         "categories": [
          {
           "alias": "massage_therapy",
           "title": "Massage Therapy"
          },
          {
           "alias": "chiropractors",
           "title": "Chiropractors"
          },
          {
           "alias": "naturopathic",
           "title": "Naturopathic/Holistic"
          }
         ],
         "coordinates": {
          "latitude": 48.42313,
          "longitude": -123.36166
         },
         "display_phone": "(250) 590-3757",
         "distance": 1212.9188960818706,
         "id": "k7f0sFtNFeOi6ZtBFRNN3w",
         "image_url": "https://s3-media4.fl.yelpcdn.com/bphoto/GtXAFm59VMhPJu7-vpzhmQ/o.jpg",
         "is_closed": false,
         "location": {
          "address1": "827 Broughton Street",
          "address2": null,
          "address3": "",
          "city": "Victoria",
          "country": "CA",
          "display_address": [
           "827 Broughton Street",
           "Victoria, BC V8W 1E4"
          ],
          "state": "BC",
          "zip_code": "V8W 1E4"
         },
         "name": "Geometry Integrated Health",
         "phone": "+12505903757",
         "rating": 5,
         "review_count": 3,
         "transactions": [],
         "url": "https://www.yelp.ca/biz/geometry-integrated-health-victoria?adjust_creative=6IbiNCiVo8peFiWj0BRPDg&utm_campaign=yelp_api_v3&utm_medium=api_v3_business_search&utm_source=6IbiNCiVo8peFiWj0BRPDg"
        },
        {
         "alias": "equilibrium-massage-therapy-victoria",
         "categories": [
          {
           "alias": "physicaltherapy",
           "title": "Physical Therapy"
          },
          {
           "alias": "chiropractors",
           "title": "Chiropractors"
          },
          {
           "alias": "massage_therapy",
           "title": "Massage Therapy"
          }
         ],
         "coordinates": {
          "latitude": 48.42468,
          "longitude": -123.35289
         },
         "display_phone": "(250) 388-7888",
         "distance": 1385.2711255257645,
         "id": "gxz_jJg4QTM2yKp1eRGu7w",
         "image_url": "https://s3-media1.fl.yelpcdn.com/bphoto/jQVjAW-CemtRBupar-PG3A/o.jpg",
         "is_closed": false,
         "location": {
          "address1": "101-1121 Yates Street",
          "address2": "",
          "address3": "",
          "city": "Victoria",
          "country": "CA",
          "display_address": [
           "101-1121 Yates Street",
           "Victoria, BC V8V 3N1"
          ],
          "state": "BC",
          "zip_code": "V8V 3N1"
         },
         "name": "Equilibrium Massage Therapy",
         "phone": "+12503887888",
         "rating": 5,
         "review_count": 3,
         "transactions": [],
         "url": "https://www.yelp.ca/biz/equilibrium-massage-therapy-victoria?adjust_creative=6IbiNCiVo8peFiWj0BRPDg&utm_campaign=yelp_api_v3&utm_medium=api_v3_business_search&utm_source=6IbiNCiVo8peFiWj0BRPDg"
        },
        {
         "alias": "synergy-victoria",
         "categories": [
          {
           "alias": "chiropractors",
           "title": "Chiropractors"
          },
          {
           "alias": "physicaltherapy",
           "title": "Physical Therapy"
          },
          {
           "alias": "massage_therapy",
           "title": "Massage Therapy"
          }
         ],
         "coordinates": {
          "latitude": 48.4682299,
          "longitude": -123.3639342
         },
         "display_phone": "(250) 727-3737",
         "distance": 3837.0608286900365,
         "id": "ma7VsFU0lSvYNx8OQGi8Ag",
         "image_url": "https://s3-media3.fl.yelpcdn.com/bphoto/I3GA4fFYJhUuwQ-Y6oMZew/o.jpg",
         "is_closed": false,
         "location": {
          "address1": "106-3960 Quadra Street",
          "address2": "",
          "address3": "",
          "city": "Victoria",
          "country": "CA",
          "display_address": [
           "106-3960 Quadra Street",
           "Victoria, BC V8X 4A3"
          ],
          "state": "BC",
          "zip_code": "V8X 4A3"
         },
         "name": "Synergy Health Centre",
         "phone": "+12507273737",
         "rating": 5,
         "review_count": 3,
         "transactions": [],
         "url": "https://www.yelp.ca/biz/synergy-victoria?adjust_creative=6IbiNCiVo8peFiWj0BRPDg&utm_campaign=yelp_api_v3&utm_medium=api_v3_business_search&utm_source=6IbiNCiVo8peFiWj0BRPDg"
        },
        {
         "alias": "juniper-family-health-victoria",
         "categories": [
          {
           "alias": "naturopathic",
           "title": "Naturopathic/Holistic"
          },
          {
           "alias": "acupuncture",
           "title": "Acupuncture"
          },
          {
           "alias": "chiropractors",
           "title": "Chiropractors"
          }
         ],
         "coordinates": {
          "latitude": 48.4239,
          "longitude": -123.3534
         },
         "display_phone": "(778) 265-8340",
         "distance": 1435.6559066773896,
         "id": "UOajI9hib9FZkWxgqZNIVQ",
         "image_url": "https://s3-media2.fl.yelpcdn.com/bphoto/vOsXOEL434TT_JukLT_7DA/o.jpg",
         "is_closed": false,
         "location": {
          "address1": "1175 Cook Street",
          "address2": "Suite 314",
          "address3": "",
          "city": "Victoria",
          "country": "CA",
          "display_address": [
           "1175 Cook Street",
           "Suite 314",
           "Victoria, BC V8V 4A1"
          ],
          "state": "BC",
          "zip_code": "V8V 4A1"
         },
         "name": "Juniper Family Health",
         "phone": "+17782658340",
         "rating": 5,
         "review_count": 2,
         "transactions": [],
         "url": "https://www.yelp.ca/biz/juniper-family-health-victoria?adjust_creative=6IbiNCiVo8peFiWj0BRPDg&utm_campaign=yelp_api_v3&utm_medium=api_v3_business_search&utm_source=6IbiNCiVo8peFiWj0BRPDg"
        },
        {
         "alias": "atlas-health-therapy-victoria",
         "categories": [
          {
           "alias": "acupuncture",
           "title": "Acupuncture"
          },
          {
           "alias": "chiropractors",
           "title": "Chiropractors"
          },
          {
           "alias": "massage_therapy",
           "title": "Massage Therapy"
          }
         ],
         "coordinates": {
          "latitude": 48.42625,
          "longitude": -123.36859
         },
         "display_phone": "(250) 590-6187",
         "distance": 856.0869837706948,
         "id": "4_tsmG1TGInu-5qdAW-Iiw",
         "image_url": "https://s3-media3.fl.yelpcdn.com/bphoto/Q28eZtwNhhKQbl4PhvIwCg/o.jpg",
         "is_closed": false,
         "location": {
          "address1": "1A-1218 Langley St",
          "address2": "",
          "address3": "",
          "city": "Victoria",
          "country": "CA",
          "display_address": [
           "1A-1218 Langley St",
           "Victoria, BC V8W 1W2"
          ],
          "state": "BC",
          "zip_code": "V8W 1W2"
         },
         "name": "Atlas Health Therapy",
         "phone": "+12505906187",
         "rating": 4,
         "review_count": 3,
         "transactions": [],
         "url": "https://www.yelp.ca/biz/atlas-health-therapy-victoria?adjust_creative=6IbiNCiVo8peFiWj0BRPDg&utm_campaign=yelp_api_v3&utm_medium=api_v3_business_search&utm_source=6IbiNCiVo8peFiWj0BRPDg"
        },
        {
         "alias": "mind-body-spine-victoria",
         "categories": [
          {
           "alias": "chiropractors",
           "title": "Chiropractors"
          }
         ],
         "coordinates": {
          "latitude": 48.4583054,
          "longitude": -123.3756332
         },
         "display_phone": "(250) 885-2320",
         "distance": 2958.3317154445435,
         "id": "5beWxRP1PkAfOmZ3Tq-CEg",
         "image_url": "https://s3-media1.fl.yelpcdn.com/bphoto/BQ_uruoOYHaTHIa1jJxkiw/o.jpg",
         "is_closed": false,
         "location": {
          "address1": "771 Vernon Avenue",
          "address2": "Suite 308",
          "address3": "",
          "city": "Victoria",
          "country": "CA",
          "display_address": [
           "771 Vernon Avenue",
           "Suite 308",
           "Victoria, BC V8X 5A7"
          ],
          "state": "BC",
          "zip_code": "V8X 5A7"
         },
         "name": "Mind Body Spine",
         "phone": "+12508852320",
         "rating": 4.5,
         "review_count": 2,
         "transactions": [],
         "url": "https://www.yelp.ca/biz/mind-body-spine-victoria?adjust_creative=6IbiNCiVo8peFiWj0BRPDg&utm_campaign=yelp_api_v3&utm_medium=api_v3_business_search&utm_source=6IbiNCiVo8peFiWj0BRPDg"
        },
        {
         "alias": "murray-chiropractic-group-victoria",
         "categories": [
          {
           "alias": "chiropractors",
           "title": "Chiropractors"
          }
         ],
         "coordinates": {
          "latitude": 48.486363,
          "longitude": -123.381871
         },
         "display_phone": "(250) 881-7881",
         "distance": 5969.325907569478,
         "id": "U01CPuKUYFauRu7IwEHNug",
         "image_url": "https://s3-media2.fl.yelpcdn.com/bphoto/5PGAdsE1lmsvkyWoBZCsaw/o.jpg",
         "is_closed": false,
         "location": {
          "address1": "105-4400 Chatterton Way",
          "address2": "",
          "address3": "",
          "city": "Victoria",
          "country": "CA",
          "display_address": [
           "105-4400 Chatterton Way",
           "Victoria, BC V8X 5J2"
          ],
          "state": "BC",
          "zip_code": "V8X 5J2"
         },
         "name": "Murray Chiropractic Group",
         "phone": "+12508817881",
         "rating": 5,
         "review_count": 1,
         "transactions": [],
         "url": "https://www.yelp.ca/biz/murray-chiropractic-group-victoria?adjust_creative=6IbiNCiVo8peFiWj0BRPDg&utm_campaign=yelp_api_v3&utm_medium=api_v3_business_search&utm_source=6IbiNCiVo8peFiWj0BRPDg"
        },
        {
         "alias": "the-athlete-centre-victoria",
         "categories": [
          {
           "alias": "physicaltherapy",
           "title": "Physical Therapy"
          },
          {
           "alias": "chiropractors",
           "title": "Chiropractors"
          },
          {
           "alias": "massage_therapy",
           "title": "Massage Therapy"
          }
         ],
         "coordinates": {
          "latitude": 48.45866885966792,
          "longitude": -123.3790591
         },
         "display_phone": "(250) 885-8405",
         "distance": 2938.351092509022,
         "id": "c6QnVazzUSogi3hL6y40mw",
         "image_url": "https://s3-media1.fl.yelpcdn.com/bphoto/KYJmXPsjwD1-NpCTIml_HA/o.jpg",
         "is_closed": false,
         "location": {
          "address1": "3795 Carey Road",
          "address2": "Suite 102",
          "address3": "",
          "city": "Victoria",
          "country": "CA",
          "display_address": [
           "3795 Carey Road",
           "Suite 102",
           "Victoria, BC V8Z 6T8"
          ],
          "state": "BC",
          "zip_code": "V8Z 6T8"
         },
         "name": "The Athlete Centre",
         "phone": "+12508858405",
         "rating": 5,
         "review_count": 1,
         "transactions": [],
         "url": "https://www.yelp.ca/biz/the-athlete-centre-victoria?adjust_creative=6IbiNCiVo8peFiWj0BRPDg&utm_campaign=yelp_api_v3&utm_medium=api_v3_business_search&utm_source=6IbiNCiVo8peFiWj0BRPDg"
        },
        {
         "alias": "wholistic-chiropractic-and-wellness-victoria-2",
         "categories": [
          {
           "alias": "chiropractors",
           "title": "Chiropractors"
          },
          {
           "alias": "acupuncture",
           "title": "Acupuncture"
          },
          {
           "alias": "massage_therapy",
           "title": "Massage Therapy"
          }
         ],
         "coordinates": {
          "latitude": 48.42672,
          "longitude": -123.31445
         },
         "display_phone": "(250) 298-9788",
         "distance": 3856.8902271710763,
         "id": "IeXWxCQvU1R-4QVdWtWBeQ",
         "image_url": "https://s3-media3.fl.yelpcdn.com/bphoto/FTjklb_G9cZRH0TaTfPtwA/o.jpg",
         "is_closed": false,
         "location": {
          "address1": "2250 Oak Bay Avenue",
          "address2": "Suite 107-108",
          "address3": "",
          "city": "Victoria",
          "country": "CA",
          "display_address": [
           "2250 Oak Bay Avenue",
           "Suite 107-108",
           "Victoria, BC V8R 1G5"
          ],
          "state": "BC",
          "zip_code": "V8R 1G5"
         },
         "name": "Wholistic Chiropractic & Wellness",
         "phone": "+12502989788",
         "rating": 5,
         "review_count": 1,
         "transactions": [],
         "url": "https://www.yelp.ca/biz/wholistic-chiropractic-and-wellness-victoria-2?adjust_creative=6IbiNCiVo8peFiWj0BRPDg&utm_campaign=yelp_api_v3&utm_medium=api_v3_business_search&utm_source=6IbiNCiVo8peFiWj0BRPDg"
        },
        {
         "alias": "emmanuel-parenteau-victoria",
         "categories": [
          {
           "alias": "chiropractors",
           "title": "Chiropractors"
          }
         ],
         "coordinates": {
          "latitude": 48.42671,
          "longitude": -123.3285
         },
         "display_phone": "(250) 589-6325",
         "distance": 2862.7420775490705,
         "id": "MRBcpidjnHmUaMzqvlQyug",
         "image_url": "https://s3-media4.fl.yelpcdn.com/bphoto/caOXpa6xcoV-7EsrT9fhcA/o.jpg",
         "is_closed": false,
         "location": {
          "address1": "1830 Oak Bay Avenue",
          "address2": "Suite 1B",
          "address3": "",
          "city": "Victoria",
          "country": "CA",
          "display_address": [
           "1830 Oak Bay Avenue",
           "Suite 1B",
           "Victoria, BC V8R 6R2"
          ],
          "state": "BC",
          "zip_code": "V8R 6R2"
         },
         "name": "Emmanuel Parenteau",
         "phone": "+12505896325",
         "rating": 5,
         "review_count": 1,
         "transactions": [],
         "url": "https://www.yelp.ca/biz/emmanuel-parenteau-victoria?adjust_creative=6IbiNCiVo8peFiWj0BRPDg&utm_campaign=yelp_api_v3&utm_medium=api_v3_business_search&utm_source=6IbiNCiVo8peFiWj0BRPDg"
        },
        {
         "alias": "richard-kjaer-dc-victoria",
         "categories": [
          {
           "alias": "chiropractors",
           "title": "Chiropractors"
          }
         ],
         "coordinates": {
          "latitude": 48.4719887,
          "longitude": -123.3334732
         },
         "display_phone": "(250) 477-4702",
         "distance": 4853.485395174897,
         "id": "WuvT1n7mfLV0B2bfoOcCqg",
         "image_url": "https://s3-media1.fl.yelpcdn.com/bphoto/c0Rk5Pyx7WHi2aUWJrxjRQ/o.jpg",
         "is_closed": false,
         "location": {
          "address1": "3994 Shelbourne Street",
          "address2": "Suite 206",
          "address3": "",
          "city": "Victoria",
          "country": "CA",
          "display_address": [
           "3994 Shelbourne Street",
           "Suite 206",
           "Victoria, BC V8N 3E2"
          ],
          "state": "BC",
          "zip_code": "V8N 3E2"
         },
         "name": "Richard Kjaer, DC",
         "phone": "+12504774702",
         "rating": 5,
         "review_count": 1,
         "transactions": [],
         "url": "https://www.yelp.ca/biz/richard-kjaer-dc-victoria?adjust_creative=6IbiNCiVo8peFiWj0BRPDg&utm_campaign=yelp_api_v3&utm_medium=api_v3_business_search&utm_source=6IbiNCiVo8peFiWj0BRPDg"
        },
        {
         "alias": "martell-bruce-rmt-victoria",
         "categories": [
          {
           "alias": "massage",
           "title": "Massage"
          },
          {
           "alias": "chiropractors",
           "title": "Chiropractors"
          }
         ],
         "coordinates": {
          "latitude": 48.4255799,
          "longitude": -123.34499
         },
         "display_phone": "(778) 432-2727",
         "distance": 1776.9139539144558,
         "id": "7txG9UgLfPYALUNaDFU4LQ",
         "image_url": "",
         "is_closed": false,
         "location": {
          "address1": "Fernwood Health & Performance",
          "address2": "1405 Fernwood Road",
          "address3": "",
          "city": "Victoria",
          "country": "CA",
          "display_address": [
           "Fernwood Health & Performance",
           "1405 Fernwood Road",
           "Victoria, BC V8V 4P6"
          ],
          "state": "BC",
          "zip_code": "V8V 4P6"
         },
         "name": "Martell Bruce, RMT",
         "phone": "+17784322727",
         "rating": 5,
         "review_count": 1,
         "transactions": [],
         "url": "https://www.yelp.ca/biz/martell-bruce-rmt-victoria?adjust_creative=6IbiNCiVo8peFiWj0BRPDg&utm_campaign=yelp_api_v3&utm_medium=api_v3_business_search&utm_source=6IbiNCiVo8peFiWj0BRPDg"
        },
        {
         "alias": "backfit-clinic-victoria",
         "categories": [
          {
           "alias": "chiropractors",
           "title": "Chiropractors"
          }
         ],
         "coordinates": {
          "latitude": 48.455438328665,
          "longitude": -123.3582798672
         },
         "display_phone": "(250) 477-8143",
         "distance": 2475.4943557798847,
         "id": "YElO8XbhaIMkKJG5a7JAxA",
         "image_url": "https://s3-media2.fl.yelpcdn.com/bphoto/rVOQ0mjprUam-aXUW0aleg/o.jpg",
         "is_closed": false,
         "location": {
          "address1": "3481 Cook Street",
          "address2": "",
          "address3": "",
          "city": "Victoria",
          "country": "CA",
          "display_address": [
           "3481 Cook Street",
           "Victoria, BC V8X 1B3"
          ],
          "state": "BC",
          "zip_code": "V8X 1B3"
         },
         "name": "Backfit Clinic",
         "phone": "+12504778143",
         "rating": 3,
         "review_count": 4,
         "transactions": [],
         "url": "https://www.yelp.ca/biz/backfit-clinic-victoria?adjust_creative=6IbiNCiVo8peFiWj0BRPDg&utm_campaign=yelp_api_v3&utm_medium=api_v3_business_search&utm_source=6IbiNCiVo8peFiWj0BRPDg"
        },
        {
         "alias": "cook-street-village-health-centre-victoria-2",
         "categories": [
          {
           "alias": "massage",
           "title": "Massage"
          },
          {
           "alias": "acupuncture",
           "title": "Acupuncture"
          },
          {
           "alias": "chiropractors",
           "title": "Chiropractors"
          }
         ],
         "coordinates": {
          "latitude": 48.415414,
          "longitude": -123.3566631
         },
         "display_phone": "(250) 477-5433",
         "distance": 2147.4345861459315,
         "id": "VEBzzZJK6kBB5QaNK2gI_g",
         "image_url": "",
         "is_closed": false,
         "location": {
          "address1": "16-1594 Fairfield Road",
          "address2": "",
          "address3": "",
          "city": "Victoria",
          "country": "CA",
          "display_address": [
           "16-1594 Fairfield Road",
           "Victoria, BC V8V 0A1"
          ],
          "state": "BC",
          "zip_code": "V8V 0A1"
         },
         "name": "Cook Street Village Health Centre",
         "phone": "+12504775433",
         "rating": 3,
         "review_count": 2,
         "transactions": [],
         "url": "https://www.yelp.ca/biz/cook-street-village-health-centre-victoria-2?adjust_creative=6IbiNCiVo8peFiWj0BRPDg&utm_campaign=yelp_api_v3&utm_medium=api_v3_business_search&utm_source=6IbiNCiVo8peFiWj0BRPDg"
        },
        {
         "alias": "active-health-and-wellness-clinic-victoria",
         "categories": [
          {
           "alias": "chiropractors",
           "title": "Chiropractors"
          },
          {
           "alias": "acupuncture",
           "title": "Acupuncture"
          },
          {
           "alias": "massage_therapy",
           "title": "Massage Therapy"
          }
         ],
         "coordinates": {
          "latitude": 48.4263745,
          "longitude": -123.3353439
         },
         "display_phone": "(250) 382-7246",
         "distance": 2393.4037337566187,
         "id": "XyFVNQssFZUyGxh7VboZZQ",
         "image_url": "https://s3-media1.fl.yelpcdn.com/bphoto/RnpEtyjjR9moNBdZjre58A/o.jpg",
         "is_closed": false,
         "location": {
          "address1": "1625 Oak Bay Avenue",
          "address2": "Suite 102",
          "address3": "",
          "city": "Victoria",
          "country": "CA",
          "display_address": [
           "1625 Oak Bay Avenue",
           "Suite 102",
           "Victoria, BC V8R 1B1"
          ],
          "state": "BC",
          "zip_code": "V8R 1B1"
         },
         "name": "Active Health & Wellness Clinic",
         "phone": "+12503827246",
         "rating": 3,
         "review_count": 2,
         "transactions": [],
         "url": "https://www.yelp.ca/biz/active-health-and-wellness-clinic-victoria?adjust_creative=6IbiNCiVo8peFiWj0BRPDg&utm_campaign=yelp_api_v3&utm_medium=api_v3_business_search&utm_source=6IbiNCiVo8peFiWj0BRPDg"
        },
        {
         "alias": "coastal-roots-health-centre-victoria",
         "categories": [
          {
           "alias": "chiropractors",
           "title": "Chiropractors"
          },
          {
           "alias": "massage_therapy",
           "title": "Massage Therapy"
          },
          {
           "alias": "acupuncture",
           "title": "Acupuncture"
          }
         ],
         "coordinates": {
          "latitude": 48.44131,
          "longitude": -123.37796
         },
         "display_phone": "(778) 432-4412",
         "distance": 1217.1399749791374,
         "id": "M_m7eF25b8bU7bvLZWWzaQ",
         "image_url": "https://s3-media1.fl.yelpcdn.com/bphoto/YJqPbw42h65SDUwVblqJnA/o.jpg",
         "is_closed": false,
         "location": {
          "address1": "2988 Jutland Rd",
          "address2": null,
          "address3": "",
          "city": "Victoria",
          "country": "CA",
          "display_address": [
           "2988 Jutland Rd",
           "Victoria, BC V8T 5K2"
          ],
          "state": "BC",
          "zip_code": "V8T 5K2"
         },
         "name": "Coastal Roots Health Centre",
         "phone": "+17784324412",
         "rating": 2,
         "review_count": 1,
         "transactions": [],
         "url": "https://www.yelp.ca/biz/coastal-roots-health-centre-victoria?adjust_creative=6IbiNCiVo8peFiWj0BRPDg&utm_campaign=yelp_api_v3&utm_medium=api_v3_business_search&utm_source=6IbiNCiVo8peFiWj0BRPDg"
        },
        {
         "alias": "cedar-hill-sports-therapy-clinic-victoria",
         "categories": [
          {
           "alias": "massage",
           "title": "Massage"
          },
          {
           "alias": "chiropractors",
           "title": "Chiropractors"
          },
          {
           "alias": "physicaltherapy",
           "title": "Physical Therapy"
          }
         ],
         "coordinates": {
          "latitude": 48.46881,
          "longitude": -123.32956
         },
         "display_phone": "(250) 721-3300",
         "distance": 4738.836943896282,
         "id": "wZp1jPTV2tBPtDuwC4l-dQ",
         "image_url": "https://s3-media2.fl.yelpcdn.com/bphoto/wLvDqVNtj_a7DXbhDV6PiA/o.jpg",
         "is_closed": false,
         "location": {
          "address1": "1662 McKenzie Avenue",
          "address2": "Suite 204",
          "address3": "",
          "city": "Victoria",
          "country": "CA",
          "display_address": [
           "1662 McKenzie Avenue",
           "Suite 204",
           "Victoria, BC V8N 0A4"
          ],
          "state": "BC",
          "zip_code": "V8N 0A4"
         },
         "name": "Cedar Hill Sports Therapy Clinic",
         "phone": "+12507213300",
         "rating": 1,
         "review_count": 1,
         "transactions": [],
         "url": "https://www.yelp.ca/biz/cedar-hill-sports-therapy-clinic-victoria?adjust_creative=6IbiNCiVo8peFiWj0BRPDg&utm_campaign=yelp_api_v3&utm_medium=api_v3_business_search&utm_source=6IbiNCiVo8peFiWj0BRPDg"
        }
       ],
       "region": {
        "center": {
         "latitude": 48.43374506446734,
         "longitude": -123.3658218383789
        }
       },
       "total": 18
      },
      "text/plain": [
       "<IPython.core.display.JSON object>"
      ]
     },
     "execution_count": 6,
     "metadata": {
      "application/json": {
       "expanded": false,
       "root": "root"
      }
     },
     "output_type": "execute_result"
    }
   ],
   "source": [
    "# Chiropractor Info from Yelp\n",
    "\n",
    "params_yelp1 = trans_params_yelp('chiropractors', 'Victoria,BC', 'en_CA', '50')\n",
    "res_yelp1 = get_res(base_yelp, path_yelp, headers_yelp, params_yelp1)\n",
    "JSON(res_yelp1)"
   ]
  },
  {
   "cell_type": "code",
   "execution_count": 7,
   "id": "bfc6b7c7-c89a-48af-bee3-7bb456860bc5",
   "metadata": {
    "tags": []
   },
   "outputs": [
    {
     "data": {
      "application/json": {
       "context": {
        "geo_bounds": {
         "circle": {
          "center": {
           "latitude": 48.43294,
           "longitude": -123.3693
          },
          "radius": 2900
         }
        }
       },
       "results": [
        {
         "hours": {
          "display": "Mon-Fri 8:00-21:00; Sat 9:00-21:00; Sun 9:00-18:00",
          "is_local_holiday": false,
          "open_now": true,
          "regular": [
           {
            "close": "2100",
            "day": 1,
            "open": "0800"
           },
           {
            "close": "2100",
            "day": 2,
            "open": "0800"
           },
           {
            "close": "2100",
            "day": 3,
            "open": "0800"
           },
           {
            "close": "2100",
            "day": 4,
            "open": "0800"
           },
           {
            "close": "2100",
            "day": 5,
            "open": "0800"
           },
           {
            "close": "2100",
            "day": 6,
            "open": "0900"
           },
           {
            "close": "1800",
            "day": 7,
            "open": "0900"
           }
          ],
          "seasonal": []
         },
         "location": {
          "address": "491 Burnside Rd E",
          "country": "CA",
          "cross_street": "Frances Ave",
          "formatted_address": "491 Burnside Rd E (Frances Ave), Victoria BC V8T 2X3",
          "locality": "Victoria",
          "neighborhood": [
           "Burnside"
          ],
          "postcode": "V8T 2X3",
          "region": "BC"
         },
         "name": "Bosley's Pet Food Plus",
         "popularity": 0.9245736247898151,
         "rating": 6.3
        },
        {
         "hours": {
          "display": "Open Daily 00:00-23:59",
          "is_local_holiday": false,
          "open_now": true,
          "regular": [
           {
            "close": "2359",
            "day": 1,
            "open": "0000"
           },
           {
            "close": "2359",
            "day": 2,
            "open": "0000"
           },
           {
            "close": "2359",
            "day": 3,
            "open": "0000"
           },
           {
            "close": "2359",
            "day": 4,
            "open": "0000"
           },
           {
            "close": "2359",
            "day": 5,
            "open": "0000"
           },
           {
            "close": "2359",
            "day": 6,
            "open": "0000"
           },
           {
            "close": "2359",
            "day": 7,
            "open": "0000"
           }
          ],
          "seasonal": []
         },
         "location": {
          "address": "2000 Government St",
          "address_extended": "# 8",
          "country": "CA",
          "formatted_address": "2000 Government St, Victoria BC V8T 4P1",
          "locality": "Victoria",
          "neighborhood": [
           "Chinatown"
          ],
          "postcode": "V8T 4P1",
          "region": "BC"
         },
         "name": "Nirvana Pet Resort",
         "popularity": 0.782488589959164
        },
        {
         "hours": {
          "display": "Mon-Fri 6:30-19:00; Sat 9:00-17:30",
          "is_local_holiday": false,
          "open_now": true,
          "regular": [
           {
            "close": "1900",
            "day": 1,
            "open": "0630"
           },
           {
            "close": "1900",
            "day": 2,
            "open": "0630"
           },
           {
            "close": "1900",
            "day": 3,
            "open": "0630"
           },
           {
            "close": "1900",
            "day": 4,
            "open": "0630"
           },
           {
            "close": "1900",
            "day": 5,
            "open": "0630"
           },
           {
            "close": "1730",
            "day": 6,
            "open": "0900"
           }
          ],
          "seasonal": []
         },
         "location": {
          "address": "2021 Douglas St",
          "country": "CA",
          "cross_street": "",
          "formatted_address": "2021 Douglas St, Victoria BC V8T 4K9",
          "locality": "Victoria",
          "neighborhood": [
           "Chinatown"
          ],
          "postcode": "V8T 4K9",
          "region": "BC"
         },
         "name": "Whisker's Urban Ranch Pet Daycamp Co",
         "popularity": 0.8723276483305309
        },
        {
         "hours": {
          "display": "Tue-Sat 10:00-17:30; Sun 11:00-16:30",
          "is_local_holiday": false,
          "open_now": true,
          "regular": [
           {
            "close": "1730",
            "day": 2,
            "open": "1000"
           },
           {
            "close": "1730",
            "day": 3,
            "open": "1000"
           },
           {
            "close": "1730",
            "day": 4,
            "open": "1000"
           },
           {
            "close": "1730",
            "day": 5,
            "open": "1000"
           },
           {
            "close": "1730",
            "day": 6,
            "open": "1000"
           },
           {
            "close": "1630",
            "day": 7,
            "open": "1100"
           }
          ],
          "seasonal": []
         },
         "location": {
          "address": "532 1/2 Fisgard St",
          "address_extended": "# 3",
          "country": "CA",
          "cross_street": "",
          "formatted_address": "532 1/2 Fisgard St, Victoria BC V8W 1R4",
          "locality": "Victoria",
          "neighborhood": [
           "Chinatown"
          ],
          "postcode": "V8W 1R4",
          "region": "BC"
         },
         "name": "High End Dog",
         "popularity": 0.22267595484025943
        },
        {
         "hours": {
          "display": "Mon-Thu 10:00-18:00; Fri 10:00-19:00; Sat 10:30-18:00; Sun 11:00-17:00",
          "is_local_holiday": false,
          "open_now": true,
          "regular": [
           {
            "close": "1800",
            "day": 1,
            "open": "1000"
           },
           {
            "close": "1800",
            "day": 2,
            "open": "1000"
           },
           {
            "close": "1800",
            "day": 3,
            "open": "1000"
           },
           {
            "close": "1800",
            "day": 4,
            "open": "1000"
           },
           {
            "close": "1900",
            "day": 5,
            "open": "1000"
           },
           {
            "close": "1800",
            "day": 6,
            "open": "1030"
           },
           {
            "close": "1700",
            "day": 7,
            "open": "1100"
           }
          ],
          "seasonal": []
         },
         "location": {
          "address": "770 Bay St",
          "address_extended": "# 3",
          "country": "CA",
          "cross_street": "",
          "formatted_address": "770 Bay St, Victoria BC V8T 5E4",
          "locality": "Victoria",
          "neighborhood": [
           "Chinatown"
          ],
          "postcode": "V8T 5E4",
          "region": "BC"
         },
         "name": "Creatures Pet Store",
         "popularity": 0.8731683881815998
        },
        {
         "hours": {
          "is_local_holiday": false,
          "open_now": false,
          "seasonal": []
         },
         "location": {
          "address": "770 Bay St",
          "address_extended": "# 3",
          "country": "CA",
          "cross_street": "btwn Westbourne Pl. & Blanshard St.",
          "formatted_address": "770 Bay St (btwn Westbourne Pl. & Blanshard St.), Victoria BC V8T 5E4",
          "locality": "Victoria",
          "postcode": "V8T 5E4",
          "region": "BC"
         },
         "name": "Creatures Great & Small",
         "popularity": 0.8181599807830892
        },
        {
         "hours": {
          "display": "Mon-Wed 9:30-19:30; Thu-Fri 9:30-20:30; Sat 9:00-18:00",
          "is_local_holiday": false,
          "open_now": true,
          "regular": [
           {
            "close": "1930",
            "day": 1,
            "open": "0930"
           },
           {
            "close": "1930",
            "day": 2,
            "open": "0930"
           },
           {
            "close": "1930",
            "day": 3,
            "open": "0930"
           },
           {
            "close": "2030",
            "day": 4,
            "open": "0930"
           },
           {
            "close": "2030",
            "day": 5,
            "open": "0930"
           },
           {
            "close": "1800",
            "day": 6,
            "open": "0900"
           }
          ],
          "seasonal": []
         },
         "location": {
          "address": "546 Yates St",
          "address_extended": "# 101",
          "country": "CA",
          "cross_street": "",
          "formatted_address": "546 Yates St, Victoria BC V8W 1K8",
          "locality": "Victoria",
          "postcode": "V8W 1K8",
          "region": "BC"
         },
         "name": "Paws & Claws",
         "popularity": 0.6411241892865722
        },
        {
         "hours": {
          "display": "Mon-Sat 10:00-18:00; Sun 12:00-17:00",
          "is_local_holiday": false,
          "open_now": true,
          "regular": [
           {
            "close": "1800",
            "day": 1,
            "open": "1000"
           },
           {
            "close": "1800",
            "day": 2,
            "open": "1000"
           },
           {
            "close": "1800",
            "day": 3,
            "open": "1000"
           },
           {
            "close": "1800",
            "day": 4,
            "open": "1000"
           },
           {
            "close": "1800",
            "day": 5,
            "open": "1000"
           },
           {
            "close": "1800",
            "day": 6,
            "open": "1000"
           },
           {
            "close": "1700",
            "day": 7,
            "open": "1200"
           }
          ],
          "seasonal": []
         },
         "location": {
          "address": "174 Wilson St",
          "address_extended": "# 100",
          "country": "CA",
          "cross_street": "btwn Tyee Rd. & Bay St.",
          "formatted_address": "174 Wilson St (btwn Tyee Rd. & Bay St.), Victoria BC V9A 7N6",
          "locality": "Victoria",
          "neighborhood": [
           "Victoria West"
          ],
          "postcode": "V9A 7N6",
          "region": "BC"
         },
         "name": "Pet Planet",
         "popularity": 0.789694931539755
        },
        {
         "hours": {
          "is_local_holiday": false,
          "open_now": false,
          "seasonal": []
         },
         "location": {
          "address": "712 View St",
          "country": "CA",
          "cross_street": "",
          "formatted_address": "712 View St, Victoria BC V8W 1J8",
          "locality": "Victoria",
          "neighborhood": [
           "Downtown"
          ],
          "postcode": "V8W 1J8",
          "region": "BC"
         },
         "name": "Kritters & Fins Pet Shop",
         "popularity": 0.5371126591400432
        },
        {
         "hours": {
          "display": "Mon-Fri 8:00-20:00; Sat 9:00-18:00; Sun 10:00-18:00",
          "is_local_holiday": false,
          "open_now": true,
          "regular": [
           {
            "close": "2000",
            "day": 1,
            "open": "0800"
           },
           {
            "close": "2000",
            "day": 2,
            "open": "0800"
           },
           {
            "close": "2000",
            "day": 3,
            "open": "0800"
           },
           {
            "close": "2000",
            "day": 4,
            "open": "0800"
           },
           {
            "close": "2000",
            "day": 5,
            "open": "0800"
           },
           {
            "close": "1800",
            "day": 6,
            "open": "0900"
           },
           {
            "close": "1800",
            "day": 7,
            "open": "1000"
           }
          ],
          "seasonal": []
         },
         "location": {
          "address": "911 Yates St",
          "address_extended": "Unit 110",
          "country": "CA",
          "cross_street": "btwn Quadra St & Vancouver St",
          "formatted_address": "911 Yates St (btwn Quadra St & Vancouver St), Victoria BC V8V 4X3",
          "locality": "Victoria",
          "postcode": "V8V 4X3",
          "region": "BC"
         },
         "name": "Bosley's",
         "popularity": 0.8140763872207543
        },
        {
         "hours": {
          "display": "Mon-Fri 9:00-20:00; Sat-Sun 10:00-18:00",
          "is_local_holiday": false,
          "open_now": true,
          "regular": [
           {
            "close": "2000",
            "day": 1,
            "open": "0900"
           },
           {
            "close": "2000",
            "day": 2,
            "open": "0900"
           },
           {
            "close": "2000",
            "day": 3,
            "open": "0900"
           },
           {
            "close": "2000",
            "day": 4,
            "open": "0900"
           },
           {
            "close": "2000",
            "day": 5,
            "open": "0900"
           },
           {
            "close": "1800",
            "day": 6,
            "open": "1000"
           },
           {
            "close": "1800",
            "day": 7,
            "open": "1000"
           }
          ],
          "seasonal": []
         },
         "location": {
          "address": "911 Yates St",
          "address_extended": "# 110",
          "country": "CA",
          "cross_street": "",
          "formatted_address": "911 Yates St, Victoria BC V8V 4X3",
          "locality": "Victoria",
          "postcode": "V8V 4X3",
          "region": "BC"
         },
         "name": "Pet Valu",
         "popularity": 0.8852990631755945
        },
        {
         "hours": {
          "display": "Mon-Sat 10:00-18:00; Sun 10:00-17:00",
          "is_local_holiday": false,
          "open_now": true,
          "regular": [
           {
            "close": "1800",
            "day": 1,
            "open": "1000"
           },
           {
            "close": "1800",
            "day": 2,
            "open": "1000"
           },
           {
            "close": "1800",
            "day": 3,
            "open": "1000"
           },
           {
            "close": "1800",
            "day": 4,
            "open": "1000"
           },
           {
            "close": "1800",
            "day": 5,
            "open": "1000"
           },
           {
            "close": "1800",
            "day": 6,
            "open": "1000"
           },
           {
            "close": "1700",
            "day": 7,
            "open": "1000"
           }
          ],
          "seasonal": []
         },
         "location": {
          "address": "1393 Hillside Ave",
          "country": "CA",
          "cross_street": "",
          "formatted_address": "1393 Hillside Ave, Victoria BC V8T 2B3",
          "locality": "Victoria",
          "neighborhood": [
           "Oaklands"
          ],
          "postcode": "V8T 2B3",
          "region": "BC"
         },
         "name": "Blue World Aquarium Ltd",
         "popularity": 0.8905837136680279
        },
        {
         "hours": {
          "display": "Mon-Fri 8:00-20:00; Sat-Sun 8:00-18:00",
          "is_local_holiday": false,
          "open_now": true,
          "regular": [
           {
            "close": "2000",
            "day": 1,
            "open": "0800"
           },
           {
            "close": "2000",
            "day": 2,
            "open": "0800"
           },
           {
            "close": "2000",
            "day": 3,
            "open": "0800"
           },
           {
            "close": "2000",
            "day": 4,
            "open": "0800"
           },
           {
            "close": "2000",
            "day": 5,
            "open": "0800"
           },
           {
            "close": "1800",
            "day": 6,
            "open": "0800"
           },
           {
            "close": "1800",
            "day": 7,
            "open": "0800"
           }
          ],
          "seasonal": []
         },
         "location": {
          "address": "359 Cook St",
          "country": "CA",
          "cross_street": "",
          "formatted_address": "359 Cook St, Victoria BC V8V 3X8",
          "locality": "Victoria",
          "postcode": "V8V 3X8",
          "region": "BC"
         },
         "name": "Paws on Cook Pet Supplies Inc",
         "popularity": 0.9244535190968052
        },
        {
         "hours": {
          "display": "Tue-Sat 9:00-18:00; Sun 10:00-16:00",
          "is_local_holiday": false,
          "open_now": true,
          "regular": [
           {
            "close": "1800",
            "day": 2,
            "open": "0900"
           },
           {
            "close": "1800",
            "day": 3,
            "open": "0900"
           },
           {
            "close": "1800",
            "day": 4,
            "open": "0900"
           },
           {
            "close": "1800",
            "day": 5,
            "open": "0900"
           },
           {
            "close": "1800",
            "day": 6,
            "open": "0900"
           },
           {
            "close": "1600",
            "day": 7,
            "open": "1000"
           }
          ],
          "seasonal": []
         },
         "location": {
          "address": "1516 Fairfield Rd",
          "address_extended": "# 12",
          "country": "CA",
          "cross_street": "",
          "formatted_address": "1516 Fairfield Rd, Victoria BC V8S 1G1",
          "locality": "Victoria",
          "postcode": "V8S 1G1",
          "region": "BC"
         },
         "name": "The Dog Dish & Friends",
         "popularity": 0.9022339658899832
        },
        {
         "hours": {
          "display": "Mon-Sat 9:00-18:00; Sun 11:00-17:00",
          "is_local_holiday": false,
          "open_now": true,
          "regular": [
           {
            "close": "1800",
            "day": 1,
            "open": "0900"
           },
           {
            "close": "1800",
            "day": 2,
            "open": "0900"
           },
           {
            "close": "1800",
            "day": 3,
            "open": "0900"
           },
           {
            "close": "1800",
            "day": 4,
            "open": "0900"
           },
           {
            "close": "1800",
            "day": 5,
            "open": "0900"
           },
           {
            "close": "1800",
            "day": 6,
            "open": "0900"
           },
           {
            "close": "1700",
            "day": 7,
            "open": "1100"
           }
          ],
          "seasonal": []
         },
         "location": {
          "address": "2019 Cadboro Bay Rd",
          "country": "CA",
          "cross_street": "at Fort St",
          "formatted_address": "2019 Cadboro Bay Rd (at Fort St), Victoria BC V8R 5G4",
          "locality": "Victoria",
          "neighborhood": [
           "South Jubilee"
          ],
          "postcode": "V8R 5G4",
          "region": "BC"
         },
         "name": "A Pet's Life",
         "popularity": 0.8281287533029066
        },
        {
         "hours": {
          "display": "Mon-Fri 9:30-17:30; Sat 10:00-17:00",
          "is_local_holiday": false,
          "open_now": true,
          "regular": [
           {
            "close": "1730",
            "day": 1,
            "open": "0930"
           },
           {
            "close": "1730",
            "day": 2,
            "open": "0930"
           },
           {
            "close": "1730",
            "day": 3,
            "open": "0930"
           },
           {
            "close": "1730",
            "day": 4,
            "open": "0930"
           },
           {
            "close": "1730",
            "day": 5,
            "open": "0930"
           },
           {
            "close": "1700",
            "day": 6,
            "open": "1000"
           }
          ],
          "seasonal": []
         },
         "location": {
          "address": "2041 Oak Bay Ave",
          "country": "CA",
          "cross_street": "Mitchell St",
          "formatted_address": "2041 Oak Bay Ave (Mitchell St), Victoria BC V8R 1E5",
          "locality": "Victoria",
          "neighborhood": [
           "South Jubilee"
          ],
          "postcode": "V8R 1E5",
          "region": "BC"
         },
         "name": "Bark Bath & Beyond Pet Boutique",
         "popularity": 0.9361702127659575
        }
       ]
      },
      "text/plain": [
       "<IPython.core.display.JSON object>"
      ]
     },
     "execution_count": 7,
     "metadata": {
      "application/json": {
       "expanded": false,
       "root": "root"
      }
     },
     "output_type": "execute_result"
    }
   ],
   "source": [
    "# Pet Stores Info from Foursquare\n",
    "\n",
    "params_fs2 = trans_params_fs('17110', 'Victoria,BC', 'name,location,hours,rating,popularity,price', '50')\n",
    "res_fs2 = get_res(base_fs, path_fs, headers_fs, params_fs2)\n",
    "JSON(res_fs2)"
   ]
  },
  {
   "cell_type": "code",
   "execution_count": 8,
   "id": "84497080-c244-4e79-9836-2e93e8c28eae",
   "metadata": {},
   "outputs": [
    {
     "data": {
      "application/json": {
       "businesses": [
        {
         "alias": "kinetic-canine-solutions-victoria",
         "categories": [
          {
           "alias": "groomer",
           "title": "Pet Groomers"
          },
          {
           "alias": "pet_training",
           "title": "Pet Training"
          },
          {
           "alias": "petstore",
           "title": "Pet Stores"
          }
         ],
         "coordinates": {
          "latitude": 48.476921,
          "longitude": -123.3332944
         },
         "display_phone": "(250) 590-8359",
         "distance": 5366.8355937083315,
         "id": "4-rABZGQon4cOizASWa-iw",
         "image_url": "https://s3-media4.fl.yelpcdn.com/bphoto/XLiU1Mj95ZfXgUTxpJDo4A/o.jpg",
         "is_closed": false,
         "location": {
          "address1": "4095 Shelbourne Street",
          "address2": null,
          "address3": "",
          "city": "Victoria",
          "country": "CA",
          "display_address": [
           "4095 Shelbourne Street",
           "Victoria, BC V8N 5Y1"
          ],
          "state": "BC",
          "zip_code": "V8N 5Y1"
         },
         "name": "Kinetic Canine Solutions",
         "phone": "+12505908359",
         "rating": 5,
         "review_count": 3,
         "transactions": [],
         "url": "https://www.yelp.ca/biz/kinetic-canine-solutions-victoria?adjust_creative=6IbiNCiVo8peFiWj0BRPDg&utm_campaign=yelp_api_v3&utm_medium=api_v3_business_search&utm_source=6IbiNCiVo8peFiWj0BRPDg"
        },
        {
         "alias": "the-bone-and-biscuit-victoria",
         "categories": [
          {
           "alias": "petstore",
           "title": "Pet Stores"
          }
         ],
         "coordinates": {
          "latitude": 48.4574397173267,
          "longitude": -123.37485688941
         },
         "display_phone": "(250) 590-2663",
         "distance": 2717.6960016834564,
         "id": "Lv-mPYb2ZvxSJJHwPVWRhw",
         "image_url": "https://s3-media4.fl.yelpcdn.com/bphoto/ar-Z2L_0dh8GFhaEYSZY5Q/o.jpg",
         "is_closed": false,
         "location": {
          "address1": "3571 Blanshard Street",
          "address2": "Suite 105",
          "address3": "",
          "city": "Victoria",
          "country": "CA",
          "display_address": [
           "3571 Blanshard Street",
           "Suite 105",
           "Victoria, BC V8Z 0B9"
          ],
          "state": "BC",
          "zip_code": "V8Z 0B9"
         },
         "name": "The Bone & Biscuit",
         "phone": "+12505902663",
         "rating": 5,
         "review_count": 3,
         "transactions": [],
         "url": "https://www.yelp.ca/biz/the-bone-and-biscuit-victoria?adjust_creative=6IbiNCiVo8peFiWj0BRPDg&utm_campaign=yelp_api_v3&utm_medium=api_v3_business_search&utm_source=6IbiNCiVo8peFiWj0BRPDg"
        },
        {
         "alias": "a-pets-life-victoria",
         "categories": [
          {
           "alias": "petstore",
           "title": "Pet Stores"
          }
         ],
         "coordinates": {
          "latitude": 48.432172,
          "longitude": -123.3217427
         },
         "display_phone": "(250) 592-3301",
         "distance": 3258.919254834374,
         "id": "Cr9W2Anfhtj-x033qL5t9Q",
         "image_url": "https://s3-media2.fl.yelpcdn.com/bphoto/yLTtFVjncWxE4tCIR9prHw/o.jpg",
         "is_closed": false,
         "location": {
          "address1": "2019 Cadboro Bay Rd",
          "address2": "",
          "address3": "",
          "city": "Victoria",
          "country": "CA",
          "display_address": [
           "2019 Cadboro Bay Rd",
           "Victoria, BC V8R 5G4"
          ],
          "state": "BC",
          "zip_code": "V8R 5G4"
         },
         "name": "A Pet's Life",
         "phone": "+12505923301",
         "rating": 5,
         "review_count": 3,
         "transactions": [],
         "url": "https://www.yelp.ca/biz/a-pets-life-victoria?adjust_creative=6IbiNCiVo8peFiWj0BRPDg&utm_campaign=yelp_api_v3&utm_medium=api_v3_business_search&utm_source=6IbiNCiVo8peFiWj0BRPDg"
        },
        {
         "alias": "pets-west-victoria",
         "categories": [
          {
           "alias": "petstore",
           "title": "Pet Stores"
          }
         ],
         "coordinates": {
          "latitude": 48.497451,
          "longitude": -123.382281
         },
         "display_phone": "(250) 744-1779",
         "distance": 7186.963385137406,
         "id": "o8NlgcyX8AUXKDvwbb27Dg",
         "image_url": "https://s3-media3.fl.yelpcdn.com/bphoto/OcGe4naEcjN4fQeano_psw/o.jpg",
         "is_closed": false,
         "location": {
          "address1": "220-777 Royal Oak Dr",
          "address2": "",
          "address3": "",
          "city": "Victoria",
          "country": "CA",
          "display_address": [
           "220-777 Royal Oak Dr",
           "Victoria, BC V8X 4V1"
          ],
          "state": "BC",
          "zip_code": "V8X 4V1"
         },
         "name": "Pets West",
         "phone": "+12507441779",
         "rating": 4.5,
         "review_count": 4,
         "transactions": [],
         "url": "https://www.yelp.ca/biz/pets-west-victoria?adjust_creative=6IbiNCiVo8peFiWj0BRPDg&utm_campaign=yelp_api_v3&utm_medium=api_v3_business_search&utm_source=6IbiNCiVo8peFiWj0BRPDg"
        },
        {
         "alias": "paw-space-pet-boutique-and-spa-victoria",
         "categories": [
          {
           "alias": "groomer",
           "title": "Pet Groomers"
          },
          {
           "alias": "petstore",
           "title": "Pet Stores"
          }
         ],
         "coordinates": {
          "latitude": 48.469501,
          "longitude": -123.363265
         },
         "display_phone": "(778) 265-7297",
         "distance": 3980.343381977678,
         "id": "96Foibaxa3BkkwWO5_r-MA",
         "image_url": "",
         "is_closed": false,
         "location": {
          "address1": "3989 Quadra Street",
          "address2": "Suite 403",
          "address3": null,
          "city": "Victoria",
          "country": "CA",
          "display_address": [
           "3989 Quadra Street",
           "Suite 403",
           "Victoria, BC V8X 1J8"
          ],
          "state": "BC",
          "zip_code": "V8X 1J8"
         },
         "name": "Paw Space Pet Boutique and Spa",
         "phone": "+17782657297",
         "rating": 5,
         "review_count": 2,
         "transactions": [],
         "url": "https://www.yelp.ca/biz/paw-space-pet-boutique-and-spa-victoria?adjust_creative=6IbiNCiVo8peFiWj0BRPDg&utm_campaign=yelp_api_v3&utm_medium=api_v3_business_search&utm_source=6IbiNCiVo8peFiWj0BRPDg"
        },
        {
         "alias": "bark-bath-and-beyond-pet-boutique-victoria",
         "categories": [
          {
           "alias": "groomer",
           "title": "Pet Groomers"
          },
          {
           "alias": "petstore",
           "title": "Pet Stores"
          }
         ],
         "coordinates": {
          "latitude": 48.4263603,
          "longitude": -123.3210712
         },
         "display_phone": "(250) 590-2822",
         "distance": 3402.3475262325574,
         "id": "j3-bTlx0xemgPy7_fAZkAg",
         "image_url": "https://s3-media4.fl.yelpcdn.com/bphoto/unw_JA0intPJ7-3RTumyDQ/o.jpg",
         "is_closed": false,
         "location": {
          "address1": "2041 Oak Bay Avenue",
          "address2": "",
          "address3": "",
          "city": "Victoria",
          "country": "CA",
          "display_address": [
           "2041 Oak Bay Avenue",
           "Victoria, BC V8R 1E5"
          ],
          "state": "BC",
          "zip_code": "V8R 1E5"
         },
         "name": "Bark, Bath & Beyond Pet Boutique",
         "phone": "+12505902822",
         "rating": 4.5,
         "review_count": 3,
         "transactions": [],
         "url": "https://www.yelp.ca/biz/bark-bath-and-beyond-pet-boutique-victoria?adjust_creative=6IbiNCiVo8peFiWj0BRPDg&utm_campaign=yelp_api_v3&utm_medium=api_v3_business_search&utm_source=6IbiNCiVo8peFiWj0BRPDg"
        },
        {
         "alias": "royal-oak-pet-clinic-victoria",
         "categories": [
          {
           "alias": "vet",
           "title": "Veterinarians"
          },
          {
           "alias": "petstore",
           "title": "Pet Stores"
          }
         ],
         "coordinates": {
          "latitude": 48.4929543220873,
          "longitude": -123.388023271164
         },
         "display_phone": "(250) 727-0003",
         "distance": 6784.218987014456,
         "id": "_NA0wVFpGhHEqN7kQiVh6g",
         "image_url": "https://s3-media2.fl.yelpcdn.com/bphoto/SgqogHFLL6UuRLVvE5QOQg/o.jpg",
         "is_closed": false,
         "location": {
          "address1": "101-4478 West Saanich Rd",
          "address2": "",
          "address3": "",
          "city": "Victoria",
          "country": "CA",
          "display_address": [
           "101-4478 West Saanich Rd",
           "Victoria, BC V8Z 3E9"
          ],
          "state": "BC",
          "zip_code": "V8Z 3E9"
         },
         "name": "Royal Oak Pet Clinic",
         "phone": "+12507270003",
         "rating": 4,
         "review_count": 3,
         "transactions": [],
         "url": "https://www.yelp.ca/biz/royal-oak-pet-clinic-victoria?adjust_creative=6IbiNCiVo8peFiWj0BRPDg&utm_campaign=yelp_api_v3&utm_medium=api_v3_business_search&utm_source=6IbiNCiVo8peFiWj0BRPDg"
        },
        {
         "alias": "feltham-gordon-head-pet-clinic-victoria",
         "categories": [
          {
           "alias": "vet",
           "title": "Veterinarians"
          },
          {
           "alias": "petstore",
           "title": "Pet Stores"
          }
         ],
         "coordinates": {
          "latitude": 48.4766254,
          "longitude": -123.3333278
         },
         "display_phone": "(250) 477-4730",
         "distance": 5303.055483512299,
         "id": "ah5o3tqh2c6FdT138j9FLw",
         "image_url": "",
         "is_closed": false,
         "location": {
          "address1": "4082 Shelbourne Street",
          "address2": "",
          "address3": "",
          "city": "Victoria",
          "country": "CA",
          "display_address": [
           "4082 Shelbourne Street",
           "Victoria, BC V8N 2A1"
          ],
          "state": "BC",
          "zip_code": "V8N 2A1"
         },
         "name": "Feltham-Gordon Head Pet Clinic",
         "phone": "+12504774730",
         "rating": 3.5,
         "review_count": 3,
         "transactions": [],
         "url": "https://www.yelp.ca/biz/feltham-gordon-head-pet-clinic-victoria?adjust_creative=6IbiNCiVo8peFiWj0BRPDg&utm_campaign=yelp_api_v3&utm_medium=api_v3_business_search&utm_source=6IbiNCiVo8peFiWj0BRPDg"
        },
        {
         "alias": "bosleys-by-pet-valu-victoria-10",
         "categories": [
          {
           "alias": "petstore",
           "title": "Pet Stores"
          }
         ],
         "coordinates": {
          "latitude": 48.46171,
          "longitude": -123.33219
         },
         "display_phone": "(250) 477-2114",
         "distance": 3994.6517350999056,
         "id": "hgZrVmCeaBI33OxnAMZwzg",
         "image_url": "",
         "is_closed": false,
         "location": {
          "address1": "3749 Shelbourne Street",
          "address2": "#215",
          "address3": "",
          "city": "Victoria",
          "country": "CA",
          "display_address": [
           "3749 Shelbourne Street",
           "#215",
           "Victoria, BC V8P 5N4"
          ],
          "state": "BC",
          "zip_code": "V8P 5N4"
         },
         "name": "Bosley's by Pet Valu",
         "phone": "+12504772114",
         "rating": 3.5,
         "review_count": 4,
         "transactions": [],
         "url": "https://www.yelp.ca/biz/bosleys-by-pet-valu-victoria-10?adjust_creative=6IbiNCiVo8peFiWj0BRPDg&utm_campaign=yelp_api_v3&utm_medium=api_v3_business_search&utm_source=6IbiNCiVo8peFiWj0BRPDg"
        },
        {
         "alias": "petsmart-victoria-6",
         "categories": [
          {
           "alias": "groomer",
           "title": "Pet Groomers"
          },
          {
           "alias": "petstore",
           "title": "Pet Stores"
          },
          {
           "alias": "pet_training",
           "title": "Pet Training"
          }
         ],
         "coordinates": {
          "latitude": 48.4555318,
          "longitude": -123.3728727
         },
         "display_phone": "(250) 381-2859",
         "distance": 2462.981436761238,
         "id": "GTJktDmNRBFNlwVBFgs02Q",
         "image_url": "https://s3-media3.fl.yelpcdn.com/bphoto/jgfHW0brj5n_J4obgWJT1A/o.jpg",
         "is_closed": false,
         "location": {
          "address1": "3501 Blanshard St",
          "address2": "Ste 10",
          "address3": null,
          "city": "Victoria",
          "country": "CA",
          "display_address": [
           "3501 Blanshard St",
           "Ste 10",
           "Victoria, BC V8Z 0B9"
          ],
          "state": "BC",
          "zip_code": "V8Z 0B9"
         },
         "name": "PetSmart",
         "phone": "+12503812859",
         "rating": 3.5,
         "review_count": 3,
         "transactions": [],
         "url": "https://www.yelp.ca/biz/petsmart-victoria-6?adjust_creative=6IbiNCiVo8peFiWj0BRPDg&utm_campaign=yelp_api_v3&utm_medium=api_v3_business_search&utm_source=6IbiNCiVo8peFiWj0BRPDg"
        },
        {
         "alias": "borden-mercantile-victoria",
         "categories": [
          {
           "alias": "petstore",
           "title": "Pet Stores"
          }
         ],
         "coordinates": {
          "latitude": 48.468802,
          "longitude": -123.361416
         },
         "display_phone": "(250) 479-2084",
         "distance": 3911.6681746612,
         "id": "Z0VCy-CXNqsuqfie4QdIMw",
         "image_url": "https://s3-media1.fl.yelpcdn.com/bphoto/AxiKzNbTAzDn4hWenFmURw/o.jpg",
         "is_closed": false,
         "location": {
          "address1": "3960 Borden St",
          "address2": "",
          "address3": "",
          "city": "Victoria",
          "country": "CA",
          "display_address": [
           "3960 Borden St",
           "Victoria, BC V8P 3H8"
          ],
          "state": "BC",
          "zip_code": "V8P 3H8"
         },
         "name": "Borden Mercantile",
         "phone": "+12504792084",
         "rating": 5,
         "review_count": 1,
         "transactions": [],
         "url": "https://www.yelp.ca/biz/borden-mercantile-victoria?adjust_creative=6IbiNCiVo8peFiWj0BRPDg&utm_campaign=yelp_api_v3&utm_medium=api_v3_business_search&utm_source=6IbiNCiVo8peFiWj0BRPDg"
        },
        {
         "alias": "wild-birds-unlimited-victoria-2",
         "categories": [
          {
           "alias": "petstore",
           "title": "Pet Stores"
          }
         ],
         "coordinates": {
          "latitude": 48.4594615,
          "longitude": -123.3323292
         },
         "display_phone": "(250) 595-3595",
         "distance": 3778.819700192912,
         "id": "M8fqBrRdvqjEj0HK-AYM6g",
         "image_url": "",
         "is_closed": false,
         "location": {
          "address1": "3631 Shelbourne Street",
          "address2": "",
          "address3": "",
          "city": "Victoria",
          "country": "CA",
          "display_address": [
           "3631 Shelbourne Street",
           "Victoria, BC V8P 4H1"
          ],
          "state": "BC",
          "zip_code": "V8P 4H1"
         },
         "name": "Wild Birds Unlimited",
         "phone": "+12505953595",
         "rating": 5,
         "review_count": 1,
         "transactions": [],
         "url": "https://www.yelp.ca/biz/wild-birds-unlimited-victoria-2?adjust_creative=6IbiNCiVo8peFiWj0BRPDg&utm_campaign=yelp_api_v3&utm_medium=api_v3_business_search&utm_source=6IbiNCiVo8peFiWj0BRPDg"
        },
        {
         "alias": "paws-on-cook-victoria",
         "categories": [
          {
           "alias": "petstore",
           "title": "Pet Stores"
          }
         ],
         "coordinates": {
          "latitude": 48.41348840000001,
          "longitude": -123.3573947
         },
         "display_phone": "(250) 888-9399",
         "distance": 2336.6983841719107,
         "id": "us30zvV_z9q5tosNIsR9zQ",
         "image_url": "https://s3-media3.fl.yelpcdn.com/bphoto/qBlWny8vum5oFn5tADnf4w/o.jpg",
         "is_closed": false,
         "location": {
          "address1": "200 Cook Street",
          "address2": "Suite 111",
          "address3": "",
          "city": "Victoria",
          "country": "CA",
          "display_address": [
           "200 Cook Street",
           "Suite 111",
           "Victoria, BC V8V 3X1"
          ],
          "state": "BC",
          "zip_code": "V8V 3X1"
         },
         "name": "Paws On Cook",
         "phone": "+12508889399",
         "rating": 5,
         "review_count": 1,
         "transactions": [],
         "url": "https://www.yelp.ca/biz/paws-on-cook-victoria?adjust_creative=6IbiNCiVo8peFiWj0BRPDg&utm_campaign=yelp_api_v3&utm_medium=api_v3_business_search&utm_source=6IbiNCiVo8peFiWj0BRPDg"
        },
        {
         "alias": "creatures-pet-store-victoria",
         "categories": [
          {
           "alias": "petstore",
           "title": "Pet Stores"
          },
          {
           "alias": "petadoption",
           "title": "Pet Adoption"
          }
         ],
         "coordinates": {
          "latitude": 48.436224,
          "longitude": -123.3635228
         },
         "display_phone": "(250) 382-3329",
         "distance": 323.64735108982654,
         "id": "DKDBW8g2TfgOSEysGZdfYg",
         "image_url": "https://s3-media4.fl.yelpcdn.com/bphoto/8f51V77GROtNimsjFLIFtA/o.jpg",
         "is_closed": false,
         "location": {
          "address1": "3-770 Bay Street",
          "address2": "",
          "address3": "",
          "city": "Victoria",
          "country": "CA",
          "display_address": [
           "3-770 Bay Street",
           "Victoria, BC V8T 5E4"
          ],
          "state": "BC",
          "zip_code": "V8T 5E4"
         },
         "name": "Creatures Pet Store",
         "phone": "+12503823329",
         "rating": 2.5,
         "review_count": 9,
         "transactions": [],
         "url": "https://www.yelp.ca/biz/creatures-pet-store-victoria?adjust_creative=6IbiNCiVo8peFiWj0BRPDg&utm_campaign=yelp_api_v3&utm_medium=api_v3_business_search&utm_source=6IbiNCiVo8peFiWj0BRPDg"
        },
        {
         "alias": "mrpets-victoria-2",
         "categories": [
          {
           "alias": "petadoption",
           "title": "Pet Adoption"
          },
          {
           "alias": "petstore",
           "title": "Pet Stores"
          },
          {
           "alias": "groomer",
           "title": "Pet Groomers"
          }
         ],
         "coordinates": {
          "latitude": 48.45338,
          "longitude": -123.39504
         },
         "display_phone": "(250) 380-7990",
         "distance": 3149.020962887608,
         "id": "cc1Klt6w3jxcMP6XGzZ7OA",
         "image_url": "https://s3-media1.fl.yelpcdn.com/bphoto/HywVj4ESp7ilfME8E0hotQ/o.jpg",
         "is_closed": false,
         "location": {
          "address1": "10-3170 Tillicum Road",
          "address2": "",
          "address3": "",
          "city": "Victoria",
          "country": "CA",
          "display_address": [
           "10-3170 Tillicum Road",
           "Victoria, BC V9A 7C5"
          ],
          "state": "BC",
          "zip_code": "V9A 7C5"
         },
         "name": "MrPets",
         "phone": "+12503807990",
         "rating": 2.5,
         "review_count": 6,
         "transactions": [],
         "url": "https://www.yelp.ca/biz/mrpets-victoria-2?adjust_creative=6IbiNCiVo8peFiWj0BRPDg&utm_campaign=yelp_api_v3&utm_medium=api_v3_business_search&utm_source=6IbiNCiVo8peFiWj0BRPDg"
        },
        {
         "alias": "bosleys-by-pet-valu-victoria-3",
         "categories": [
          {
           "alias": "petstore",
           "title": "Pet Stores"
          }
         ],
         "coordinates": {
          "latitude": 48.42505,
          "longitude": -123.35768
         },
         "display_phone": "(250) 590-4745",
         "distance": 1045.7004238088086,
         "id": "bHFnfsyT_nTYqKnpcErfZA",
         "image_url": "https://s3-media1.fl.yelpcdn.com/bphoto/PNgV-uVBzN1e08T4Vmzo2Q/o.jpg",
         "is_closed": false,
         "location": {
          "address1": "911 Yates Street",
          "address2": "#110",
          "address3": null,
          "city": "Victoria",
          "country": "CA",
          "display_address": [
           "911 Yates Street",
           "#110",
           "Victoria, BC V8W 2E1"
          ],
          "state": "BC",
          "zip_code": "V8W 2E1"
         },
         "name": "Bosley's by Pet Valu",
         "phone": "+12505904745",
         "rating": 2.5,
         "review_count": 4,
         "transactions": [],
         "url": "https://www.yelp.ca/biz/bosleys-by-pet-valu-victoria-3?adjust_creative=6IbiNCiVo8peFiWj0BRPDg&utm_campaign=yelp_api_v3&utm_medium=api_v3_business_search&utm_source=6IbiNCiVo8peFiWj0BRPDg"
        },
        {
         "alias": "bosleys-by-pet-valu-victoria-9",
         "categories": [
          {
           "alias": "petstore",
           "title": "Pet Stores"
          },
          {
           "alias": "petadoption",
           "title": "Pet Adoption"
          }
         ],
         "coordinates": {
          "latitude": 48.49275,
          "longitude": -123.38766
         },
         "display_phone": "(250) 744-1125",
         "distance": 6788.384409822876,
         "id": "eq8uZ_Hhj52caf-XCTbqww",
         "image_url": "",
         "is_closed": false,
         "location": {
          "address1": "4478 West Saanich Road",
          "address2": "#104",
          "address3": null,
          "city": "Victoria",
          "country": "CA",
          "display_address": [
           "4478 West Saanich Road",
           "#104",
           "Victoria, BC V8Z 3E9"
          ],
          "state": "BC",
          "zip_code": "V8Z 3E9"
         },
         "name": "Bosley's by Pet Valu",
         "phone": "+12507441125",
         "rating": 4,
         "review_count": 1,
         "transactions": [],
         "url": "https://www.yelp.ca/biz/bosleys-by-pet-valu-victoria-9?adjust_creative=6IbiNCiVo8peFiWj0BRPDg&utm_campaign=yelp_api_v3&utm_medium=api_v3_business_search&utm_source=6IbiNCiVo8peFiWj0BRPDg"
        },
        {
         "alias": "paws-and-claws-victoria",
         "categories": [
          {
           "alias": "petstore",
           "title": "Pet Stores"
          }
         ],
         "coordinates": {
          "latitude": 48.4269283,
          "longitude": -123.3688116
         },
         "display_phone": "(250) 381-1755",
         "distance": 789.4339928672593,
         "id": "t9mSPndnXJNVZvXcJfdvaA",
         "image_url": "",
         "is_closed": false,
         "location": {
          "address1": "546 Yates Street",
          "address2": "",
          "address3": "",
          "city": "Victoria",
          "country": "CA",
          "display_address": [
           "546 Yates Street",
           "Victoria, BC V8W 1K8"
          ],
          "state": "BC",
          "zip_code": "V8W 1K8"
         },
         "name": "Paws and Claws",
         "phone": "+12503811755",
         "rating": 3,
         "review_count": 2,
         "transactions": [],
         "url": "https://www.yelp.ca/biz/paws-and-claws-victoria?adjust_creative=6IbiNCiVo8peFiWj0BRPDg&utm_campaign=yelp_api_v3&utm_medium=api_v3_business_search&utm_source=6IbiNCiVo8peFiWj0BRPDg"
        },
        {
         "alias": "bosleys-by-pet-valu-victoria-4",
         "categories": [
          {
           "alias": "petstore",
           "title": "Pet Stores"
          },
          {
           "alias": "petadoption",
           "title": "Pet Adoption"
          },
          {
           "alias": "groomer",
           "title": "Pet Groomers"
          }
         ],
         "coordinates": {
          "latitude": 48.44463,
          "longitude": -123.37589
         },
         "display_phone": "(250) 385-6411",
         "distance": 1427.0056590123738,
         "id": "-Uy_6M6cbnYXu7Y8JYkoqw",
         "image_url": "",
         "is_closed": false,
         "location": {
          "address1": "491 East Burnside Road",
          "address2": "",
          "address3": "",
          "city": "Victoria",
          "country": "CA",
          "display_address": [
           "491 East Burnside Road",
           "Victoria, BC V8T 2X3"
          ],
          "state": "BC",
          "zip_code": "V8T 2X3"
         },
         "name": "Bosley's by Pet Valu",
         "phone": "+12503856411",
         "rating": 1,
         "review_count": 1,
         "transactions": [],
         "url": "https://www.yelp.ca/biz/bosleys-by-pet-valu-victoria-4?adjust_creative=6IbiNCiVo8peFiWj0BRPDg&utm_campaign=yelp_api_v3&utm_medium=api_v3_business_search&utm_source=6IbiNCiVo8peFiWj0BRPDg"
        }
       ],
       "region": {
        "center": {
         "latitude": 48.43374506446734,
         "longitude": -123.3658218383789
        }
       },
       "total": 19
      },
      "text/plain": [
       "<IPython.core.display.JSON object>"
      ]
     },
     "execution_count": 8,
     "metadata": {
      "application/json": {
       "expanded": false,
       "root": "root"
      }
     },
     "output_type": "execute_result"
    }
   ],
   "source": [
    "# Pet Stores Info from Yelp\n",
    "\n",
    "params_yelp2 = trans_params_yelp('petstore', 'Victoria,BC', 'en_CA', '50')\n",
    "res_yelp2 = get_res(base_yelp, path_yelp, headers_yelp, params_yelp2)\n",
    "JSON(res_yelp2)"
   ]
  },
  {
   "cell_type": "code",
   "execution_count": 9,
   "id": "8c85c24a-03bb-4574-8e80-30a1e770cc13",
   "metadata": {},
   "outputs": [
    {
     "data": {
      "application/json": {
       "context": {
        "geo_bounds": {
         "circle": {
          "center": {
           "latitude": 48.43294,
           "longitude": -123.3693
          },
          "radius": 2900
         }
        }
       },
       "results": [
        {
         "hours": {
          "display": "Tue-Sat 11:30-15:00, 17:00-21:00; Sun 12:00-15:00, 17:00-20:00",
          "is_local_holiday": false,
          "open_now": true,
          "regular": [
           {
            "close": "1500",
            "day": 2,
            "open": "1130"
           },
           {
            "close": "2100",
            "day": 2,
            "open": "1700"
           },
           {
            "close": "1500",
            "day": 3,
            "open": "1130"
           },
           {
            "close": "2100",
            "day": 3,
            "open": "1700"
           },
           {
            "close": "1500",
            "day": 4,
            "open": "1130"
           },
           {
            "close": "2100",
            "day": 4,
            "open": "1700"
           },
           {
            "close": "1500",
            "day": 5,
            "open": "1130"
           },
           {
            "close": "2100",
            "day": 5,
            "open": "1700"
           },
           {
            "close": "1500",
            "day": 6,
            "open": "1130"
           },
           {
            "close": "2100",
            "day": 6,
            "open": "1700"
           },
           {
            "close": "1500",
            "day": 7,
            "open": "1200"
           },
           {
            "close": "2000",
            "day": 7,
            "open": "1700"
           }
          ],
          "seasonal": []
         },
         "location": {
          "address": "617 Johnson St",
          "country": "CA",
          "cross_street": "Broad Street",
          "formatted_address": "617 Johnson St (Broad Street), Victoria BC V8W 1M5",
          "locality": "Victoria",
          "neighborhood": [
           "Downtown"
          ],
          "postcode": "V8W 1M5",
          "region": "BC"
         },
         "name": "Lotus Pond Vegetarian Restaurant",
         "popularity": 0.893706461686284,
         "price": 2,
         "rating": 8.2
        },
        {
         "hours": {
          "display": "Tue-Sat 11:00-14:00, 16:30-20:30",
          "is_local_holiday": false,
          "open_now": true,
          "regular": [
           {
            "close": "1400",
            "day": 2,
            "open": "1100"
           },
           {
            "close": "2030",
            "day": 2,
            "open": "1630"
           },
           {
            "close": "1400",
            "day": 3,
            "open": "1100"
           },
           {
            "close": "2030",
            "day": 3,
            "open": "1630"
           },
           {
            "close": "1400",
            "day": 4,
            "open": "1100"
           },
           {
            "close": "2030",
            "day": 4,
            "open": "1630"
           },
           {
            "close": "1400",
            "day": 5,
            "open": "1100"
           },
           {
            "close": "2030",
            "day": 5,
            "open": "1630"
           },
           {
            "close": "1400",
            "day": 6,
            "open": "1100"
           },
           {
            "close": "2030",
            "day": 6,
            "open": "1630"
           }
          ],
          "seasonal": []
         },
         "location": {
          "address": "1012 Fort St",
          "country": "CA",
          "cross_street": "btwn Vancouver St & Cook St",
          "formatted_address": "1012 Fort St (btwn Vancouver St & Cook St), Victoria BC V8V 3K4",
          "locality": "Victoria",
          "neighborhood": [
           "Harris Green"
          ],
          "postcode": "V8V 3K4",
          "region": "BC"
         },
         "name": "J & J Wonton Noodle House",
         "popularity": 0.9406677876531347,
         "price": 1,
         "rating": 7.9
        },
        {
         "hours": {
          "display": "Tue-Sat 11:00-20:00",
          "is_local_holiday": false,
          "open_now": true,
          "regular": [
           {
            "close": "2000",
            "day": 2,
            "open": "1100"
           },
           {
            "close": "2000",
            "day": 3,
            "open": "1100"
           },
           {
            "close": "2000",
            "day": 4,
            "open": "1100"
           },
           {
            "close": "2000",
            "day": 5,
            "open": "1100"
           },
           {
            "close": "2000",
            "day": 6,
            "open": "1100"
           }
          ],
          "seasonal": []
         },
         "location": {
          "address": "1313 Douglas St",
          "country": "CA",
          "cross_street": "",
          "formatted_address": "1313 Douglas St, Victoria BC V8W 2E9",
          "locality": "Victoria",
          "neighborhood": [
           "Downtown"
          ],
          "postcode": "V8W 2E9",
          "region": "BC"
         },
         "name": "Hope Key Restaurant",
         "popularity": 0.899231323564737,
         "price": 4,
         "rating": 6.9
        },
        {
         "hours": {
          "display": "Mon-Wed 11:00-15:00; Thu-Fri 11:00-21:00; Sat-Sun 11:00-17:30",
          "is_local_holiday": false,
          "open_now": true,
          "regular": [
           {
            "close": "1500",
            "day": 1,
            "open": "1100"
           },
           {
            "close": "1500",
            "day": 2,
            "open": "1100"
           },
           {
            "close": "1500",
            "day": 3,
            "open": "1100"
           },
           {
            "close": "2100",
            "day": 4,
            "open": "1100"
           },
           {
            "close": "2100",
            "day": 5,
            "open": "1100"
           },
           {
            "close": "1730",
            "day": 6,
            "open": "1100"
           },
           {
            "close": "1730",
            "day": 7,
            "open": "1100"
           }
          ],
          "seasonal": []
         },
         "location": {
          "address": "564 Fisgard St",
          "country": "CA",
          "cross_street": "",
          "formatted_address": "564 Fisgard St, Victoria BC V8W 1R4",
          "locality": "Victoria",
          "neighborhood": [
           "Downtown"
          ],
          "postcode": "V8W 1R4",
          "region": "BC"
         },
         "name": "I Kyu Noodles",
         "popularity": 0.8636800384338218,
         "price": 1,
         "rating": 6.8
        },
        {
         "hours": {
          "display": "Open Daily 11:00-22:00",
          "is_local_holiday": false,
          "open_now": true,
          "regular": [
           {
            "close": "2200",
            "day": 1,
            "open": "1100"
           },
           {
            "close": "2200",
            "day": 2,
            "open": "1100"
           },
           {
            "close": "2200",
            "day": 3,
            "open": "1100"
           },
           {
            "close": "2200",
            "day": 4,
            "open": "1100"
           },
           {
            "close": "2200",
            "day": 5,
            "open": "1100"
           },
           {
            "close": "2200",
            "day": 6,
            "open": "1100"
           },
           {
            "close": "2200",
            "day": 7,
            "open": "1100"
           }
          ],
          "seasonal": []
         },
         "location": {
          "address": "549 Fisgard St",
          "country": "CA",
          "cross_street": "btwn Store & Government St.",
          "formatted_address": "549 Fisgard St (btwn Store & Government St.), Victoria BC V8W 1R5",
          "locality": "Victoria",
          "neighborhood": [
           "Downtown"
          ],
          "postcode": "V8W 1R5",
          "region": "BC"
         },
         "name": "Fan-Tan Cafe",
         "popularity": 0.9517175114100408,
         "price": 2,
         "rating": 6.2
        },
        {
         "hours": {
          "display": "Open Daily 10:30-14:30, 17:00-21:00",
          "is_local_holiday": false,
          "open_now": true,
          "regular": [
           {
            "close": "1430",
            "day": 1,
            "open": "1030"
           },
           {
            "close": "2100",
            "day": 1,
            "open": "1700"
           },
           {
            "close": "1430",
            "day": 2,
            "open": "1030"
           },
           {
            "close": "2100",
            "day": 2,
            "open": "1700"
           },
           {
            "close": "1430",
            "day": 3,
            "open": "1030"
           },
           {
            "close": "2100",
            "day": 3,
            "open": "1700"
           },
           {
            "close": "1430",
            "day": 4,
            "open": "1030"
           },
           {
            "close": "2100",
            "day": 4,
            "open": "1700"
           },
           {
            "close": "1430",
            "day": 5,
            "open": "1030"
           },
           {
            "close": "2100",
            "day": 5,
            "open": "1700"
           },
           {
            "close": "1430",
            "day": 6,
            "open": "1030"
           },
           {
            "close": "2100",
            "day": 6,
            "open": "1700"
           },
           {
            "close": "1430",
            "day": 7,
            "open": "1030"
           },
           {
            "close": "2100",
            "day": 7,
            "open": "1700"
           }
          ],
          "seasonal": []
         },
         "location": {
          "address": "721 Fisgard St",
          "country": "CA",
          "cross_street": "",
          "formatted_address": "721 Fisgard St, Victoria BC V8W 1R8",
          "locality": "Victoria",
          "neighborhood": [
           "Chinatown"
          ],
          "postcode": "V8W 1R8",
          "region": "BC"
         },
         "name": "Golden City Restaurant",
         "popularity": 0.8690847946192649,
         "price": 1,
         "rating": 5.8
        },
        {
         "hours": {
          "display": "Open Daily 11:00-12:00",
          "is_local_holiday": false,
          "open_now": false,
          "regular": [
           {
            "close": "1200",
            "day": 1,
            "open": "1100"
           },
           {
            "close": "1200",
            "day": 2,
            "open": "1100"
           },
           {
            "close": "1200",
            "day": 3,
            "open": "1100"
           },
           {
            "close": "1200",
            "day": 4,
            "open": "1100"
           },
           {
            "close": "1200",
            "day": 5,
            "open": "1100"
           },
           {
            "close": "1200",
            "day": 6,
            "open": "1100"
           },
           {
            "close": "1200",
            "day": 7,
            "open": "1100"
           }
          ],
          "seasonal": []
         },
         "location": {
          "address": "538 Fisgard St",
          "country": "CA",
          "cross_street": "at Government St",
          "formatted_address": "538 Fisgard St (at Government St), Victoria BC V8W 1R4",
          "locality": "Victoria",
          "neighborhood": [
           "Downtown"
          ],
          "postcode": "V8W 1R4",
          "region": "BC"
         },
         "name": "Don Mee Chinese Seafood Restaurant",
         "popularity": 0.9543598366562575,
         "price": 2,
         "rating": 5.7
        },
        {
         "hours": {
          "display": "Open Daily 00:00-1:00, 11:00-14:30, 16:30-23:59",
          "is_local_holiday": false,
          "open_now": true,
          "regular": [
           {
            "close": "0100",
            "day": 1,
            "open": "0000"
           },
           {
            "close": "1430",
            "day": 1,
            "open": "1100"
           },
           {
            "close": "2359",
            "day": 1,
            "open": "1630"
           },
           {
            "close": "0100",
            "day": 2,
            "open": "0000"
           },
           {
            "close": "1430",
            "day": 2,
            "open": "1100"
           },
           {
            "close": "2359",
            "day": 2,
            "open": "1630"
           },
           {
            "close": "0100",
            "day": 3,
            "open": "0000"
           },
           {
            "close": "1430",
            "day": 3,
            "open": "1100"
           },
           {
            "close": "2359",
            "day": 3,
            "open": "1630"
           },
           {
            "close": "0100",
            "day": 4,
            "open": "0000"
           },
           {
            "close": "1430",
            "day": 4,
            "open": "1100"
           },
           {
            "close": "2359",
            "day": 4,
            "open": "1630"
           },
           {
            "close": "0100",
            "day": 5,
            "open": "0000"
           },
           {
            "close": "1430",
            "day": 5,
            "open": "1100"
           },
           {
            "close": "2359",
            "day": 5,
            "open": "1630"
           },
           {
            "close": "0100",
            "day": 6,
            "open": "0000"
           },
           {
            "close": "1430",
            "day": 6,
            "open": "1100"
           },
           {
            "close": "2359",
            "day": 6,
            "open": "1630"
           },
           {
            "close": "0100",
            "day": 7,
            "open": "0000"
           },
           {
            "close": "1430",
            "day": 7,
            "open": "1100"
           },
           {
            "close": "2359",
            "day": 7,
            "open": "1630"
           }
          ],
          "seasonal": []
         },
         "location": {
          "address": "2680 Blanshard St",
          "address_extended": "# 4",
          "country": "CA",
          "formatted_address": "2680 Blanshard St, Victoria BC V8T 5E1",
          "locality": "Victoria",
          "neighborhood": [
           "Burnside"
          ],
          "postcode": "V8T 5E1",
          "region": "BC"
         },
         "name": "Fountain Restaurant",
         "popularity": 0.6402834494355032,
         "price": 1,
         "rating": 5.1
        },
        {
         "hours": {
          "display": "Tue-Thu 12:00-19:00; Fri-Sun 12:00-20:00",
          "is_local_holiday": false,
          "open_now": true,
          "regular": [
           {
            "close": "1900",
            "day": 2,
            "open": "1200"
           },
           {
            "close": "1900",
            "day": 3,
            "open": "1200"
           },
           {
            "close": "1900",
            "day": 4,
            "open": "1200"
           },
           {
            "close": "2000",
            "day": 5,
            "open": "1200"
           },
           {
            "close": "2000",
            "day": 6,
            "open": "1200"
           },
           {
            "close": "2000",
            "day": 7,
            "open": "1200"
           }
          ],
          "seasonal": []
         },
         "location": {
          "address": "546 Fisgard St",
          "country": "CA",
          "cross_street": "",
          "formatted_address": "546 Fisgard St, Victoria BC V8W",
          "locality": "Victoria",
          "postcode": "V8W",
          "region": "BC"
         },
         "name": "Little Yunnan Restaurant",
         "popularity": 0.8674033149171271,
         "price": 1
        },
        {
         "hours": {
          "is_local_holiday": false,
          "open_now": false,
          "seasonal": []
         },
         "location": {
          "address": "546 Fisgard St",
          "country": "CA",
          "cross_street": "",
          "formatted_address": "546 Fisgard St, Victoria BC V8W 1R4",
          "locality": "Victoria",
          "neighborhood": [
           "Downtown"
          ],
          "postcode": "V8W 1R4",
          "region": "BC"
         },
         "name": "Dynasty Restaurant",
         "popularity": 0.37136680278645207,
         "price": 1
        },
        {
         "hours": {
          "display": "Tue-Sun 10:00-20:00",
          "is_local_holiday": false,
          "open_now": true,
          "regular": [
           {
            "close": "2000",
            "day": 2,
            "open": "1000"
           },
           {
            "close": "2000",
            "day": 3,
            "open": "1000"
           },
           {
            "close": "2000",
            "day": 4,
            "open": "1000"
           },
           {
            "close": "2000",
            "day": 5,
            "open": "1000"
           },
           {
            "close": "2000",
            "day": 6,
            "open": "1000"
           },
           {
            "close": "2000",
            "day": 7,
            "open": "1000"
           }
          ],
          "seasonal": []
         },
         "location": {
          "address": "560 Fisgard St",
          "country": "CA",
          "cross_street": "Government Street",
          "formatted_address": "560 Fisgard St (Government Street), Victoria BC V8W 1R4",
          "locality": "Victoria",
          "neighborhood": [
           "Downtown"
          ],
          "postcode": "V8W 1R4",
          "region": "BC"
         },
         "name": "Wah Lai Yuen Restaurant",
         "popularity": 0.919889502762431,
         "price": 1
        },
        {
         "hours": {
          "is_local_holiday": false,
          "open_now": false,
          "seasonal": []
         },
         "location": {
          "address": "548 Fisgard St",
          "country": "CA",
          "cross_street": "",
          "formatted_address": "548 Fisgard St, Victoria BC V8W 1R4",
          "locality": "Victoria",
          "postcode": "V8W 1R4",
          "region": "BC"
         },
         "name": "Shanghai City",
         "popularity": 0.06545760269036752,
         "price": 1
        },
        {
         "hours": {
          "display": "Mon-Fri 10:00-19:00; Sat-Sun 9:00-18:00",
          "is_local_holiday": false,
          "open_now": false,
          "regular": [
           {
            "close": "1900",
            "day": 1,
            "open": "1000"
           },
           {
            "close": "1900",
            "day": 2,
            "open": "1000"
           },
           {
            "close": "1900",
            "day": 3,
            "open": "1000"
           },
           {
            "close": "1900",
            "day": 4,
            "open": "1000"
           },
           {
            "close": "1900",
            "day": 5,
            "open": "1000"
           },
           {
            "close": "1800",
            "day": 6,
            "open": "0900"
           },
           {
            "close": "1800",
            "day": 7,
            "open": "0900"
           }
          ],
          "seasonal": []
         },
         "location": {
          "address": "612 Fisgard St",
          "country": "CA",
          "cross_street": "",
          "formatted_address": "612 Fisgard St, Victoria BC V8W 1R6",
          "locality": "Victoria",
          "neighborhood": [
           "Downtown"
          ],
          "postcode": "V8W 1R6",
          "region": "BC"
         },
         "name": "Forum Chinese Seafood Restaurant",
         "popularity": 0.8526303146769156,
         "price": 1
        },
        {
         "hours": {
          "display": "Tue-Fri 11:00-20:00",
          "is_local_holiday": false,
          "open_now": true,
          "regular": [
           {
            "close": "2000",
            "day": 2,
            "open": "1100"
           },
           {
            "close": "2000",
            "day": 3,
            "open": "1100"
           },
           {
            "close": "2000",
            "day": 4,
            "open": "1100"
           },
           {
            "close": "2000",
            "day": 5,
            "open": "1100"
           }
          ],
          "seasonal": []
         },
         "location": {
          "address": "780 Fisgard St",
          "address_extended": "# 140",
          "country": "CA",
          "cross_street": "",
          "formatted_address": "780 Fisgard St, Victoria BC V8W 0E1",
          "locality": "Victoria",
          "neighborhood": [
           "Victoria"
          ],
          "postcode": "V8W 0E1",
          "region": "BC"
         },
         "name": "Ox King Noodles",
         "popularity": 0.9164064376651453,
         "price": 1
        },
        {
         "hours": {
          "display": "Mon-Sat 11:00-14:30, 16:30-21:30; Sun 16:00-21:30",
          "is_local_holiday": false,
          "open_now": true,
          "regular": [
           {
            "close": "1430",
            "day": 1,
            "open": "1100"
           },
           {
            "close": "2130",
            "day": 1,
            "open": "1630"
           },
           {
            "close": "1430",
            "day": 2,
            "open": "1100"
           },
           {
            "close": "2130",
            "day": 2,
            "open": "1630"
           },
           {
            "close": "1430",
            "day": 3,
            "open": "1100"
           },
           {
            "close": "2130",
            "day": 3,
            "open": "1630"
           },
           {
            "close": "1430",
            "day": 4,
            "open": "1100"
           },
           {
            "close": "2130",
            "day": 4,
            "open": "1630"
           },
           {
            "close": "1430",
            "day": 5,
            "open": "1100"
           },
           {
            "close": "2130",
            "day": 5,
            "open": "1630"
           },
           {
            "close": "1430",
            "day": 6,
            "open": "1100"
           },
           {
            "close": "2130",
            "day": 6,
            "open": "1630"
           },
           {
            "close": "2130",
            "day": 7,
            "open": "1600"
           }
          ],
          "seasonal": []
         },
         "location": {
          "address": "823 Bay St",
          "country": "CA",
          "cross_street": "",
          "formatted_address": "823 Bay St, Victoria BC V8T 1R3",
          "locality": "Victoria",
          "neighborhood": [
           "Chinatown"
          ],
          "postcode": "V8T 1R3",
          "region": "BC"
         },
         "name": "John's Noodle Village",
         "popularity": 0.8838577948594764,
         "price": 2
        },
        {
         "hours": {
          "display": "Tue-Sun 11:30-14:00, 16:30-21:00",
          "is_local_holiday": false,
          "open_now": true,
          "regular": [
           {
            "close": "1400",
            "day": 2,
            "open": "1130"
           },
           {
            "close": "2100",
            "day": 2,
            "open": "1630"
           },
           {
            "close": "1400",
            "day": 3,
            "open": "1130"
           },
           {
            "close": "2100",
            "day": 3,
            "open": "1630"
           },
           {
            "close": "1400",
            "day": 4,
            "open": "1130"
           },
           {
            "close": "2100",
            "day": 4,
            "open": "1630"
           },
           {
            "close": "1400",
            "day": 5,
            "open": "1130"
           },
           {
            "close": "2100",
            "day": 5,
            "open": "1630"
           },
           {
            "close": "1400",
            "day": 6,
            "open": "1130"
           },
           {
            "close": "2100",
            "day": 6,
            "open": "1630"
           },
           {
            "close": "1400",
            "day": 7,
            "open": "1130"
           },
           {
            "close": "2100",
            "day": 7,
            "open": "1630"
           }
          ],
          "seasonal": []
         },
         "location": {
          "address": "853 Caledonia Ave",
          "country": "CA",
          "cross_street": "",
          "formatted_address": "853 Caledonia Ave, Victoria BC V8T 1E6",
          "locality": "Victoria",
          "neighborhood": [
           "Chinatown"
          ],
          "postcode": "V8T 1E6",
          "region": "BC"
         },
         "name": "Szechuan Restaurant",
         "popularity": 0.9076387220754264,
         "price": 2
        },
        {
         "hours": {
          "display": "Mon-Wed 10:00-18:00; Thu-Fri 10:00-21:00; Sat-Sun 10:00-18:00",
          "is_local_holiday": false,
          "open_now": true,
          "regular": [
           {
            "close": "1800",
            "day": 1,
            "open": "1000"
           },
           {
            "close": "1800",
            "day": 2,
            "open": "1000"
           },
           {
            "close": "1800",
            "day": 3,
            "open": "1000"
           },
           {
            "close": "2100",
            "day": 4,
            "open": "1000"
           },
           {
            "close": "2100",
            "day": 5,
            "open": "1000"
           },
           {
            "close": "1800",
            "day": 6,
            "open": "1000"
           },
           {
            "close": "1800",
            "day": 7,
            "open": "1000"
           }
          ],
          "seasonal": []
         },
         "location": {
          "address": "1150 Douglas St",
          "address_extended": "# 434",
          "country": "CA",
          "cross_street": "in The Bay Centre",
          "formatted_address": "1150 Douglas St (in The Bay Centre), Victoria BC V8W 3M9",
          "locality": "Victoria",
          "neighborhood": [
           "Downtown"
          ],
          "postcode": "V8W 3M9",
          "region": "BC"
         },
         "name": "Sizzling Wok",
         "popularity": 0.4819841460485227,
         "price": 1
        },
        {
         "hours": {
          "is_local_holiday": false,
          "open_now": false,
          "seasonal": []
         },
         "location": {
          "address": "768 Fort St",
          "country": "CA",
          "cross_street": "btwn Douglas & Blanshard",
          "formatted_address": "768 Fort St (btwn Douglas & Blanshard), Victoria BC V8W 1H2",
          "locality": "Victoria",
          "neighborhood": [
           "Downtown Victoria"
          ],
          "postcode": "V8W 1H2",
          "region": "BC"
         },
         "name": "Real Taste of India",
         "popularity": 0.625390343502282,
         "price": 2
        },
        {
         "hours": {
          "display": "Mon-Sat 11:00-19:00",
          "is_local_holiday": false,
          "open_now": false,
          "regular": [
           {
            "close": "1900",
            "day": 1,
            "open": "1100"
           },
           {
            "close": "1900",
            "day": 2,
            "open": "1100"
           },
           {
            "close": "1900",
            "day": 3,
            "open": "1100"
           },
           {
            "close": "1900",
            "day": 4,
            "open": "1100"
           },
           {
            "close": "1900",
            "day": 5,
            "open": "1100"
           },
           {
            "close": "1900",
            "day": 6,
            "open": "1100"
           }
          ],
          "seasonal": []
         },
         "location": {
          "address": "774 Fort St",
          "country": "CA",
          "cross_street": "Btwn Douglas and Blanshard",
          "formatted_address": "774 Fort St (Btwn Douglas and Blanshard), Victoria BC V8W 1H2",
          "locality": "Victoria",
          "neighborhood": [
           "Downtown"
          ],
          "postcode": "V8W 1H2",
          "region": "BC"
         },
         "name": "La Tea Ah! Tea House",
         "popularity": 0.7554648090319481,
         "price": 2
        },
        {
         "hours": {
          "display": "Mon-Sat 11:30-14:30, 16:30-20:30; Sun 16:30-20:30",
          "is_local_holiday": false,
          "open_now": true,
          "regular": [
           {
            "close": "1430",
            "day": 1,
            "open": "1130"
           },
           {
            "close": "2030",
            "day": 1,
            "open": "1630"
           },
           {
            "close": "1430",
            "day": 2,
            "open": "1130"
           },
           {
            "close": "2030",
            "day": 2,
            "open": "1630"
           },
           {
            "close": "1430",
            "day": 3,
            "open": "1130"
           },
           {
            "close": "2030",
            "day": 3,
            "open": "1630"
           },
           {
            "close": "1430",
            "day": 4,
            "open": "1130"
           },
           {
            "close": "2030",
            "day": 4,
            "open": "1630"
           },
           {
            "close": "1430",
            "day": 5,
            "open": "1130"
           },
           {
            "close": "2030",
            "day": 5,
            "open": "1630"
           },
           {
            "close": "1430",
            "day": 6,
            "open": "1130"
           },
           {
            "close": "2030",
            "day": 6,
            "open": "1630"
           },
           {
            "close": "2030",
            "day": 7,
            "open": "1630"
           }
          ],
          "seasonal": []
         },
         "location": {
          "address": "769 Fort St",
          "country": "CA",
          "cross_street": "",
          "formatted_address": "769 Fort St, Victoria BC V8W 1G9",
          "locality": "Victoria",
          "neighborhood": [
           "Downtown"
          ],
          "postcode": "V8W 1G9",
          "region": "BC"
         },
         "name": "Beijing Bistro",
         "popularity": 0.7970213788133558,
         "price": 1
        },
        {
         "hours": {
          "display": "Mon-Sat 11:30-14:00, 17:00-21:00; Sun 17:00-21:00",
          "is_local_holiday": false,
          "open_now": true,
          "regular": [
           {
            "close": "1400",
            "day": 1,
            "open": "1130"
           },
           {
            "close": "2100",
            "day": 1,
            "open": "1700"
           },
           {
            "close": "1400",
            "day": 2,
            "open": "1130"
           },
           {
            "close": "2100",
            "day": 2,
            "open": "1700"
           },
           {
            "close": "1400",
            "day": 3,
            "open": "1130"
           },
           {
            "close": "2100",
            "day": 3,
            "open": "1700"
           },
           {
            "close": "1400",
            "day": 4,
            "open": "1130"
           },
           {
            "close": "2100",
            "day": 4,
            "open": "1700"
           },
           {
            "close": "1400",
            "day": 5,
            "open": "1130"
           },
           {
            "close": "2100",
            "day": 5,
            "open": "1700"
           },
           {
            "close": "1400",
            "day": 6,
            "open": "1130"
           },
           {
            "close": "2100",
            "day": 6,
            "open": "1700"
           },
           {
            "close": "2100",
            "day": 7,
            "open": "1700"
           }
          ],
          "seasonal": []
         },
         "location": {
          "address": "1839 Cook St",
          "country": "CA",
          "cross_street": "",
          "formatted_address": "1839 Cook St, Victoria BC V8T 3P5",
          "locality": "Victoria",
          "neighborhood": [
           "Fernwood"
          ],
          "postcode": "V8T 3P5",
          "region": "BC"
         },
         "name": "Little Thai Place",
         "popularity": 0.8704059572423732,
         "price": 2
        },
        {
         "hours": {
          "display": "Tue-Sun 11:00-22:00",
          "is_local_holiday": false,
          "open_now": true,
          "regular": [
           {
            "close": "2200",
            "day": 2,
            "open": "1100"
           },
           {
            "close": "2200",
            "day": 3,
            "open": "1100"
           },
           {
            "close": "2200",
            "day": 4,
            "open": "1100"
           },
           {
            "close": "2200",
            "day": 5,
            "open": "1100"
           },
           {
            "close": "2200",
            "day": 6,
            "open": "1100"
           },
           {
            "close": "2200",
            "day": 7,
            "open": "1100"
           }
          ],
          "seasonal": []
         },
         "location": {
          "address": "1515 Cook St",
          "country": "CA",
          "formatted_address": "1515 Cook St, Victoria BC V8T 5E5",
          "locality": "Victoria",
          "neighborhood": [
           "Harris Green"
          ],
          "postcode": "V8T 5E5",
          "region": "BC"
         },
         "name": "Sun Wah Chinese Restaurant",
         "popularity": 0.9220514052366082,
         "price": 1
        },
        {
         "hours": {
          "display": "Tue-Sun 15:00-21:30",
          "is_local_holiday": false,
          "open_now": false,
          "regular": [
           {
            "close": "2130",
            "day": 2,
            "open": "1500"
           },
           {
            "close": "2130",
            "day": 3,
            "open": "1500"
           },
           {
            "close": "2130",
            "day": 4,
            "open": "1500"
           },
           {
            "close": "2130",
            "day": 5,
            "open": "1500"
           },
           {
            "close": "2130",
            "day": 6,
            "open": "1500"
           },
           {
            "close": "2130",
            "day": 7,
            "open": "1500"
           }
          ],
          "seasonal": []
         },
         "location": {
          "address": "405 Craigflower Rd",
          "country": "CA",
          "cross_street": "at Raynor Ave",
          "formatted_address": "405 Craigflower Rd (at Raynor Ave), Victoria BC V9A 2V7",
          "locality": "Victoria",
          "neighborhood": [
           "Victoria West"
          ],
          "postcode": "V9A 2V7",
          "region": "BC"
         },
         "name": "Crown Palace Chinese Restaurant",
         "popularity": 0.9173672832092241,
         "price": 2
        },
        {
         "hours": {
          "display": "Open Daily 11:30-21:00",
          "is_local_holiday": false,
          "open_now": true,
          "regular": [
           {
            "close": "2100",
            "day": 1,
            "open": "1130"
           },
           {
            "close": "2100",
            "day": 2,
            "open": "1130"
           },
           {
            "close": "2100",
            "day": 3,
            "open": "1130"
           },
           {
            "close": "2100",
            "day": 4,
            "open": "1130"
           },
           {
            "close": "2100",
            "day": 5,
            "open": "1130"
           },
           {
            "close": "2100",
            "day": 6,
            "open": "1130"
           },
           {
            "close": "2100",
            "day": 7,
            "open": "1130"
           }
          ],
          "seasonal": []
         },
         "location": {
          "address": "211 Menzies St",
          "country": "CA",
          "cross_street": "",
          "formatted_address": "211 Menzies St, Victoria BC V8V 2G6",
          "locality": "Victoria",
          "neighborhood": [
           "James Bay"
          ],
          "postcode": "V8V 2G6",
          "region": "BC"
         },
         "name": "James Bay Fish & Chips",
         "popularity": 0.8229642085034831,
         "price": 1
        },
        {
         "hours": {
          "display": "Open Daily 11:00-14:30, 16:00-21:00",
          "is_local_holiday": false,
          "open_now": true,
          "regular": [
           {
            "close": "1430",
            "day": 1,
            "open": "1100"
           },
           {
            "close": "2100",
            "day": 1,
            "open": "1600"
           },
           {
            "close": "1430",
            "day": 2,
            "open": "1100"
           },
           {
            "close": "2100",
            "day": 2,
            "open": "1600"
           },
           {
            "close": "1430",
            "day": 3,
            "open": "1100"
           },
           {
            "close": "2100",
            "day": 3,
            "open": "1600"
           },
           {
            "close": "1430",
            "day": 4,
            "open": "1100"
           },
           {
            "close": "2100",
            "day": 4,
            "open": "1600"
           },
           {
            "close": "1430",
            "day": 5,
            "open": "1100"
           },
           {
            "close": "2100",
            "day": 5,
            "open": "1600"
           },
           {
            "close": "1430",
            "day": 6,
            "open": "1100"
           },
           {
            "close": "2100",
            "day": 6,
            "open": "1600"
           },
           {
            "close": "1430",
            "day": 7,
            "open": "1100"
           },
           {
            "close": "2100",
            "day": 7,
            "open": "1600"
           }
          ],
          "seasonal": []
         },
         "location": {
          "address": "110 Burnside Rd E",
          "country": "CA",
          "cross_street": "at Harriet Rd.",
          "formatted_address": "110 Burnside Rd E (at Harriet Rd.), Victoria BC V9A 1A2",
          "locality": "Victoria",
          "neighborhood": [
           "Rudd Park"
          ],
          "postcode": "V9A 1A2",
          "region": "BC"
         },
         "name": "Szechuan City",
         "popularity": 0.8618421052631579,
         "price": 1
        },
        {
         "hours": {
          "display": "Thu 16:00-23:59; Fri-Sun 11:30-14:30, 16:00-23:59",
          "is_local_holiday": false,
          "open_now": true,
          "regular": [
           {
            "close": "2359",
            "day": 4,
            "open": "1600"
           },
           {
            "close": "1430",
            "day": 5,
            "open": "1130"
           },
           {
            "close": "2359",
            "day": 5,
            "open": "1600"
           },
           {
            "close": "1430",
            "day": 6,
            "open": "1130"
           },
           {
            "close": "2359",
            "day": 6,
            "open": "1600"
           },
           {
            "close": "1430",
            "day": 7,
            "open": "1130"
           },
           {
            "close": "2359",
            "day": 7,
            "open": "1600"
           }
          ],
          "seasonal": []
         },
         "location": {
          "address": "2888 Belmont Ave",
          "country": "CA",
          "cross_street": "",
          "formatted_address": "2888 Belmont Ave, Victoria BC V8R 6T3",
          "locality": "Victoria",
          "neighborhood": [
           "Oaklands"
          ],
          "postcode": "V8R 6T3",
          "region": "BC"
         },
         "name": "East Garden Restaurant",
         "popularity": 0.8227239971174634,
         "price": 1
        },
        {
         "hours": {
          "display": "Mon-Fri 10:00-19:00; Sat-Sun 9:00-18:00",
          "is_local_holiday": false,
          "open_now": true,
          "regular": [
           {
            "close": "1900",
            "day": 1,
            "open": "1000"
           },
           {
            "close": "1900",
            "day": 2,
            "open": "1000"
           },
           {
            "close": "1900",
            "day": 3,
            "open": "1000"
           },
           {
            "close": "1900",
            "day": 4,
            "open": "1000"
           },
           {
            "close": "1900",
            "day": 5,
            "open": "1000"
           },
           {
            "close": "1800",
            "day": 6,
            "open": "0900"
           },
           {
            "close": "1800",
            "day": 7,
            "open": "0900"
           }
          ],
          "seasonal": []
         },
         "location": {
          "address": "1609D Fort St",
          "address_extended": "Suite D",
          "country": "CA",
          "cross_street": "",
          "formatted_address": "1609D Fort St, Victoria BC V8R 1H8",
          "locality": "Victoria",
          "neighborhood": [
           "Jubilee"
          ],
          "postcode": "V8R 1H8",
          "region": "BC"
         },
         "name": "Dragon Gate Restaurant",
         "popularity": 0.40307470574105214,
         "price": 1
        },
        {
         "hours": {
          "is_local_holiday": false,
          "open_now": false,
          "seasonal": []
         },
         "location": {
          "address": "1644 Hillside Ave",
          "address_extended": "# 203",
          "country": "CA",
          "cross_street": "",
          "formatted_address": "1644 Hillside Ave, Victoria BC V8T 2C5",
          "locality": "Victoria",
          "neighborhood": [
           "Sears"
          ],
          "postcode": "V8T 2C5",
          "region": "BC"
         },
         "name": "Fortune Wok",
         "popularity": 0.8828969493153975,
         "price": 1
        },
        {
         "hours": {
          "display": "Open Daily 11:00-23:00",
          "is_local_holiday": false,
          "open_now": true,
          "regular": [
           {
            "close": "2300",
            "day": 1,
            "open": "1100"
           },
           {
            "close": "2300",
            "day": 2,
            "open": "1100"
           },
           {
            "close": "2300",
            "day": 3,
            "open": "1100"
           },
           {
            "close": "2300",
            "day": 4,
            "open": "1100"
           },
           {
            "close": "2300",
            "day": 5,
            "open": "1100"
           },
           {
            "close": "2300",
            "day": 6,
            "open": "1100"
           },
           {
            "close": "2300",
            "day": 7,
            "open": "1100"
           }
          ],
          "seasonal": []
         },
         "location": {
          "address": "1644 Hillside Ave",
          "address_extended": "# 203",
          "country": "CA",
          "cross_street": "btwn Shelbourne St & Doncaster Dr",
          "formatted_address": "1644 Hillside Ave (btwn Shelbourne St & Doncaster Dr), Victoria BC V8T 2C5",
          "locality": "Victoria",
          "neighborhood": [
           "Oaklands"
          ],
          "postcode": "V8T 2C5",
          "region": "BC"
         },
         "name": "Kung Pao Wok",
         "popularity": 0.16670670189766995,
         "price": 1
        },
        {
         "hours": {
          "display": "Mon-Fri 11:30-14:00, 16:30-21:00; Sat-Sun 16:30-21:00",
          "is_local_holiday": false,
          "open_now": true,
          "regular": [
           {
            "close": "1400",
            "day": 1,
            "open": "1130"
           },
           {
            "close": "2100",
            "day": 1,
            "open": "1630"
           },
           {
            "close": "1400",
            "day": 2,
            "open": "1130"
           },
           {
            "close": "2100",
            "day": 2,
            "open": "1630"
           },
           {
            "close": "1400",
            "day": 3,
            "open": "1130"
           },
           {
            "close": "2100",
            "day": 3,
            "open": "1630"
           },
           {
            "close": "1400",
            "day": 4,
            "open": "1130"
           },
           {
            "close": "2100",
            "day": 4,
            "open": "1630"
           },
           {
            "close": "1400",
            "day": 5,
            "open": "1130"
           },
           {
            "close": "2100",
            "day": 5,
            "open": "1630"
           },
           {
            "close": "2100",
            "day": 6,
            "open": "1630"
           },
           {
            "close": "2100",
            "day": 7,
            "open": "1630"
           }
          ],
          "seasonal": []
         },
         "location": {
          "address": "1807 Fort St",
          "country": "CA",
          "cross_street": "near Richmond",
          "formatted_address": "1807 Fort St (near Richmond), Victoria BC V8R 1J6",
          "locality": "Victoria",
          "neighborhood": [
           "South Jubilee"
          ],
          "postcode": "V8R 1J6",
          "region": "BC"
         },
         "name": "Hongkong West Restaurant",
         "popularity": 0.9108815757866923,
         "price": 1
        },
        {
         "hours": {
          "display": "Tue-Fri 11:00-15:00, 16:00-21:00; Sat-Sun 12:00-15:00, 16:00-21:00",
          "is_local_holiday": false,
          "open_now": true,
          "regular": [
           {
            "close": "1500",
            "day": 2,
            "open": "1100"
           },
           {
            "close": "2100",
            "day": 2,
            "open": "1600"
           },
           {
            "close": "1500",
            "day": 3,
            "open": "1100"
           },
           {
            "close": "2100",
            "day": 3,
            "open": "1600"
           },
           {
            "close": "1500",
            "day": 4,
            "open": "1100"
           },
           {
            "close": "2100",
            "day": 4,
            "open": "1600"
           },
           {
            "close": "1500",
            "day": 5,
            "open": "1100"
           },
           {
            "close": "2100",
            "day": 5,
            "open": "1600"
           },
           {
            "close": "1500",
            "day": 6,
            "open": "1200"
           },
           {
            "close": "2100",
            "day": 6,
            "open": "1600"
           },
           {
            "close": "1500",
            "day": 7,
            "open": "1200"
           },
           {
            "close": "2100",
            "day": 7,
            "open": "1600"
           }
          ],
          "seasonal": []
         },
         "location": {
          "address": "1950A Oak Bay Ave",
          "country": "CA",
          "cross_street": "at Amphion St.",
          "formatted_address": "1950A Oak Bay Ave (at Amphion St.), Victoria BC V8R 1C9",
          "locality": "Victoria",
          "neighborhood": [
           "South Jubilee"
          ],
          "postcode": "V8R 1C9",
          "region": "BC"
         },
         "name": "Restaurant Mee Wah",
         "popularity": 0.20598126351189047
        }
       ]
      },
      "text/plain": [
       "<IPython.core.display.JSON object>"
      ]
     },
     "execution_count": 9,
     "metadata": {
      "application/json": {
       "expanded": false,
       "root": "root"
      }
     },
     "output_type": "execute_result"
    }
   ],
   "source": [
    "# Chinese Restaurants Info from Foursquare\n",
    "\n",
    "params_fs3 = trans_params_fs('13099', 'Victoria,BC', 'name,location,hours,rating,popularity,price', '50')\n",
    "res_fs3 = get_res(base_fs, path_fs, headers_fs, params_fs3)\n",
    "JSON(res_fs3)"
   ]
  },
  {
   "cell_type": "code",
   "execution_count": 10,
   "id": "35ed0f8e-2fd9-4aff-afdf-369242df7cc2",
   "metadata": {},
   "outputs": [
    {
     "data": {
      "application/json": {
       "businesses": [
        {
         "alias": "little-yunnan-restaurant-victoria",
         "categories": [
          {
           "alias": "asianfusion",
           "title": "Asian Fusion"
          },
          {
           "alias": "chinese",
           "title": "Chinese"
          },
          {
           "alias": "noodles",
           "title": "Noodles"
          }
         ],
         "coordinates": {
          "latitude": 48.42962,
          "longitude": -123.3679
         },
         "display_phone": "(778) 269-3507",
         "distance": 498.0335326953114,
         "id": "ECvZvILA80U5vuHWGJgt5Q",
         "image_url": "https://s3-media3.fl.yelpcdn.com/bphoto/ajSwmk0msRuSoqzMoeltYw/o.jpg",
         "is_closed": false,
         "location": {
          "address1": "546 Fisgard St",
          "address2": "",
          "address3": null,
          "city": "Victoria",
          "country": "CA",
          "display_address": [
           "546 Fisgard St",
           "Victoria, BC V8W 1R4"
          ],
          "state": "BC",
          "zip_code": "V8W 1R4"
         },
         "name": "Little Yunnan Restaurant",
         "phone": "+17782693507",
         "rating": 4.5,
         "review_count": 91,
         "transactions": [],
         "url": "https://www.yelp.ca/biz/little-yunnan-restaurant-victoria?adjust_creative=6IbiNCiVo8peFiWj0BRPDg&utm_campaign=yelp_api_v3&utm_medium=api_v3_business_search&utm_source=6IbiNCiVo8peFiWj0BRPDg"
        },
        {
         "alias": "the-cozy-place-restaurant-victoria",
         "categories": [
          {
           "alias": "chinese",
           "title": "Chinese"
          }
         ],
         "coordinates": {
          "latitude": 48.4292183,
          "longitude": -123.3645935
         },
         "display_phone": "(250) 382-3123",
         "distance": 509.44162961688227,
         "id": "xHgopjqXlaNB9l_ywZf4Fw",
         "image_url": "https://s3-media2.fl.yelpcdn.com/bphoto/jv4tJZCl6N-mnfOCZrCbCw/o.jpg",
         "is_closed": false,
         "location": {
          "address1": "1692 Douglas Street",
          "address2": null,
          "address3": "",
          "city": "Victoria",
          "country": "CA",
          "display_address": [
           "1692 Douglas Street",
           "Victoria, BC V8W 2G6"
          ],
          "state": "BC",
          "zip_code": "V8W 2G6"
         },
         "name": "The Cozy Place Restaurant",
         "phone": "+12503823123",
         "price": "$$",
         "rating": 4.5,
         "review_count": 95,
         "transactions": [],
         "url": "https://www.yelp.ca/biz/the-cozy-place-restaurant-victoria?adjust_creative=6IbiNCiVo8peFiWj0BRPDg&utm_campaign=yelp_api_v3&utm_medium=api_v3_business_search&utm_source=6IbiNCiVo8peFiWj0BRPDg"
        },
        {
         "alias": "lotus-pond-vegetarian-restaurant-victoria",
         "categories": [
          {
           "alias": "vegetarian",
           "title": "Vegetarian"
          },
          {
           "alias": "chinese",
           "title": "Chinese"
          },
          {
           "alias": "vegan",
           "title": "Vegan"
          }
         ],
         "coordinates": {
          "latitude": 48.42712,
          "longitude": -123.36642
         },
         "display_phone": "(250) 380-9293",
         "distance": 718.131000021977,
         "id": "AEtxZI2qsB5qbEYePbCaDw",
         "image_url": "https://s3-media3.fl.yelpcdn.com/bphoto/4cCLw3jw7DTVqKrvAw93HA/o.jpg",
         "is_closed": false,
         "location": {
          "address1": "617 Johnson Street",
          "address2": "",
          "address3": "",
          "city": "Victoria",
          "country": "CA",
          "display_address": [
           "617 Johnson Street",
           "Victoria, BC V8W 1M5"
          ],
          "state": "BC",
          "zip_code": "V8W 1M5"
         },
         "name": "Lotus Pond Vegetarian Restaurant",
         "phone": "+12503809293",
         "price": "$$",
         "rating": 4.5,
         "review_count": 71,
         "transactions": [],
         "url": "https://www.yelp.ca/biz/lotus-pond-vegetarian-restaurant-victoria?adjust_creative=6IbiNCiVo8peFiWj0BRPDg&utm_campaign=yelp_api_v3&utm_medium=api_v3_business_search&utm_source=6IbiNCiVo8peFiWj0BRPDg"
        },
        {
         "alias": "bao-victoria",
         "categories": [
          {
           "alias": "asianfusion",
           "title": "Asian Fusion"
          },
          {
           "alias": "chinese",
           "title": "Chinese"
          },
          {
           "alias": "japanese",
           "title": "Japanese"
          }
         ],
         "coordinates": {
          "latitude": 48.4294944,
          "longitude": -123.3658789
         },
         "display_phone": "(250) 590-8688",
         "distance": 472.07495629231704,
         "id": "VPX2YhSFZ1RdccQJSW1qPA",
         "image_url": "https://s3-media4.fl.yelpcdn.com/bphoto/j3RbjBLBCHmcWOGl70WcTg/o.jpg",
         "is_closed": false,
         "location": {
          "address1": "626 Fisgard Street",
          "address2": "",
          "address3": null,
          "city": "Victoria",
          "country": "CA",
          "display_address": [
           "626 Fisgard Street",
           "Victoria, BC V8W 1R6"
          ],
          "state": "BC",
          "zip_code": "V8W 1R6"
         },
         "name": "Bao",
         "phone": "+12505908688",
         "price": "$$",
         "rating": 4,
         "review_count": 117,
         "transactions": [],
         "url": "https://www.yelp.ca/biz/bao-victoria?adjust_creative=6IbiNCiVo8peFiWj0BRPDg&utm_campaign=yelp_api_v3&utm_medium=api_v3_business_search&utm_source=6IbiNCiVo8peFiWj0BRPDg"
        },
        {
         "alias": "hope-key-victoria",
         "categories": [
          {
           "alias": "chinese",
           "title": "Chinese"
          },
          {
           "alias": "bubbletea",
           "title": "Bubble Tea"
          }
         ],
         "coordinates": {
          "latitude": 48.42692,
          "longitude": -123.36442
         },
         "display_phone": "(250) 382-6048",
         "distance": 788.2562464752039,
         "id": "_Zhu-cavrVR7esxkvLqLyQ",
         "image_url": "https://s3-media2.fl.yelpcdn.com/bphoto/HbtZKKktJjW3adtFeZ1rdA/o.jpg",
         "is_closed": false,
         "location": {
          "address1": "1313 Douglas Street",
          "address2": "",
          "address3": "",
          "city": "Victoria",
          "country": "CA",
          "display_address": [
           "1313 Douglas Street",
           "Victoria, BC V8W 2E9"
          ],
          "state": "BC",
          "zip_code": "V8W 2E9"
         },
         "name": "Hope Key",
         "phone": "+12503826048",
         "price": "$$",
         "rating": 4.5,
         "review_count": 43,
         "transactions": [],
         "url": "https://www.yelp.ca/biz/hope-key-victoria?adjust_creative=6IbiNCiVo8peFiWj0BRPDg&utm_campaign=yelp_api_v3&utm_medium=api_v3_business_search&utm_source=6IbiNCiVo8peFiWj0BRPDg"
        },
        {
         "alias": "franks-honeybun-cafe-victoria",
         "categories": [
          {
           "alias": "chinese",
           "title": "Chinese"
          },
          {
           "alias": "cafes",
           "title": "Cafes"
          },
          {
           "alias": "breakfast_brunch",
           "title": "Breakfast & Brunch"
          }
         ],
         "coordinates": {
          "latitude": 48.4263951,
          "longitude": -123.367147
         },
         "display_phone": "(250) 383-3231",
         "distance": 823.013443644049,
         "id": "7aff7MwzIKXI82WS2CpIAQ",
         "image_url": "https://s3-media4.fl.yelpcdn.com/bphoto/I2fGVDGGGUvrIiHfMXqmFA/o.jpg",
         "is_closed": false,
         "location": {
          "address1": "605 Yates Street",
          "address2": "",
          "address3": "",
          "city": "Victoria",
          "country": "CA",
          "display_address": [
           "605 Yates Street",
           "Victoria, BC V8W 1L1"
          ],
          "state": "BC",
          "zip_code": "V8W 1L1"
         },
         "name": "Frank's Honeybun Cafe",
         "phone": "+12503833231",
         "price": "$",
         "rating": 4,
         "review_count": 47,
         "transactions": [],
         "url": "https://www.yelp.ca/biz/franks-honeybun-cafe-victoria?adjust_creative=6IbiNCiVo8peFiWj0BRPDg&utm_campaign=yelp_api_v3&utm_medium=api_v3_business_search&utm_source=6IbiNCiVo8peFiWj0BRPDg"
        },
        {
         "alias": "ox-king-noodles-victoria",
         "categories": [
          {
           "alias": "chinese",
           "title": "Chinese"
          },
          {
           "alias": "noodles",
           "title": "Noodles"
          }
         ],
         "coordinates": {
          "latitude": 48.42417,
          "longitude": -123.35583
         },
         "display_phone": "(778) 967-1022",
         "distance": 1277.9703757417012,
         "id": "rlmG0N4AtqV-WN_vm1vs9Q",
         "image_url": "https://s3-media1.fl.yelpcdn.com/bphoto/01JSRB-y7oy1xa9FYbD9vQ/o.jpg",
         "is_closed": false,
         "location": {
          "address1": "1029 View Street",
          "address2": null,
          "address3": "",
          "city": "Victoria",
          "country": "CA",
          "display_address": [
           "1029 View Street",
           "Victoria, BC V8V 4V6"
          ],
          "state": "BC",
          "zip_code": "V8V 4V6"
         },
         "name": "Ox King Noodles",
         "phone": "+17789671022",
         "rating": 4.5,
         "review_count": 19,
         "transactions": [],
         "url": "https://www.yelp.ca/biz/ox-king-noodles-victoria?adjust_creative=6IbiNCiVo8peFiWj0BRPDg&utm_campaign=yelp_api_v3&utm_medium=api_v3_business_search&utm_source=6IbiNCiVo8peFiWj0BRPDg"
        },
        {
         "alias": "i-kyu-noodles-victoria",
         "categories": [
          {
           "alias": "chinese",
           "title": "Chinese"
          },
          {
           "alias": "japanese",
           "title": "Japanese"
          }
         ],
         "coordinates": {
          "latitude": 48.4294749,
          "longitude": -123.3675971
         },
         "display_phone": "(250) 388-7828",
         "distance": 487.8040783960729,
         "id": "m8aaYaVW1ak7ZwixfzVGOQ",
         "image_url": "https://s3-media3.fl.yelpcdn.com/bphoto/rQXaDmZvFTkq58e3DJdVNQ/o.jpg",
         "is_closed": false,
         "location": {
          "address1": "564 Fisgard Street",
          "address2": "",
          "address3": "",
          "city": "Victoria",
          "country": "CA",
          "display_address": [
           "564 Fisgard Street",
           "Victoria, BC V8W 1R4"
          ],
          "state": "BC",
          "zip_code": "V8W 1R4"
         },
         "name": "I Kyu Noodles",
         "phone": "+12503887828",
         "price": "$$",
         "rating": 3.5,
         "review_count": 90,
         "transactions": [],
         "url": "https://www.yelp.ca/biz/i-kyu-noodles-victoria?adjust_creative=6IbiNCiVo8peFiWj0BRPDg&utm_campaign=yelp_api_v3&utm_medium=api_v3_business_search&utm_source=6IbiNCiVo8peFiWj0BRPDg"
        },
        {
         "alias": "golden-city-restaurant-victoria",
         "categories": [
          {
           "alias": "chinese",
           "title": "Chinese"
          }
         ],
         "coordinates": {
          "latitude": 48.42934374940361,
          "longitude": -123.36339002331337
         },
         "display_phone": "(250) 590-0226",
         "distance": 521.2546198791856,
         "id": "FM4Yo7goBSnSN7f3-B9jeQ",
         "image_url": "https://s3-media2.fl.yelpcdn.com/bphoto/_0QkOOfsgNhBl1-lnMmdFg/o.jpg",
         "is_closed": false,
         "location": {
          "address1": "721 Fisgard Street",
          "address2": "",
          "address3": "",
          "city": "Victoria",
          "country": "CA",
          "display_address": [
           "721 Fisgard Street",
           "Victoria, BC V8W 1R8"
          ],
          "state": "BC",
          "zip_code": "V8W 1R8"
         },
         "name": "Golden City Restaurant",
         "phone": "+12505900226",
         "price": "$$",
         "rating": 3.5,
         "review_count": 83,
         "transactions": [],
         "url": "https://www.yelp.ca/biz/golden-city-restaurant-victoria?adjust_creative=6IbiNCiVo8peFiWj0BRPDg&utm_campaign=yelp_api_v3&utm_medium=api_v3_business_search&utm_source=6IbiNCiVo8peFiWj0BRPDg"
        },
        {
         "alias": "jacks-chinese-restaurant-saanich",
         "categories": [
          {
           "alias": "chinese",
           "title": "Chinese"
          }
         ],
         "coordinates": {
          "latitude": 48.47955,
          "longitude": -123.41091
         },
         "display_phone": "(250) 744-1738",
         "distance": 6092.716727163975,
         "id": "EaxflFKmvzrVrjFZmcKLug",
         "image_url": "https://s3-media1.fl.yelpcdn.com/bphoto/Gu0komgpbvELOZFUnZ5e2w/o.jpg",
         "is_closed": false,
         "location": {
          "address1": "4144 Wilkinson Road",
          "address2": "",
          "address3": "",
          "city": "Saanich",
          "country": "CA",
          "display_address": [
           "4144 Wilkinson Road",
           "Saanich, BC V8Z 5A7"
          ],
          "state": "BC",
          "zip_code": "V8Z 5A7"
         },
         "name": "Jack's Chinese Restaurant",
         "phone": "+12507441738",
         "price": "$$",
         "rating": 4,
         "review_count": 18,
         "transactions": [],
         "url": "https://www.yelp.ca/biz/jacks-chinese-restaurant-saanich?adjust_creative=6IbiNCiVo8peFiWj0BRPDg&utm_campaign=yelp_api_v3&utm_medium=api_v3_business_search&utm_source=6IbiNCiVo8peFiWj0BRPDg"
        },
        {
         "alias": "j-and-j-wonton-noodle-house-victoria",
         "categories": [
          {
           "alias": "chinese",
           "title": "Chinese"
          },
          {
           "alias": "noodles",
           "title": "Noodles"
          }
         ],
         "coordinates": {
          "latitude": 48.42386,
          "longitude": -123.3561
         },
         "display_phone": "(250) 383-0680",
         "distance": 1309.925571314246,
         "id": "QgYRIuK745-slBW9pjDG-A",
         "image_url": "https://s3-media3.fl.yelpcdn.com/bphoto/PO0DNA8iQvTTmcAEhSOMow/o.jpg",
         "is_closed": false,
         "location": {
          "address1": "1012 Fort Street",
          "address2": "",
          "address3": "",
          "city": "Victoria",
          "country": "CA",
          "display_address": [
           "1012 Fort Street",
           "Victoria, BC V8V 3K4"
          ],
          "state": "BC",
          "zip_code": "V8V 3K4"
         },
         "name": "J & J Wonton Noodle House",
         "phone": "+12503830680",
         "price": "$$",
         "rating": 3.5,
         "review_count": 56,
         "transactions": [],
         "url": "https://www.yelp.ca/biz/j-and-j-wonton-noodle-house-victoria?adjust_creative=6IbiNCiVo8peFiWj0BRPDg&utm_campaign=yelp_api_v3&utm_medium=api_v3_business_search&utm_source=6IbiNCiVo8peFiWj0BRPDg"
        },
        {
         "alias": "lums-chinese-restaurant-esquimalt-2",
         "categories": [
          {
           "alias": "chinese",
           "title": "Chinese"
          }
         ],
         "coordinates": {
          "latitude": 48.4303065649118,
          "longitude": -123.401471569312
         },
         "display_phone": "(250) 385-2322",
         "distance": 2657.833989318073,
         "id": "22M2roakbcfdbADN3vsBrQ",
         "image_url": "https://s3-media3.fl.yelpcdn.com/bphoto/VbDRxHVuEYIo3bHjoeQGWQ/o.jpg",
         "is_closed": false,
         "location": {
          "address1": "914 Esquimalt Rd",
          "address2": "",
          "address3": "",
          "city": "Esquimalt",
          "country": "CA",
          "display_address": [
           "914 Esquimalt Rd",
           "Esquimalt, BC V9A 3M6"
          ],
          "state": "BC",
          "zip_code": "V9A 3M6"
         },
         "name": "Lum's Chinese Restaurant",
         "phone": "+12503852322",
         "price": "$",
         "rating": 4,
         "review_count": 23,
         "transactions": [],
         "url": "https://www.yelp.ca/biz/lums-chinese-restaurant-esquimalt-2?adjust_creative=6IbiNCiVo8peFiWj0BRPDg&utm_campaign=yelp_api_v3&utm_medium=api_v3_business_search&utm_source=6IbiNCiVo8peFiWj0BRPDg"
        },
        {
         "alias": "wah-lai-yuen-victoria-2",
         "categories": [
          {
           "alias": "chinese",
           "title": "Chinese"
          }
         ],
         "coordinates": {
          "latitude": 48.42959,
          "longitude": -123.36765
         },
         "display_phone": "(250) 381-5355",
         "distance": 488.9547245838169,
         "id": "kP9VsMwDcxeMdUZrS2zg5w",
         "image_url": "https://s3-media3.fl.yelpcdn.com/bphoto/t_rsDRa6IdFpmceQqKEReg/o.jpg",
         "is_closed": false,
         "location": {
          "address1": "560 Fisgard Street",
          "address2": "",
          "address3": "",
          "city": "Victoria",
          "country": "CA",
          "display_address": [
           "560 Fisgard Street",
           "Victoria, BC V8W 1R4"
          ],
          "state": "BC",
          "zip_code": "V8W 1R4"
         },
         "name": "Wah Lai Yuen",
         "phone": "+12503815355",
         "price": "$$",
         "rating": 3.5,
         "review_count": 46,
         "transactions": [],
         "url": "https://www.yelp.ca/biz/wah-lai-yuen-victoria-2?adjust_creative=6IbiNCiVo8peFiWj0BRPDg&utm_campaign=yelp_api_v3&utm_medium=api_v3_business_search&utm_source=6IbiNCiVo8peFiWj0BRPDg"
        },
        {
         "alias": "fan-tan-cafe-victoria",
         "categories": [
          {
           "alias": "chinese",
           "title": "Chinese"
          }
         ],
         "coordinates": {
          "latitude": 48.4292051,
          "longitude": -123.3676656
         },
         "display_phone": "(250) 383-1611",
         "distance": 522.9376044732855,
         "id": "5mCjOL2GxGD9EWIX5EU8Tg",
         "image_url": "https://s3-media2.fl.yelpcdn.com/bphoto/Ws3tqgE-fFg-qgBjSGs_4Q/o.jpg",
         "is_closed": false,
         "location": {
          "address1": "549 Fisgard Street",
          "address2": "",
          "address3": "",
          "city": "Victoria",
          "country": "CA",
          "display_address": [
           "549 Fisgard Street",
           "Victoria, BC V8W 1R5"
          ],
          "state": "BC",
          "zip_code": "V8W 1R5"
         },
         "name": "Fan Tan Cafe",
         "phone": "+12503831611",
         "price": "$$",
         "rating": 3.5,
         "review_count": 74,
         "transactions": [],
         "url": "https://www.yelp.ca/biz/fan-tan-cafe-victoria?adjust_creative=6IbiNCiVo8peFiWj0BRPDg&utm_campaign=yelp_api_v3&utm_medium=api_v3_business_search&utm_source=6IbiNCiVo8peFiWj0BRPDg"
        },
        {
         "alias": "beijing-bistro-victoria",
         "categories": [
          {
           "alias": "chinese",
           "title": "Chinese"
          }
         ],
         "coordinates": {
          "latitude": 48.4242673,
          "longitude": -123.3632979
         },
         "display_phone": "(250) 686-9271",
         "distance": 1063.1211230215529,
         "id": "7fPyIRn-IN37DLT9AmfOgA",
         "image_url": "https://s3-media3.fl.yelpcdn.com/bphoto/0KNtULaDDTGXepg8zKbpcQ/o.jpg",
         "is_closed": false,
         "location": {
          "address1": "769 Fort Street",
          "address2": "",
          "address3": "",
          "city": "Victoria",
          "country": "CA",
          "display_address": [
           "769 Fort Street",
           "Victoria, BC V8W 1G9"
          ],
          "state": "BC",
          "zip_code": "V8W 1G9"
         },
         "name": "Beijing Bistro",
         "phone": "+12506869271",
         "price": "$$",
         "rating": 3.5,
         "review_count": 22,
         "transactions": [],
         "url": "https://www.yelp.ca/biz/beijing-bistro-victoria?adjust_creative=6IbiNCiVo8peFiWj0BRPDg&utm_campaign=yelp_api_v3&utm_medium=api_v3_business_search&utm_source=6IbiNCiVo8peFiWj0BRPDg"
        },
        {
         "alias": "halibut-house-family-victoria",
         "categories": [
          {
           "alias": "chinese",
           "title": "Chinese"
          }
         ],
         "coordinates": {
          "latitude": 48.45588,
          "longitude": -123.3597
         },
         "display_phone": "(250) 385-4944",
         "distance": 2504.6045889243164,
         "id": "hhjJ-YDlCtsQ9-GK6uC6kQ",
         "image_url": "https://s3-media4.fl.yelpcdn.com/bphoto/dTcXC_N59OTvgbXtaq2VEg/o.jpg",
         "is_closed": false,
         "location": {
          "address1": "3500 Quadra Street",
          "address2": "",
          "address3": "",
          "city": "Victoria",
          "country": "CA",
          "display_address": [
           "3500 Quadra Street",
           "Victoria, BC V8X 1G9"
          ],
          "state": "BC",
          "zip_code": "V8X 1G9"
         },
         "name": "Halibut House Family",
         "phone": "+12503854944",
         "price": "$$",
         "rating": 3.5,
         "review_count": 22,
         "transactions": [],
         "url": "https://www.yelp.ca/biz/halibut-house-family-victoria?adjust_creative=6IbiNCiVo8peFiWj0BRPDg&utm_campaign=yelp_api_v3&utm_medium=api_v3_business_search&utm_source=6IbiNCiVo8peFiWj0BRPDg"
        },
        {
         "alias": "don-mee-seafood-restaurant-victoria",
         "categories": [
          {
           "alias": "seafood",
           "title": "Seafood"
          },
          {
           "alias": "dimsum",
           "title": "Dim Sum"
          }
         ],
         "coordinates": {
          "latitude": 48.4294775,
          "longitude": -123.3684263
         },
         "display_phone": "(250) 383-1032",
         "distance": 491.60678982826397,
         "id": "_AG2PsyRpplC5Qi-oS24ZA",
         "image_url": "https://s3-media1.fl.yelpcdn.com/bphoto/7AiuO_zEs2bECX317mFXcg/o.jpg",
         "is_closed": false,
         "location": {
          "address1": "538 Fisgard Street",
          "address2": "",
          "address3": "",
          "city": "Victoria",
          "country": "CA",
          "display_address": [
           "538 Fisgard Street",
           "Victoria, BC V8W 1R4"
          ],
          "state": "BC",
          "zip_code": "V8W 1R4"
         },
         "name": "Don Mee Seafood Restaurant",
         "phone": "+12503831032",
         "price": "$$",
         "rating": 2.5,
         "review_count": 190,
         "transactions": [],
         "url": "https://www.yelp.ca/biz/don-mee-seafood-restaurant-victoria?adjust_creative=6IbiNCiVo8peFiWj0BRPDg&utm_campaign=yelp_api_v3&utm_medium=api_v3_business_search&utm_source=6IbiNCiVo8peFiWj0BRPDg"
        },
        {
         "alias": "marble-arch-fish-and-chips-victoria",
         "categories": [
          {
           "alias": "seafood",
           "title": "Seafood"
          },
          {
           "alias": "chinese",
           "title": "Chinese"
          },
          {
           "alias": "fishnchips",
           "title": "Fish & Chips"
          }
         ],
         "coordinates": {
          "latitude": 48.45631,
          "longitude": -123.39235
         },
         "display_phone": "(250) 386-7141",
         "distance": 3204.855370220642,
         "id": "4AMInVtWawABmOFR-XDQKQ",
         "image_url": "https://s3-media2.fl.yelpcdn.com/bphoto/gVnpA6NXOpVAZ9wVV0z7rQ/o.jpg",
         "is_closed": false,
         "location": {
          "address1": "3468 Tillicum Rd",
          "address2": "",
          "address3": "",
          "city": "Victoria",
          "country": "CA",
          "display_address": [
           "3468 Tillicum Rd",
           "Victoria, BC V8Z 4H3"
          ],
          "state": "BC",
          "zip_code": "V8Z 4H3"
         },
         "name": "Marble Arch Fish & Chips",
         "phone": "+12503867141",
         "price": "$",
         "rating": 4,
         "review_count": 6,
         "transactions": [],
         "url": "https://www.yelp.ca/biz/marble-arch-fish-and-chips-victoria?adjust_creative=6IbiNCiVo8peFiWj0BRPDg&utm_campaign=yelp_api_v3&utm_medium=api_v3_business_search&utm_source=6IbiNCiVo8peFiWj0BRPDg"
        },
        {
         "alias": "jade-fountain-restaurant-victoria",
         "categories": [
          {
           "alias": "dimsum",
           "title": "Dim Sum"
          },
          {
           "alias": "seafood",
           "title": "Seafood"
          }
         ],
         "coordinates": {
          "latitude": 48.4513334,
          "longitude": -123.3747859
         },
         "display_phone": "(250) 383-8718",
         "distance": 2089.37765138574,
         "id": "V7yu9UrLrAK2ECJyf22RWw",
         "image_url": "https://s3-media3.fl.yelpcdn.com/bphoto/ii_ZQkxBuKrzqbZXHPl3UA/o.jpg",
         "is_closed": false,
         "location": {
          "address1": "3366 Douglas Street",
          "address2": "",
          "address3": "",
          "city": "Victoria",
          "country": "CA",
          "display_address": [
           "3366 Douglas Street",
           "Victoria, BC V8Z 3L3"
          ],
          "state": "BC",
          "zip_code": "V8Z 3L3"
         },
         "name": "Jade Fountain Restaurant",
         "phone": "+12503838718",
         "price": "$$",
         "rating": 3,
         "review_count": 52,
         "transactions": [],
         "url": "https://www.yelp.ca/biz/jade-fountain-restaurant-victoria?adjust_creative=6IbiNCiVo8peFiWj0BRPDg&utm_campaign=yelp_api_v3&utm_medium=api_v3_business_search&utm_source=6IbiNCiVo8peFiWj0BRPDg"
        },
        {
         "alias": "hong-kong-west-victoria",
         "categories": [
          {
           "alias": "chinese",
           "title": "Chinese"
          }
         ],
         "coordinates": {
          "latitude": 48.4295464000989,
          "longitude": -123.329767040655
         },
         "display_phone": "(250) 598-1352",
         "distance": 2700.7534659318108,
         "id": "x-CIuJ6_a4_R9roI9Q6PQQ",
         "image_url": "https://s3-media3.fl.yelpcdn.com/bphoto/QcGz8WOimjW4oFA62cLeEg/o.jpg",
         "is_closed": false,
         "location": {
          "address1": "1807 Fort Street",
          "address2": "",
          "address3": "",
          "city": "Victoria",
          "country": "CA",
          "display_address": [
           "1807 Fort Street",
           "Victoria, BC V8R 1J5"
          ],
          "state": "BC",
          "zip_code": "V8R 1J5"
         },
         "name": "Hong Kong West",
         "phone": "+12505981352",
         "price": "$$",
         "rating": 3,
         "review_count": 20,
         "transactions": [],
         "url": "https://www.yelp.ca/biz/hong-kong-west-victoria?adjust_creative=6IbiNCiVo8peFiWj0BRPDg&utm_campaign=yelp_api_v3&utm_medium=api_v3_business_search&utm_source=6IbiNCiVo8peFiWj0BRPDg"
        },
        {
         "alias": "purple-garden-chinese-restaurant-victoria",
         "categories": [
          {
           "alias": "chinese",
           "title": "Chinese"
          },
          {
           "alias": "buffets",
           "title": "Buffets"
          }
         ],
         "coordinates": {
          "latitude": 48.46139,
          "longitude": -123.33458
         },
         "display_phone": "(250) 477-8866",
         "distance": 3869.887186277622,
         "id": "BZWugC5PSbXzd-J2Q36h6g",
         "image_url": "https://s3-media2.fl.yelpcdn.com/bphoto/3DHq3i6krv507z5krjsTeQ/o.jpg",
         "is_closed": false,
         "location": {
          "address1": "138 - 1551 Cedar Hill Cross Road",
          "address2": "",
          "address3": "",
          "city": "Victoria",
          "country": "CA",
          "display_address": [
           "138 - 1551 Cedar Hill Cross Road",
           "Victoria, BC V8P 2P3"
          ],
          "state": "BC",
          "zip_code": "V8P 2P3"
         },
         "name": "Purple Garden Chinese Restaurant",
         "phone": "+12504778866",
         "price": "$$",
         "rating": 3,
         "review_count": 24,
         "transactions": [],
         "url": "https://www.yelp.ca/biz/purple-garden-chinese-restaurant-victoria?adjust_creative=6IbiNCiVo8peFiWj0BRPDg&utm_campaign=yelp_api_v3&utm_medium=api_v3_business_search&utm_source=6IbiNCiVo8peFiWj0BRPDg"
        },
        {
         "alias": "sun-wah-chinese-restaurant-victoria",
         "categories": [
          {
           "alias": "chinese",
           "title": "Chinese"
          }
         ],
         "coordinates": {
          "latitude": 48.42746,
          "longitude": -123.35291
         },
         "display_phone": "(250) 381-8966",
         "distance": 1176.4565341048733,
         "id": "nL4HWMPXU6cJDVB0Zr196w",
         "image_url": "https://s3-media3.fl.yelpcdn.com/bphoto/HsAABHCzCOFi3XzvyGYtow/o.jpg",
         "is_closed": false,
         "location": {
          "address1": "1515 Cook Street",
          "address2": "",
          "address3": "",
          "city": "Victoria",
          "country": "CA",
          "display_address": [
           "1515 Cook Street",
           "Victoria, BC V8T 5E5"
          ],
          "state": "BC",
          "zip_code": "V8T 5E5"
         },
         "name": "Sun Wah Chinese Restaurant",
         "phone": "+12503818966",
         "rating": 3.5,
         "review_count": 13,
         "transactions": [],
         "url": "https://www.yelp.ca/biz/sun-wah-chinese-restaurant-victoria?adjust_creative=6IbiNCiVo8peFiWj0BRPDg&utm_campaign=yelp_api_v3&utm_medium=api_v3_business_search&utm_source=6IbiNCiVo8peFiWj0BRPDg"
        },
        {
         "alias": "chipan-victoria",
         "categories": [
          {
           "alias": "japanese",
           "title": "Japanese"
          },
          {
           "alias": "chinese",
           "title": "Chinese"
          }
         ],
         "coordinates": {
          "latitude": 48.4265025514013,
          "longitude": -123.368951804735
         },
         "display_phone": "(778) 433-7229",
         "distance": 837.7865631062971,
         "id": "YegAdiwrmwhEfpgtsEcLSg",
         "image_url": "https://s3-media1.fl.yelpcdn.com/bphoto/M0hGpmCECgMi-75djKHtWw/o.jpg",
         "is_closed": false,
         "location": {
          "address1": "103-535 Yates Street",
          "address2": "",
          "address3": null,
          "city": "Victoria",
          "country": "CA",
          "display_address": [
           "103-535 Yates Street",
           "Victoria, BC V8W 2Z6"
          ],
          "state": "BC",
          "zip_code": "V8W 2Z6"
         },
         "name": "Chipan",
         "phone": "+17784337229",
         "price": "$$",
         "rating": 3,
         "review_count": 18,
         "transactions": [],
         "url": "https://www.yelp.ca/biz/chipan-victoria?adjust_creative=6IbiNCiVo8peFiWj0BRPDg&utm_campaign=yelp_api_v3&utm_medium=api_v3_business_search&utm_source=6IbiNCiVo8peFiWj0BRPDg"
        },
        {
         "alias": "ho-tong-victoria",
         "categories": [
          {
           "alias": "chinese",
           "title": "Chinese"
          },
          {
           "alias": "seafood",
           "title": "Seafood"
          }
         ],
         "coordinates": {
          "latitude": 48.4521418,
          "longitude": -123.3752444
         },
         "display_phone": "(250) 475-1398",
         "distance": 2195.570948970392,
         "id": "Pd55eL6cUF7u4oWxmxehCA",
         "image_url": "https://s3-media1.fl.yelpcdn.com/bphoto/xAYBQ0nt3nyjv1t2ZXoXOg/o.jpg",
         "is_closed": false,
         "location": {
          "address1": "3388 Douglas Street",
          "address2": "",
          "address3": "",
          "city": "Victoria",
          "country": "CA",
          "display_address": [
           "3388 Douglas Street",
           "Victoria, BC V8Z 3L3"
          ],
          "state": "BC",
          "zip_code": "V8Z 3L3"
         },
         "name": "Ho Tong",
         "phone": "+12504751398",
         "price": "$$",
         "rating": 3,
         "review_count": 21,
         "transactions": [],
         "url": "https://www.yelp.ca/biz/ho-tong-victoria?adjust_creative=6IbiNCiVo8peFiWj0BRPDg&utm_campaign=yelp_api_v3&utm_medium=api_v3_business_search&utm_source=6IbiNCiVo8peFiWj0BRPDg"
        },
        {
         "alias": "szechuan-restaurant-victoria-6",
         "categories": [
          {
           "alias": "chinese",
           "title": "Chinese"
          }
         ],
         "coordinates": {
          "latitude": 48.43065,
          "longitude": -123.35948
         },
         "display_phone": "(250) 384-0224",
         "distance": 576.9727410417951,
         "id": "gOCna0N8F7pzpR96ELwUNQ",
         "image_url": "https://s3-media3.fl.yelpcdn.com/bphoto/fAWW_lrwlYZyXtz_L4jGGQ/o.jpg",
         "is_closed": false,
         "location": {
          "address1": "853 Caledonia Ave",
          "address2": "",
          "address3": null,
          "city": "Victoria",
          "country": "CA",
          "display_address": [
           "853 Caledonia Ave",
           "Victoria, BC V8T 4B9"
          ],
          "state": "BC",
          "zip_code": "V8T 4B9"
         },
         "name": "Szechuan Restaurant",
         "phone": "+12503840224",
         "rating": 3.5,
         "review_count": 9,
         "transactions": [],
         "url": "https://www.yelp.ca/biz/szechuan-restaurant-victoria-6?adjust_creative=6IbiNCiVo8peFiWj0BRPDg&utm_campaign=yelp_api_v3&utm_medium=api_v3_business_search&utm_source=6IbiNCiVo8peFiWj0BRPDg"
        },
        {
         "alias": "youngs-restaurant-victoria",
         "categories": [
          {
           "alias": "chinese",
           "title": "Chinese"
          }
         ],
         "coordinates": {
          "latitude": 48.43842803,
          "longitude": -123.35915456
         },
         "display_phone": "(250) 384-0234",
         "distance": 716.2963988586918,
         "id": "koSsivx-WiXx_l1ONNPf1g",
         "image_url": "https://s3-media3.fl.yelpcdn.com/bphoto/wfABWaRZtjVDIqlHkkOohQ/o.jpg",
         "is_closed": false,
         "location": {
          "address1": "2638 Quadra St",
          "address2": "",
          "address3": "",
          "city": "Victoria",
          "country": "CA",
          "display_address": [
           "2638 Quadra St",
           "Victoria, BC V8T 4E4"
          ],
          "state": "BC",
          "zip_code": "V8T 4E4"
         },
         "name": "Young's Restaurant",
         "phone": "+12503840234",
         "price": "$$",
         "rating": 3.5,
         "review_count": 9,
         "transactions": [],
         "url": "https://www.yelp.ca/biz/youngs-restaurant-victoria?adjust_creative=6IbiNCiVo8peFiWj0BRPDg&utm_campaign=yelp_api_v3&utm_medium=api_v3_business_search&utm_source=6IbiNCiVo8peFiWj0BRPDg"
        },
        {
         "alias": "pho-and-wok-victoria",
         "categories": [
          {
           "alias": "vietnamese",
           "title": "Vietnamese"
          },
          {
           "alias": "chinese",
           "title": "Chinese"
          }
         ],
         "coordinates": {
          "latitude": 48.44986,
          "longitude": -123.42616
         },
         "display_phone": "(778) 406-2223",
         "distance": 4814.296898635398,
         "id": "3Xz0-PVOxHanPXhZMURU9g",
         "image_url": "https://s3-media1.fl.yelpcdn.com/bphoto/vb_918aUg0nYVeT7_0mI_w/o.jpg",
         "is_closed": false,
         "location": {
          "address1": "1517 Admirals Road",
          "address2": "Suite 102",
          "address3": null,
          "city": "Victoria",
          "country": "CA",
          "display_address": [
           "1517 Admirals Road",
           "Suite 102",
           "Victoria, BC V9A 2P8"
          ],
          "state": "BC",
          "zip_code": "V9A 2P8"
         },
         "name": "Pho & Wok",
         "phone": "+17784062223",
         "rating": 5,
         "review_count": 2,
         "transactions": [],
         "url": "https://www.yelp.ca/biz/pho-and-wok-victoria?adjust_creative=6IbiNCiVo8peFiWj0BRPDg&utm_campaign=yelp_api_v3&utm_medium=api_v3_business_search&utm_source=6IbiNCiVo8peFiWj0BRPDg"
        },
        {
         "alias": "rainbow-chinese-restaurant-victoria",
         "categories": [
          {
           "alias": "chinese",
           "title": "Chinese"
          }
         ],
         "coordinates": {
          "latitude": 48.4539676,
          "longitude": -123.4377538
         },
         "display_phone": "(250) 590-5038",
         "distance": 5763.1642031042165,
         "id": "j2T2SOy-jb5u1W7yV2nLNw",
         "image_url": "https://s3-media2.fl.yelpcdn.com/bphoto/Sg6Wp2Fa2xLRA4KilFyT5A/o.jpg",
         "is_closed": false,
         "location": {
          "address1": "A-262 Island Highway",
          "address2": null,
          "address3": "",
          "city": "Victoria",
          "country": "CA",
          "display_address": [
           "A-262 Island Highway",
           "Victoria, BC V9B 1G2"
          ],
          "state": "BC",
          "zip_code": "V9B 1G2"
         },
         "name": "Rainbow Chinese Restaurant",
         "phone": "+12505905038",
         "rating": 4,
         "review_count": 4,
         "transactions": [],
         "url": "https://www.yelp.ca/biz/rainbow-chinese-restaurant-victoria?adjust_creative=6IbiNCiVo8peFiWj0BRPDg&utm_campaign=yelp_api_v3&utm_medium=api_v3_business_search&utm_source=6IbiNCiVo8peFiWj0BRPDg"
        },
        {
         "alias": "james-bay-fish-and-chips-victoria",
         "categories": [
          {
           "alias": "fishnchips",
           "title": "Fish & Chips"
          },
          {
           "alias": "chinese",
           "title": "Chinese"
          }
         ],
         "coordinates": {
          "latitude": 48.4155523,
          "longitude": -123.3736203
         },
         "display_phone": "(250) 383-5333",
         "distance": 2090.854865613484,
         "id": "mKSvbVGaEZKTAk2D_5ZrvQ",
         "image_url": "https://s3-media2.fl.yelpcdn.com/bphoto/BNFkUkF7hKk2NGC1uYU9LA/o.jpg",
         "is_closed": false,
         "location": {
          "address1": "211 Menzies St",
          "address2": "",
          "address3": "",
          "city": "Victoria",
          "country": "CA",
          "display_address": [
           "211 Menzies St",
           "Victoria, BC V8V 2G6"
          ],
          "state": "BC",
          "zip_code": "V8V 2G6"
         },
         "name": "James Bay Fish & Chips",
         "phone": "+12503835333",
         "price": "$$",
         "rating": 3,
         "review_count": 9,
         "transactions": [],
         "url": "https://www.yelp.ca/biz/james-bay-fish-and-chips-victoria?adjust_creative=6IbiNCiVo8peFiWj0BRPDg&utm_campaign=yelp_api_v3&utm_medium=api_v3_business_search&utm_source=6IbiNCiVo8peFiWj0BRPDg"
        },
        {
         "alias": "king-and-thai-restaurant-victoria",
         "categories": [
          {
           "alias": "thai",
           "title": "Thai"
          },
          {
           "alias": "chinese",
           "title": "Chinese"
          }
         ],
         "coordinates": {
          "latitude": 48.4377202079793,
          "longitude": -123.307991366765
         },
         "display_phone": "(778) 430-5966",
         "distance": 4289.179476393803,
         "id": "zRKNYTYBokB32nzts_rTYA",
         "image_url": "",
         "is_closed": false,
         "location": {
          "address1": "2510 Estevan Avenue",
          "address2": "",
          "address3": "",
          "city": "Victoria",
          "country": "CA",
          "display_address": [
           "2510 Estevan Avenue",
           "Victoria, BC V8R 2S7"
          ],
          "state": "BC",
          "zip_code": "V8R 2S7"
         },
         "name": "King & Thai Restaurant",
         "phone": "+17784305966",
         "price": "$$",
         "rating": 3,
         "review_count": 11,
         "transactions": [],
         "url": "https://www.yelp.ca/biz/king-and-thai-restaurant-victoria?adjust_creative=6IbiNCiVo8peFiWj0BRPDg&utm_campaign=yelp_api_v3&utm_medium=api_v3_business_search&utm_source=6IbiNCiVo8peFiWj0BRPDg"
        },
        {
         "alias": "shanghai-city-chinese-restaurant-victoria",
         "categories": [
          {
           "alias": "chinese",
           "title": "Chinese"
          }
         ],
         "coordinates": {
          "latitude": 48.42962,
          "longitude": -123.3679
         },
         "display_phone": "(250) 381-1223",
         "distance": 501.66554151734533,
         "id": "V9ZSov8cP0uJ8TLiW5MiWA",
         "image_url": "https://s3-media2.fl.yelpcdn.com/bphoto/WNcubZYQBQL4IqZvq6tIag/o.jpg",
         "is_closed": false,
         "location": {
          "address1": "548 Fisgard Street",
          "address2": "",
          "address3": "",
          "city": "Victoria",
          "country": "CA",
          "display_address": [
           "548 Fisgard Street",
           "Victoria, BC V8W 1R4"
          ],
          "state": "BC",
          "zip_code": "V8W 1R4"
         },
         "name": "Shanghai City Chinese Restaurant",
         "phone": "+12503811223",
         "price": "$",
         "rating": 2.5,
         "review_count": 40,
         "transactions": [],
         "url": "https://www.yelp.ca/biz/shanghai-city-chinese-restaurant-victoria?adjust_creative=6IbiNCiVo8peFiWj0BRPDg&utm_campaign=yelp_api_v3&utm_medium=api_v3_business_search&utm_source=6IbiNCiVo8peFiWj0BRPDg"
        },
        {
         "alias": "fire-bowl-hot-pot-焰御火锅-victoria",
         "categories": [
          {
           "alias": "chinese",
           "title": "Chinese"
          },
          {
           "alias": "hotpot",
           "title": "Hot Pot"
          },
          {
           "alias": "asianfusion",
           "title": "Asian Fusion"
          }
         ],
         "coordinates": {
          "latitude": 48.4245,
          "longitude": -123.36902
         },
         "display_phone": "(250) 590-9990",
         "distance": 1059.2882649870683,
         "id": "_7UQO7CZYFC6UbnUCfM6WA",
         "image_url": "https://s3-media2.fl.yelpcdn.com/bphoto/yENmFFJsSzlnlazTKOKQiA/o.jpg",
         "is_closed": false,
         "location": {
          "address1": "1008 Langley St",
          "address2": null,
          "address3": "",
          "city": "Victoria",
          "country": "CA",
          "display_address": [
           "1008 Langley St",
           "Victoria, BC V8W"
          ],
          "state": "BC",
          "zip_code": "V8W"
         },
         "name": "Fire Bowl Hot Pot 焰御火锅",
         "phone": "+12505909990",
         "rating": 3.5,
         "review_count": 5,
         "transactions": [],
         "url": "https://www.yelp.ca/biz/fire-bowl-hot-pot-%E7%84%B0%E5%BE%A1%E7%81%AB%E9%94%85-victoria?adjust_creative=6IbiNCiVo8peFiWj0BRPDg&utm_campaign=yelp_api_v3&utm_medium=api_v3_business_search&utm_source=6IbiNCiVo8peFiWj0BRPDg"
        },
        {
         "alias": "ocean-garden-victoria-2",
         "categories": [
          {
           "alias": "chinese",
           "title": "Chinese"
          },
          {
           "alias": "newcanadian",
           "title": "Canadian (New)"
          }
         ],
         "coordinates": {
          "latitude": 48.42963,
          "longitude": -123.36741
         },
         "display_phone": "(250) 360-2818",
         "distance": 481.63352752810204,
         "id": "no4TVVZaJTOPVxQrzu9hAw",
         "image_url": "https://s3-media3.fl.yelpcdn.com/bphoto/59DfAeulpuqxwZFsH7pbjA/o.jpg",
         "is_closed": false,
         "location": {
          "address1": "568 Fisgard Street",
          "address2": "",
          "address3": "",
          "city": "Victoria",
          "country": "CA",
          "display_address": [
           "568 Fisgard Street",
           "Victoria, BC V8W 1R4"
          ],
          "state": "BC",
          "zip_code": "V8W 1R4"
         },
         "name": "Ocean Garden",
         "phone": "+12503602818",
         "price": "$$",
         "rating": 2,
         "review_count": 92,
         "transactions": [],
         "url": "https://www.yelp.ca/biz/ocean-garden-victoria-2?adjust_creative=6IbiNCiVo8peFiWj0BRPDg&utm_campaign=yelp_api_v3&utm_medium=api_v3_business_search&utm_source=6IbiNCiVo8peFiWj0BRPDg"
        },
        {
         "alias": "fountain-restaurant-victoria",
         "categories": [
          {
           "alias": "chinese",
           "title": "Chinese"
          }
         ],
         "coordinates": {
          "latitude": 48.4384288,
          "longitude": -123.3634667
         },
         "display_phone": "(250) 381-3318",
         "distance": 500.09653259227156,
         "id": "dzXVrllP2jF1xiGNfUQQaA",
         "image_url": "https://s3-media2.fl.yelpcdn.com/bphoto/zjSoS7OA13f4XWmzNyr6bQ/o.jpg",
         "is_closed": false,
         "location": {
          "address1": "2680 Blanshard St",
          "address2": "",
          "address3": "",
          "city": "Victoria",
          "country": "CA",
          "display_address": [
           "2680 Blanshard St",
           "Victoria, BC V8T 5E1"
          ],
          "state": "BC",
          "zip_code": "V8T 5E1"
         },
         "name": "Fountain Restaurant",
         "phone": "+12503813318",
         "price": "$$",
         "rating": 2.5,
         "review_count": 27,
         "transactions": [],
         "url": "https://www.yelp.ca/biz/fountain-restaurant-victoria?adjust_creative=6IbiNCiVo8peFiWj0BRPDg&utm_campaign=yelp_api_v3&utm_medium=api_v3_business_search&utm_source=6IbiNCiVo8peFiWj0BRPDg"
        },
        {
         "alias": "laila-laila-hotpot-restaurant-victoria",
         "categories": [
          {
           "alias": "hotpot",
           "title": "Hot Pot"
          },
          {
           "alias": "chinese",
           "title": "Chinese"
          }
         ],
         "coordinates": {
          "latitude": 48.4622315,
          "longitude": -123.3352142
         },
         "display_phone": "(250) 590-6696",
         "distance": 3899.536572823626,
         "id": "J5PrRNK7xj82o8ZlyWYVZw",
         "image_url": "https://s3-media4.fl.yelpcdn.com/bphoto/7eliIZN8SKjN10QjOgEQkg/o.jpg",
         "is_closed": false,
         "location": {
          "address1": "1540 Cedar Hill Cross Road",
          "address2": null,
          "address3": "",
          "city": "Victoria",
          "country": "CA",
          "display_address": [
           "1540 Cedar Hill Cross Road",
           "Victoria, BC V8P 2P4"
          ],
          "state": "BC",
          "zip_code": "V8P 2P4"
         },
         "name": "Laila Laila Hotpot Restaurant",
         "phone": "+12505906696",
         "rating": 4,
         "review_count": 3,
         "transactions": [],
         "url": "https://www.yelp.ca/biz/laila-laila-hotpot-restaurant-victoria?adjust_creative=6IbiNCiVo8peFiWj0BRPDg&utm_campaign=yelp_api_v3&utm_medium=api_v3_business_search&utm_source=6IbiNCiVo8peFiWj0BRPDg"
        },
        {
         "alias": "crown-palace-chinese-restaurant-victoria",
         "categories": [
          {
           "alias": "chinese",
           "title": "Chinese"
          },
          {
           "alias": "chicken_wings",
           "title": "Chicken Wings"
          }
         ],
         "coordinates": {
          "latitude": 48.43627,
          "longitude": -123.38745
         },
         "display_phone": "(250) 383-5322",
         "distance": 1620.4788134505977,
         "id": "so7NDJhLmlsGG5p0mP0yIA",
         "image_url": "https://s3-media3.fl.yelpcdn.com/bphoto/qIJNtKJ2xzx35jBSHm35Fg/o.jpg",
         "is_closed": false,
         "location": {
          "address1": "405 Craigflower Road",
          "address2": "",
          "address3": "",
          "city": "Victoria",
          "country": "CA",
          "display_address": [
           "405 Craigflower Road",
           "Victoria, BC V9A 2V7"
          ],
          "state": "BC",
          "zip_code": "V9A 2V7"
         },
         "name": "Crown Palace Chinese Restaurant",
         "phone": "+12503835322",
         "price": "$$",
         "rating": 3,
         "review_count": 9,
         "transactions": [],
         "url": "https://www.yelp.ca/biz/crown-palace-chinese-restaurant-victoria?adjust_creative=6IbiNCiVo8peFiWj0BRPDg&utm_campaign=yelp_api_v3&utm_medium=api_v3_business_search&utm_source=6IbiNCiVo8peFiWj0BRPDg"
        },
        {
         "alias": "xiang-rui-victoria-2",
         "categories": [
          {
           "alias": "chinese",
           "title": "Chinese"
          }
         ],
         "coordinates": {
          "latitude": 48.4233055,
          "longitude": -123.3629684
         },
         "display_phone": "(778) 433-3696",
         "distance": 1179.7632783503027,
         "id": "sFhuQ898Z48jgZQ8EJx8Kg",
         "image_url": "https://s3-media3.fl.yelpcdn.com/bphoto/jbKNVjukeTAB1Ic0YK5rNw/o.jpg",
         "is_closed": false,
         "location": {
          "address1": "980 Blanshard Street",
          "address2": "",
          "address3": "",
          "city": "Victoria",
          "country": "CA",
          "display_address": [
           "980 Blanshard Street",
           "Victoria, BC V8W 2H3"
          ],
          "state": "BC",
          "zip_code": "V8W 2H3"
         },
         "name": "Xiang Rui",
         "phone": "+17784333696",
         "price": "$$",
         "rating": 3,
         "review_count": 10,
         "transactions": [],
         "url": "https://www.yelp.ca/biz/xiang-rui-victoria-2?adjust_creative=6IbiNCiVo8peFiWj0BRPDg&utm_campaign=yelp_api_v3&utm_medium=api_v3_business_search&utm_source=6IbiNCiVo8peFiWj0BRPDg"
        },
        {
         "alias": "lin-heung-restaurant-victoria",
         "categories": [
          {
           "alias": "chinese",
           "title": "Chinese"
          }
         ],
         "coordinates": {
          "latitude": 48.46182,
          "longitude": -123.33221
         },
         "display_phone": "(250) 721-1398",
         "distance": 3994.6517350999056,
         "id": "2FQVdcSbnWPo5UtQ2OhNaA",
         "image_url": "https://s3-media2.fl.yelpcdn.com/bphoto/0YxPSq9aKWCERPQ6xcjLUg/o.jpg",
         "is_closed": false,
         "location": {
          "address1": "3749 Shelbourne Street",
          "address2": "",
          "address3": "",
          "city": "Victoria",
          "country": "CA",
          "display_address": [
           "3749 Shelbourne Street",
           "Victoria, BC V8P 5N4"
          ],
          "state": "BC",
          "zip_code": "V8P 5N4"
         },
         "name": "Lin Heung Restaurant",
         "phone": "+12507211398",
         "price": "$$",
         "rating": 2.5,
         "review_count": 15,
         "transactions": [],
         "url": "https://www.yelp.ca/biz/lin-heung-restaurant-victoria?adjust_creative=6IbiNCiVo8peFiWj0BRPDg&utm_campaign=yelp_api_v3&utm_medium=api_v3_business_search&utm_source=6IbiNCiVo8peFiWj0BRPDg"
        },
        {
         "alias": "lees-house-restaurant-victoria",
         "categories": [
          {
           "alias": "chinese",
           "title": "Chinese"
          },
          {
           "alias": "seafood",
           "title": "Seafood"
          },
          {
           "alias": "taiwanese",
           "title": "Taiwanese"
          }
         ],
         "coordinates": {
          "latitude": 48.4696799,
          "longitude": -123.33304
         },
         "display_phone": "(778) 432-2111",
         "distance": 4662.480388622172,
         "id": "h_XuAu30GULV9qNLQQ9HeA",
         "image_url": "https://s3-media1.fl.yelpcdn.com/bphoto/4YB-zJwAsZ6pb7TUzP6UQw/o.jpg",
         "is_closed": false,
         "location": {
          "address1": "3 3960 Shelbourne Street",
          "address2": "",
          "address3": "",
          "city": "Victoria",
          "country": "CA",
          "display_address": [
           "3 3960 Shelbourne Street",
           "Victoria, BC V8N 3E2"
          ],
          "state": "BC",
          "zip_code": "V8N 3E2"
         },
         "name": "Lee's House Restaurant",
         "phone": "+17784322111",
         "price": "$$",
         "rating": 2.5,
         "review_count": 14,
         "transactions": [],
         "url": "https://www.yelp.ca/biz/lees-house-restaurant-victoria?adjust_creative=6IbiNCiVo8peFiWj0BRPDg&utm_campaign=yelp_api_v3&utm_medium=api_v3_business_search&utm_source=6IbiNCiVo8peFiWj0BRPDg"
        },
        {
         "alias": "east-garden-restaurant-victoria",
         "categories": [
          {
           "alias": "chinese",
           "title": "Chinese"
          }
         ],
         "coordinates": {
          "latitude": 48.44197,
          "longitude": -123.33921
         },
         "display_phone": "(250) 598-1232",
         "distance": 2164.083605115856,
         "id": "17e1NLjdMZkvha8tJb3mYg",
         "image_url": "https://s3-media1.fl.yelpcdn.com/bphoto/mLxw_UfZBSN-gN0vFN27NQ/o.jpg",
         "is_closed": false,
         "location": {
          "address1": "2888 Belmont Ave",
          "address2": "",
          "address3": "",
          "city": "Victoria",
          "country": "CA",
          "display_address": [
           "2888 Belmont Ave",
           "Victoria, BC V8R 6T3"
          ],
          "state": "BC",
          "zip_code": "V8R 6T3"
         },
         "name": "East Garden Restaurant",
         "phone": "+12505981232",
         "price": "$$",
         "rating": 2.5,
         "review_count": 9,
         "transactions": [],
         "url": "https://www.yelp.ca/biz/east-garden-restaurant-victoria?adjust_creative=6IbiNCiVo8peFiWj0BRPDg&utm_campaign=yelp_api_v3&utm_medium=api_v3_business_search&utm_source=6IbiNCiVo8peFiWj0BRPDg"
        },
        {
         "alias": "panda-island-victoria",
         "categories": [
          {
           "alias": "chinese",
           "title": "Chinese"
          },
          {
           "alias": "seafood",
           "title": "Seafood"
          },
          {
           "alias": "noodles",
           "title": "Noodles"
          }
         ],
         "coordinates": {
          "latitude": 48.42667,
          "longitude": -123.32411
         },
         "display_phone": "(250) 595-3021",
         "distance": 3176.3445846103277,
         "id": "DgHk8d4jxyNvsCTM09EHcg",
         "image_url": "",
         "is_closed": false,
         "location": {
          "address1": "1950 Oak Bay Avenue",
          "address2": "",
          "address3": null,
          "city": "Victoria",
          "country": "CA",
          "display_address": [
           "1950 Oak Bay Avenue",
           "Victoria, BC V8R 1C9"
          ],
          "state": "BC",
          "zip_code": "V8R 1C9"
         },
         "name": "Panda Island",
         "phone": "+12505953021",
         "rating": 5,
         "review_count": 1,
         "transactions": [],
         "url": "https://www.yelp.ca/biz/panda-island-victoria?adjust_creative=6IbiNCiVo8peFiWj0BRPDg&utm_campaign=yelp_api_v3&utm_medium=api_v3_business_search&utm_source=6IbiNCiVo8peFiWj0BRPDg"
        },
        {
         "alias": "jojo-jajangmyeon-victoria",
         "categories": [
          {
           "alias": "chinese",
           "title": "Chinese"
          },
          {
           "alias": "korean",
           "title": "Korean"
          }
         ],
         "coordinates": {
          "latitude": 48.4607001,
          "longitude": -123.3313407
         },
         "display_phone": "(778) 430-5424",
         "distance": 3930.8381690876236,
         "id": "vjH3ZawuBf84VKD8KpalFA",
         "image_url": "",
         "is_closed": false,
         "location": {
          "address1": "1630 Cedar Hill Cross Road",
          "address2": "",
          "address3": "",
          "city": "Victoria",
          "country": "CA",
          "display_address": [
           "1630 Cedar Hill Cross Road",
           "Victoria, BC V8P 2P6"
          ],
          "state": "BC",
          "zip_code": "V8P 2P6"
         },
         "name": "JOJO Jajangmyeon",
         "phone": "+17784305424",
         "price": "$$",
         "rating": 3,
         "review_count": 5,
         "transactions": [],
         "url": "https://www.yelp.ca/biz/jojo-jajangmyeon-victoria?adjust_creative=6IbiNCiVo8peFiWj0BRPDg&utm_campaign=yelp_api_v3&utm_medium=api_v3_business_search&utm_source=6IbiNCiVo8peFiWj0BRPDg"
        },
        {
         "alias": "kt-noodle-house-victoria",
         "categories": [
          {
           "alias": "noodles",
           "title": "Noodles"
          },
          {
           "alias": "chinese",
           "title": "Chinese"
          }
         ],
         "coordinates": {
          "latitude": 48.42912,
          "longitude": -123.36756
         },
         "display_phone": "(250) 590-3559",
         "distance": 521.4681597865718,
         "id": "tx83t5U8WjyxNZKvhm5uuw",
         "image_url": "https://s3-media2.fl.yelpcdn.com/bphoto/xemGx1A7jX3ZcbZrsH22Mw/o.jpg",
         "is_closed": false,
         "location": {
          "address1": "559 Fisgard St",
          "address2": "",
          "address3": null,
          "city": "Victoria",
          "country": "CA",
          "display_address": [
           "559 Fisgard St",
           "Victoria, BC V8W 1R5"
          ],
          "state": "BC",
          "zip_code": "V8W 1R5"
         },
         "name": "KT Noodle House",
         "phone": "+12505903559",
         "rating": 3,
         "review_count": 5,
         "transactions": [],
         "url": "https://www.yelp.ca/biz/kt-noodle-house-victoria?adjust_creative=6IbiNCiVo8peFiWj0BRPDg&utm_campaign=yelp_api_v3&utm_medium=api_v3_business_search&utm_source=6IbiNCiVo8peFiWj0BRPDg"
        },
        {
         "alias": "szechuan-city-buffet-victoria-2",
         "categories": [
          {
           "alias": "chinese",
           "title": "Chinese"
          }
         ],
         "coordinates": {
          "latitude": 48.44952,
          "longitude": -123.38404
         },
         "display_phone": "(250) 386-2288",
         "distance": 2207.5998373190873,
         "id": "mTyVkO7r55phjtNtWdY54A",
         "image_url": "https://s3-media2.fl.yelpcdn.com/bphoto/ONdT483rNVGKPGNYWpxKQQ/o.jpg",
         "is_closed": false,
         "location": {
          "address1": "110 Burnside Road E",
          "address2": "",
          "address3": "",
          "city": "Victoria",
          "country": "CA",
          "display_address": [
           "110 Burnside Road E",
           "Victoria, BC V9A 1A2"
          ],
          "state": "BC",
          "zip_code": "V9A 1A2"
         },
         "name": "Szechuan City Buffet",
         "phone": "+12503862288",
         "price": "$$",
         "rating": 2,
         "review_count": 10,
         "transactions": [],
         "url": "https://www.yelp.ca/biz/szechuan-city-buffet-victoria-2?adjust_creative=6IbiNCiVo8peFiWj0BRPDg&utm_campaign=yelp_api_v3&utm_medium=api_v3_business_search&utm_source=6IbiNCiVo8peFiWj0BRPDg"
        },
        {
         "alias": "sampan-express-victoria-5",
         "categories": [
          {
           "alias": "hotdogs",
           "title": "Fast Food"
          },
          {
           "alias": "chinese",
           "title": "Chinese"
          },
          {
           "alias": "coffee",
           "title": "Coffee & Tea"
          }
         ],
         "coordinates": {
          "latitude": 48.46952,
          "longitude": -123.3631
         },
         "display_phone": "(250) 744-3368",
         "distance": 3944.615620699025,
         "id": "Q1oDCbQ8dW1UnlqSzUJnxw",
         "image_url": "https://s3-media4.fl.yelpcdn.com/bphoto/fKMk3-CBfg8Ya3y76tRW4A/o.jpg",
         "is_closed": false,
         "location": {
          "address1": "601-3995 Quadra St",
          "address2": "",
          "address3": "",
          "city": "Victoria",
          "country": "CA",
          "display_address": [
           "601-3995 Quadra St",
           "Victoria, BC V8X 1J8"
          ],
          "state": "BC",
          "zip_code": "V8X 1J8"
         },
         "name": "Sampan Express",
         "phone": "+12507443368",
         "price": "$",
         "rating": 2,
         "review_count": 14,
         "transactions": [],
         "url": "https://www.yelp.ca/biz/sampan-express-victoria-5?adjust_creative=6IbiNCiVo8peFiWj0BRPDg&utm_campaign=yelp_api_v3&utm_medium=api_v3_business_search&utm_source=6IbiNCiVo8peFiWj0BRPDg"
        },
        {
         "alias": "mr-hotpot-victoria-2",
         "categories": [
          {
           "alias": "chinese",
           "title": "Chinese"
          }
         ],
         "coordinates": {
          "latitude": 48.4378,
          "longitude": -123.3079
         },
         "display_phone": "(778) 265-8882",
         "distance": 4291.126430900333,
         "id": "67Aded9Imcb6z7xcAQOmxA",
         "image_url": "https://s3-media2.fl.yelpcdn.com/bphoto/P-MwxFBVqw6kXOFCGB_v_w/o.jpg",
         "is_closed": false,
         "location": {
          "address1": "2510 Estevan Ave",
          "address2": null,
          "address3": "",
          "city": "Victoria",
          "country": "CA",
          "display_address": [
           "2510 Estevan Ave",
           "Victoria, BC V8R 5Z2"
          ],
          "state": "BC",
          "zip_code": "V8R 5Z2"
         },
         "name": "Mr. Hotpot",
         "phone": "+17782658882",
         "rating": 3,
         "review_count": 4,
         "transactions": [],
         "url": "https://www.yelp.ca/biz/mr-hotpot-victoria-2?adjust_creative=6IbiNCiVo8peFiWj0BRPDg&utm_campaign=yelp_api_v3&utm_medium=api_v3_business_search&utm_source=6IbiNCiVo8peFiWj0BRPDg"
        },
        {
         "alias": "hunan-village-cuisine-victoria",
         "categories": [
          {
           "alias": "chinese",
           "title": "Chinese"
          }
         ],
         "coordinates": {
          "latitude": 48.429476,
          "longitude": -123.3682337
         },
         "display_phone": "",
         "distance": 497.9678184896035,
         "id": "jekj3seEmJHbb2YgaJ8F2Q",
         "image_url": "https://s3-media3.fl.yelpcdn.com/bphoto/1mcm4RDOkz9fgR6M3_cQIA/o.jpg",
         "is_closed": false,
         "location": {
          "address1": "546 Fisgard St",
          "address2": "",
          "address3": "",
          "city": "Victoria",
          "country": "CA",
          "display_address": [
           "546 Fisgard St",
           "Victoria, BC V8W 1R4"
          ],
          "state": "BC",
          "zip_code": "V8W 1R4"
         },
         "name": "Hunan Village Cuisine",
         "phone": "",
         "rating": 3.5,
         "review_count": 2,
         "transactions": [],
         "url": "https://www.yelp.ca/biz/hunan-village-cuisine-victoria?adjust_creative=6IbiNCiVo8peFiWj0BRPDg&utm_campaign=yelp_api_v3&utm_medium=api_v3_business_search&utm_source=6IbiNCiVo8peFiWj0BRPDg"
        },
        {
         "alias": "fonbo-chinese-restaurant-victoria",
         "categories": [
          {
           "alias": "chinese",
           "title": "Chinese"
          }
         ],
         "coordinates": {
          "latitude": 48.4924812,
          "longitude": -123.387352
         },
         "display_phone": "(250) 479-7313",
         "distance": 6827.208582792002,
         "id": "18Pp1nR4B6dLH36lb3KMPA",
         "image_url": "",
         "is_closed": false,
         "location": {
          "address1": "4458 W Saanich Road",
          "address2": "",
          "address3": "",
          "city": "Victoria",
          "country": "CA",
          "display_address": [
           "4458 W Saanich Road",
           "Victoria, BC V8Z 3G2"
          ],
          "state": "BC",
          "zip_code": "V8Z 3G2"
         },
         "name": "Fonbo Chinese Restaurant",
         "phone": "+12504797313",
         "price": "$$",
         "rating": 2.5,
         "review_count": 6,
         "transactions": [],
         "url": "https://www.yelp.ca/biz/fonbo-chinese-restaurant-victoria?adjust_creative=6IbiNCiVo8peFiWj0BRPDg&utm_campaign=yelp_api_v3&utm_medium=api_v3_business_search&utm_source=6IbiNCiVo8peFiWj0BRPDg"
        },
        {
         "alias": "wings-restaurant-victoria-2",
         "categories": [
          {
           "alias": "buffets",
           "title": "Buffets"
          },
          {
           "alias": "chinese",
           "title": "Chinese"
          }
         ],
         "coordinates": {
          "latitude": 48.4454305,
          "longitude": -123.3927499
         },
         "display_phone": "(250) 385-5564",
         "distance": 2373.6473840051935,
         "id": "gNpy0qsrN8iY1CSqvvX8zw",
         "image_url": "https://s3-media2.fl.yelpcdn.com/bphoto/bmvI8V07BRJFhbuDZq2rDQ/o.jpg",
         "is_closed": false,
         "location": {
          "address1": "90 Gorge Road W",
          "address2": "",
          "address3": "",
          "city": "Victoria",
          "country": "CA",
          "display_address": [
           "90 Gorge Road W",
           "Victoria, BC V9A 1M1"
          ],
          "state": "BC",
          "zip_code": "V9A 1M1"
         },
         "name": "Wing's Restaurant",
         "phone": "+12503855564",
         "price": "$",
         "rating": 1.5,
         "review_count": 14,
         "transactions": [],
         "url": "https://www.yelp.ca/biz/wings-restaurant-victoria-2?adjust_creative=6IbiNCiVo8peFiWj0BRPDg&utm_campaign=yelp_api_v3&utm_medium=api_v3_business_search&utm_source=6IbiNCiVo8peFiWj0BRPDg"
        },
        {
         "alias": "heart-of-asia-victoria",
         "categories": [
          {
           "alias": "chinese",
           "title": "Chinese"
          }
         ],
         "coordinates": {
          "latitude": 48.460626,
          "longitude": -123.33106
         },
         "display_phone": "(778) 432-3700",
         "distance": 3938.008300095702,
         "id": "MBMAQkfxWY3IQ-Cf5cR8vg",
         "image_url": "https://s3-media3.fl.yelpcdn.com/bphoto/0fgg-RHSsG6RB7ArqiuViA/o.jpg",
         "is_closed": false,
         "location": {
          "address1": "1640 Cedar Hill Road",
          "address2": "",
          "address3": "",
          "city": "Victoria",
          "country": "CA",
          "display_address": [
           "1640 Cedar Hill Road",
           "Victoria, BC V8P 2P6"
          ],
          "state": "BC",
          "zip_code": "V8P 2P6"
         },
         "name": "Heart of Asia",
         "phone": "+17784323700",
         "price": "$$",
         "rating": 2.5,
         "review_count": 3,
         "transactions": [],
         "url": "https://www.yelp.ca/biz/heart-of-asia-victoria?adjust_creative=6IbiNCiVo8peFiWj0BRPDg&utm_campaign=yelp_api_v3&utm_medium=api_v3_business_search&utm_source=6IbiNCiVo8peFiWj0BRPDg"
        }
       ],
       "region": {
        "center": {
         "latitude": 48.43374506446734,
         "longitude": -123.3658218383789
        }
       },
       "total": 54
      },
      "text/plain": [
       "<IPython.core.display.JSON object>"
      ]
     },
     "execution_count": 10,
     "metadata": {
      "application/json": {
       "expanded": false,
       "root": "root"
      }
     },
     "output_type": "execute_result"
    }
   ],
   "source": [
    "# Chinese Restaurants Info from Yelp\n",
    "\n",
    "params_yelp3 = trans_params_yelp('chinese', 'Victoria,BC', 'en_CA', '50')\n",
    "res_yelp3 = get_res(base_yelp, path_yelp, headers_yelp, params_yelp3)\n",
    "JSON(res_yelp3)"
   ]
  },
  {
   "cell_type": "code",
   "execution_count": 11,
   "id": "a44539b1-3310-4bcb-8116-c88c21427f74",
   "metadata": {},
   "outputs": [
    {
     "data": {
      "text/html": [
       "<div>\n",
       "<style scoped>\n",
       "    .dataframe tbody tr th:only-of-type {\n",
       "        vertical-align: middle;\n",
       "    }\n",
       "\n",
       "    .dataframe tbody tr th {\n",
       "        vertical-align: top;\n",
       "    }\n",
       "\n",
       "    .dataframe thead th {\n",
       "        text-align: right;\n",
       "    }\n",
       "</style>\n",
       "<table border=\"1\" class=\"dataframe\">\n",
       "  <thead>\n",
       "    <tr style=\"text-align: right;\">\n",
       "      <th></th>\n",
       "      <th>id</th>\n",
       "      <th>alias</th>\n",
       "      <th>name</th>\n",
       "      <th>image_url</th>\n",
       "      <th>is_closed</th>\n",
       "      <th>url</th>\n",
       "      <th>review_count</th>\n",
       "      <th>categories</th>\n",
       "      <th>rating</th>\n",
       "      <th>transactions</th>\n",
       "      <th>...</th>\n",
       "      <th>coordinates.latitude</th>\n",
       "      <th>coordinates.longitude</th>\n",
       "      <th>location.address1</th>\n",
       "      <th>location.address2</th>\n",
       "      <th>location.address3</th>\n",
       "      <th>location.city</th>\n",
       "      <th>location.zip_code</th>\n",
       "      <th>location.country</th>\n",
       "      <th>location.state</th>\n",
       "      <th>location.display_address</th>\n",
       "    </tr>\n",
       "  </thead>\n",
       "  <tbody>\n",
       "    <tr>\n",
       "      <th>0</th>\n",
       "      <td>W6vrfL6oPVqLOnTDDH-bOw</td>\n",
       "      <td>diversified-health-clinic-victoria-2</td>\n",
       "      <td>Diversified Health Clinic</td>\n",
       "      <td>https://s3-media1.fl.yelpcdn.com/bphoto/AHABx6...</td>\n",
       "      <td>False</td>\n",
       "      <td>https://www.yelp.ca/biz/diversified-health-cli...</td>\n",
       "      <td>4</td>\n",
       "      <td>[{'alias': 'acupuncture', 'title': 'Acupunctur...</td>\n",
       "      <td>5.0</td>\n",
       "      <td>[]</td>\n",
       "      <td>...</td>\n",
       "      <td>48.423517</td>\n",
       "      <td>-123.355138</td>\n",
       "      <td>1063 Fort Street</td>\n",
       "      <td></td>\n",
       "      <td></td>\n",
       "      <td>Victoria</td>\n",
       "      <td>V8V 3K5</td>\n",
       "      <td>CA</td>\n",
       "      <td>BC</td>\n",
       "      <td>[1063 Fort Street, Victoria, BC V8V 3K5]</td>\n",
       "    </tr>\n",
       "    <tr>\n",
       "      <th>1</th>\n",
       "      <td>k7f0sFtNFeOi6ZtBFRNN3w</td>\n",
       "      <td>geometry-integrated-health-victoria</td>\n",
       "      <td>Geometry Integrated Health</td>\n",
       "      <td>https://s3-media4.fl.yelpcdn.com/bphoto/GtXAFm...</td>\n",
       "      <td>False</td>\n",
       "      <td>https://www.yelp.ca/biz/geometry-integrated-he...</td>\n",
       "      <td>3</td>\n",
       "      <td>[{'alias': 'massage_therapy', 'title': 'Massag...</td>\n",
       "      <td>5.0</td>\n",
       "      <td>[]</td>\n",
       "      <td>...</td>\n",
       "      <td>48.423130</td>\n",
       "      <td>-123.361660</td>\n",
       "      <td>827 Broughton Street</td>\n",
       "      <td>None</td>\n",
       "      <td></td>\n",
       "      <td>Victoria</td>\n",
       "      <td>V8W 1E4</td>\n",
       "      <td>CA</td>\n",
       "      <td>BC</td>\n",
       "      <td>[827 Broughton Street, Victoria, BC V8W 1E4]</td>\n",
       "    </tr>\n",
       "    <tr>\n",
       "      <th>2</th>\n",
       "      <td>gxz_jJg4QTM2yKp1eRGu7w</td>\n",
       "      <td>equilibrium-massage-therapy-victoria</td>\n",
       "      <td>Equilibrium Massage Therapy</td>\n",
       "      <td>https://s3-media1.fl.yelpcdn.com/bphoto/jQVjAW...</td>\n",
       "      <td>False</td>\n",
       "      <td>https://www.yelp.ca/biz/equilibrium-massage-th...</td>\n",
       "      <td>3</td>\n",
       "      <td>[{'alias': 'physicaltherapy', 'title': 'Physic...</td>\n",
       "      <td>5.0</td>\n",
       "      <td>[]</td>\n",
       "      <td>...</td>\n",
       "      <td>48.424680</td>\n",
       "      <td>-123.352890</td>\n",
       "      <td>101-1121 Yates Street</td>\n",
       "      <td></td>\n",
       "      <td></td>\n",
       "      <td>Victoria</td>\n",
       "      <td>V8V 3N1</td>\n",
       "      <td>CA</td>\n",
       "      <td>BC</td>\n",
       "      <td>[101-1121 Yates Street, Victoria, BC V8V 3N1]</td>\n",
       "    </tr>\n",
       "    <tr>\n",
       "      <th>3</th>\n",
       "      <td>ma7VsFU0lSvYNx8OQGi8Ag</td>\n",
       "      <td>synergy-victoria</td>\n",
       "      <td>Synergy Health Centre</td>\n",
       "      <td>https://s3-media3.fl.yelpcdn.com/bphoto/I3GA4f...</td>\n",
       "      <td>False</td>\n",
       "      <td>https://www.yelp.ca/biz/synergy-victoria?adjus...</td>\n",
       "      <td>3</td>\n",
       "      <td>[{'alias': 'chiropractors', 'title': 'Chiropra...</td>\n",
       "      <td>5.0</td>\n",
       "      <td>[]</td>\n",
       "      <td>...</td>\n",
       "      <td>48.468230</td>\n",
       "      <td>-123.363934</td>\n",
       "      <td>106-3960 Quadra Street</td>\n",
       "      <td></td>\n",
       "      <td></td>\n",
       "      <td>Victoria</td>\n",
       "      <td>V8X 4A3</td>\n",
       "      <td>CA</td>\n",
       "      <td>BC</td>\n",
       "      <td>[106-3960 Quadra Street, Victoria, BC V8X 4A3]</td>\n",
       "    </tr>\n",
       "    <tr>\n",
       "      <th>4</th>\n",
       "      <td>UOajI9hib9FZkWxgqZNIVQ</td>\n",
       "      <td>juniper-family-health-victoria</td>\n",
       "      <td>Juniper Family Health</td>\n",
       "      <td>https://s3-media2.fl.yelpcdn.com/bphoto/vOsXOE...</td>\n",
       "      <td>False</td>\n",
       "      <td>https://www.yelp.ca/biz/juniper-family-health-...</td>\n",
       "      <td>2</td>\n",
       "      <td>[{'alias': 'naturopathic', 'title': 'Naturopat...</td>\n",
       "      <td>5.0</td>\n",
       "      <td>[]</td>\n",
       "      <td>...</td>\n",
       "      <td>48.423900</td>\n",
       "      <td>-123.353400</td>\n",
       "      <td>1175 Cook Street</td>\n",
       "      <td>Suite 314</td>\n",
       "      <td></td>\n",
       "      <td>Victoria</td>\n",
       "      <td>V8V 4A1</td>\n",
       "      <td>CA</td>\n",
       "      <td>BC</td>\n",
       "      <td>[1175 Cook Street, Suite 314, Victoria, BC V8V...</td>\n",
       "    </tr>\n",
       "  </tbody>\n",
       "</table>\n",
       "<p>5 rows × 23 columns</p>\n",
       "</div>"
      ],
      "text/plain": [
       "                       id                                 alias  \\\n",
       "0  W6vrfL6oPVqLOnTDDH-bOw  diversified-health-clinic-victoria-2   \n",
       "1  k7f0sFtNFeOi6ZtBFRNN3w   geometry-integrated-health-victoria   \n",
       "2  gxz_jJg4QTM2yKp1eRGu7w  equilibrium-massage-therapy-victoria   \n",
       "3  ma7VsFU0lSvYNx8OQGi8Ag                      synergy-victoria   \n",
       "4  UOajI9hib9FZkWxgqZNIVQ        juniper-family-health-victoria   \n",
       "\n",
       "                          name  \\\n",
       "0    Diversified Health Clinic   \n",
       "1   Geometry Integrated Health   \n",
       "2  Equilibrium Massage Therapy   \n",
       "3        Synergy Health Centre   \n",
       "4        Juniper Family Health   \n",
       "\n",
       "                                           image_url  is_closed  \\\n",
       "0  https://s3-media1.fl.yelpcdn.com/bphoto/AHABx6...      False   \n",
       "1  https://s3-media4.fl.yelpcdn.com/bphoto/GtXAFm...      False   \n",
       "2  https://s3-media1.fl.yelpcdn.com/bphoto/jQVjAW...      False   \n",
       "3  https://s3-media3.fl.yelpcdn.com/bphoto/I3GA4f...      False   \n",
       "4  https://s3-media2.fl.yelpcdn.com/bphoto/vOsXOE...      False   \n",
       "\n",
       "                                                 url  review_count  \\\n",
       "0  https://www.yelp.ca/biz/diversified-health-cli...             4   \n",
       "1  https://www.yelp.ca/biz/geometry-integrated-he...             3   \n",
       "2  https://www.yelp.ca/biz/equilibrium-massage-th...             3   \n",
       "3  https://www.yelp.ca/biz/synergy-victoria?adjus...             3   \n",
       "4  https://www.yelp.ca/biz/juniper-family-health-...             2   \n",
       "\n",
       "                                          categories  rating transactions  \\\n",
       "0  [{'alias': 'acupuncture', 'title': 'Acupunctur...     5.0           []   \n",
       "1  [{'alias': 'massage_therapy', 'title': 'Massag...     5.0           []   \n",
       "2  [{'alias': 'physicaltherapy', 'title': 'Physic...     5.0           []   \n",
       "3  [{'alias': 'chiropractors', 'title': 'Chiropra...     5.0           []   \n",
       "4  [{'alias': 'naturopathic', 'title': 'Naturopat...     5.0           []   \n",
       "\n",
       "   ... coordinates.latitude coordinates.longitude       location.address1  \\\n",
       "0  ...            48.423517           -123.355138        1063 Fort Street   \n",
       "1  ...            48.423130           -123.361660    827 Broughton Street   \n",
       "2  ...            48.424680           -123.352890   101-1121 Yates Street   \n",
       "3  ...            48.468230           -123.363934  106-3960 Quadra Street   \n",
       "4  ...            48.423900           -123.353400        1175 Cook Street   \n",
       "\n",
       "   location.address2  location.address3 location.city location.zip_code  \\\n",
       "0                                            Victoria           V8V 3K5   \n",
       "1               None                         Victoria           V8W 1E4   \n",
       "2                                            Victoria           V8V 3N1   \n",
       "3                                            Victoria           V8X 4A3   \n",
       "4          Suite 314                         Victoria           V8V 4A1   \n",
       "\n",
       "  location.country location.state  \\\n",
       "0               CA             BC   \n",
       "1               CA             BC   \n",
       "2               CA             BC   \n",
       "3               CA             BC   \n",
       "4               CA             BC   \n",
       "\n",
       "                            location.display_address  \n",
       "0           [1063 Fort Street, Victoria, BC V8V 3K5]  \n",
       "1       [827 Broughton Street, Victoria, BC V8W 1E4]  \n",
       "2      [101-1121 Yates Street, Victoria, BC V8V 3N1]  \n",
       "3     [106-3960 Quadra Street, Victoria, BC V8X 4A3]  \n",
       "4  [1175 Cook Street, Suite 314, Victoria, BC V8V...  \n",
       "\n",
       "[5 rows x 23 columns]"
      ]
     },
     "execution_count": 11,
     "metadata": {},
     "output_type": "execute_result"
    }
   ],
   "source": [
    "pd.json_normalize(res_yelp1['businesses']).head()"
   ]
  },
  {
   "cell_type": "code",
   "execution_count": 12,
   "id": "4fa46800-eec4-4461-84dd-bd72b31d7ec1",
   "metadata": {},
   "outputs": [
    {
     "data": {
      "text/html": [
       "<div>\n",
       "<style scoped>\n",
       "    .dataframe tbody tr th:only-of-type {\n",
       "        vertical-align: middle;\n",
       "    }\n",
       "\n",
       "    .dataframe tbody tr th {\n",
       "        vertical-align: top;\n",
       "    }\n",
       "\n",
       "    .dataframe thead th {\n",
       "        text-align: right;\n",
       "    }\n",
       "</style>\n",
       "<table border=\"1\" class=\"dataframe\">\n",
       "  <thead>\n",
       "    <tr style=\"text-align: right;\">\n",
       "      <th></th>\n",
       "      <th>name</th>\n",
       "      <th>rating</th>\n",
       "      <th>review_count</th>\n",
       "      <th>location.zip_code</th>\n",
       "      <th>location.address1</th>\n",
       "      <th>category</th>\n",
       "      <th>category_id</th>\n",
       "    </tr>\n",
       "  </thead>\n",
       "  <tbody>\n",
       "    <tr>\n",
       "      <th>0</th>\n",
       "      <td>Diversified Health Clinic</td>\n",
       "      <td>5.0</td>\n",
       "      <td>4</td>\n",
       "      <td>V8V 3K5</td>\n",
       "      <td>1063 Fort Street</td>\n",
       "      <td>Chiropractor</td>\n",
       "      <td>1</td>\n",
       "    </tr>\n",
       "    <tr>\n",
       "      <th>1</th>\n",
       "      <td>Geometry Integrated Health</td>\n",
       "      <td>5.0</td>\n",
       "      <td>3</td>\n",
       "      <td>V8W 1E4</td>\n",
       "      <td>827 Broughton Street</td>\n",
       "      <td>Chiropractor</td>\n",
       "      <td>1</td>\n",
       "    </tr>\n",
       "    <tr>\n",
       "      <th>2</th>\n",
       "      <td>Equilibrium Massage Therapy</td>\n",
       "      <td>5.0</td>\n",
       "      <td>3</td>\n",
       "      <td>V8V 3N1</td>\n",
       "      <td>101-1121 Yates Street</td>\n",
       "      <td>Chiropractor</td>\n",
       "      <td>1</td>\n",
       "    </tr>\n",
       "    <tr>\n",
       "      <th>3</th>\n",
       "      <td>Synergy Health Centre</td>\n",
       "      <td>5.0</td>\n",
       "      <td>3</td>\n",
       "      <td>V8X 4A3</td>\n",
       "      <td>106-3960 Quadra Street</td>\n",
       "      <td>Chiropractor</td>\n",
       "      <td>1</td>\n",
       "    </tr>\n",
       "    <tr>\n",
       "      <th>4</th>\n",
       "      <td>Juniper Family Health</td>\n",
       "      <td>5.0</td>\n",
       "      <td>2</td>\n",
       "      <td>V8V 4A1</td>\n",
       "      <td>1175 Cook Street</td>\n",
       "      <td>Chiropractor</td>\n",
       "      <td>1</td>\n",
       "    </tr>\n",
       "  </tbody>\n",
       "</table>\n",
       "</div>"
      ],
      "text/plain": [
       "                          name  rating  review_count location.zip_code  \\\n",
       "0    Diversified Health Clinic     5.0             4           V8V 3K5   \n",
       "1   Geometry Integrated Health     5.0             3           V8W 1E4   \n",
       "2  Equilibrium Massage Therapy     5.0             3           V8V 3N1   \n",
       "3        Synergy Health Centre     5.0             3           V8X 4A3   \n",
       "4        Juniper Family Health     5.0             2           V8V 4A1   \n",
       "\n",
       "        location.address1      category  category_id  \n",
       "0        1063 Fort Street  Chiropractor            1  \n",
       "1    827 Broughton Street  Chiropractor            1  \n",
       "2   101-1121 Yates Street  Chiropractor            1  \n",
       "3  106-3960 Quadra Street  Chiropractor            1  \n",
       "4        1175 Cook Street  Chiropractor            1  "
      ]
     },
     "execution_count": 12,
     "metadata": {},
     "output_type": "execute_result"
    }
   ],
   "source": [
    "df_yelp1 = pd.json_normalize(res_yelp1['businesses'])[['name', 'rating', 'review_count', 'location.zip_code', 'location.address1']]\n",
    "df_yelp2 = pd.json_normalize(res_yelp2['businesses'])[['name', 'rating', 'review_count', 'location.zip_code', 'location.address1']]\n",
    "df_yelp3 = pd.json_normalize(res_yelp3['businesses'])[['name', 'rating', 'review_count', 'location.zip_code', 'location.address1']]\n",
    "\n",
    "df_yelp1[['category', 'category_id']] = ['Chiropractor', 1]\n",
    "df_yelp2[['category', 'category_id']] = ['Pet Store', 2]\n",
    "df_yelp3[['category', 'category_id']] = ['Chinese Restaurant', 3]\n",
    "\n",
    "df_yelp = pd.concat([df_yelp1, df_yelp2, df_yelp3])\n",
    "df_yelp.head()"
   ]
  },
  {
   "cell_type": "code",
   "execution_count": 13,
   "id": "43bac305-5872-44fe-9b8c-5f159aee913e",
   "metadata": {},
   "outputs": [
    {
     "data": {
      "text/plain": [
       "(87, 7)"
      ]
     },
     "execution_count": 13,
     "metadata": {},
     "output_type": "execute_result"
    }
   ],
   "source": [
    "df_yelp.shape"
   ]
  },
  {
   "cell_type": "code",
   "execution_count": 14,
   "id": "b29bf780-2447-4032-883f-f6b2824e0455",
   "metadata": {},
   "outputs": [
    {
     "data": {
      "text/plain": [
       "str"
      ]
     },
     "execution_count": 14,
     "metadata": {},
     "output_type": "execute_result"
    }
   ],
   "source": [
    "type(df_yelp.iloc[0,0])"
   ]
  },
  {
   "cell_type": "code",
   "execution_count": 15,
   "id": "7cd5b4b8-7fb5-423c-926c-e771f36bcd51",
   "metadata": {},
   "outputs": [
    {
     "data": {
      "text/plain": [
       "dtype('O')"
      ]
     },
     "execution_count": 15,
     "metadata": {},
     "output_type": "execute_result"
    }
   ],
   "source": [
    "df_yelp['name'].dtypes"
   ]
  },
  {
   "cell_type": "markdown",
   "id": "ee09c6e5-79c9-4150-b453-78f49d65e8d7",
   "metadata": {},
   "source": [
    "### 2. Create own SQLite database and store the data about the POIs. "
   ]
  },
  {
   "cell_type": "code",
   "execution_count": 16,
   "id": "140c61fd-b460-4227-b073-a9fe2630c0e9",
   "metadata": {},
   "outputs": [
    {
     "name": "stdout",
     "output_type": "stream",
     "text": [
      "Connection to SQLite DB successful\n"
     ]
    }
   ],
   "source": [
    "def create_connection(path):\n",
    "    connection = None\n",
    "    try:\n",
    "        connection = sqlite3.connect(path)\n",
    "        print(\"Connection to SQLite DB successful\")\n",
    "    except Error as e:\n",
    "        print(f\"The error '{e}' occurred\")\n",
    "\n",
    "    return connection\n",
    "connection = create_connection(\"sm_app.sqlite\")"
   ]
  },
  {
   "cell_type": "code",
   "execution_count": 17,
   "id": "a5db927b-30c8-458c-b323-05fd5db20c79",
   "metadata": {},
   "outputs": [],
   "source": [
    "def execute_query(connection, query):\n",
    "    cursor = connection.cursor()\n",
    "    try:\n",
    "        cursor.execute(query)\n",
    "        connection.commit()\n",
    "    except Error as e:\n",
    "        print(f\"The error '{e}' occurred\")"
   ]
  },
  {
   "cell_type": "code",
   "execution_count": 18,
   "id": "7e2fef66-8c58-466e-9146-3ea58fd7b5f3",
   "metadata": {},
   "outputs": [],
   "source": [
    "drop_POI = \"DROP TABLE IF EXISTS POI;\"\n",
    "drop_categories = \"DROP TABLE IF EXISTS categories;\"\n",
    "drop_ratings = \"DROP TABLE IF EXISTS ratings;\"\n",
    "drop_locations = \"DROP TABLE IF EXISTS locations;\"\n",
    "\n",
    "execute_query(connection, drop_POI)\n",
    "execute_query(connection, drop_categories)\n",
    "execute_query(connection, drop_ratings)        \n",
    "execute_query(connection, drop_locations)        \n",
    "\n",
    "\n",
    "# create table POI (places of interest)\n",
    "create_POI_table = \"\"\"\n",
    "    CREATE TABLE POI (\n",
    "        id INTEGER PRIMARY KEY AUTOINCREMENT,\n",
    "        name TEXT\n",
    "    );\n",
    "\"\"\"\n",
    "# create table categories (of POI)\n",
    "create_categories_table = \"\"\"\n",
    "    CREATE TABLE categories (\n",
    "        id INTEGER PRIMARY KEY AUTOINCREMENT,\n",
    "        name TEXT\n",
    "    );\n",
    "\"\"\"\n",
    "\n",
    "# create table categories (of POI)\n",
    "create_ratings_table = \"\"\"\n",
    "    CREATE TABLE ratings (\n",
    "        business_id INTEGER PRIMARY KEY AUTOINCREMENT,\n",
    "        category_id INTEGER,\n",
    "        rating FLOAT,\n",
    "        review_count INTEGER\n",
    "    );\n",
    "\"\"\"\n",
    "\n",
    "create_locations_table = \"\"\"\n",
    "    CREATE TABLE locations (\n",
    "        business_id INTEGER PRIMARY KEY AUTOINCREMENT,\n",
    "        address TEXT,\n",
    "        zipcode TEXT\n",
    "    )\n",
    "\n",
    "\"\"\"\n",
    "\n",
    "execute_query(connection, create_POI_table)\n",
    "execute_query(connection, create_categories_table)\n",
    "execute_query(connection, create_ratings_table)\n",
    "execute_query(connection, create_locations_table)        "
   ]
  },
  {
   "cell_type": "code",
   "execution_count": 19,
   "id": "56e7d273-7ee3-4633-8a7e-7f2dec8f3222",
   "metadata": {},
   "outputs": [],
   "source": [
    "#\n",
    "insert_categories = f\"\"\"\n",
    "    INSERT INTO categories (name)\n",
    "    VALUES\n",
    "        ('Chiropractor'),\n",
    "        ('Pet Store'),\n",
    "        ('Chinese Restaurant')\n",
    "    ;\n",
    "\"\"\"\n",
    "execute_query(connection, insert_categories)\n",
    "\n",
    "#\n",
    "for i, row in df_yelp.iterrows():\n",
    "    \n",
    "    insert_POI = f\"\"\"\n",
    "        INSERT INTO POI (name)\n",
    "        VALUES (\"{row['name']}\")\n",
    "        ;\n",
    "    \"\"\"\n",
    "    insert_ratings = f\"\"\"\n",
    "        INSERT INTO ratings (category_id, rating, review_count)\n",
    "        VALUES ({row['category_id']}, {row['rating']}, {row['review_count']})\n",
    "        ;\n",
    "    \"\"\"\n",
    "    insert_locations = f\"\"\"\n",
    "        INSERT INTO locations (address, zipcode)\n",
    "        VALUES (\"{row['location.address1']}\", \"{row['location.zip_code']}\")\n",
    "    \"\"\"\n",
    "\n",
    "    execute_query(connection, insert_POI)\n",
    "    execute_query(connection, insert_ratings)\n",
    "    execute_query(connection, insert_locations)"
   ]
  },
  {
   "cell_type": "markdown",
   "id": "4f78c2b4-fbbc-4a5a-beb5-c9745207b78b",
   "metadata": {},
   "source": [
    "### 3. Compare the results and see which API has a better coverage of the area."
   ]
  },
  {
   "cell_type": "code",
   "execution_count": 20,
   "id": "08314bea-5551-4c35-9d10-e86327ccc448",
   "metadata": {},
   "outputs": [
    {
     "data": {
      "text/html": [
       "<div>\n",
       "<style scoped>\n",
       "    .dataframe tbody tr th:only-of-type {\n",
       "        vertical-align: middle;\n",
       "    }\n",
       "\n",
       "    .dataframe tbody tr th {\n",
       "        vertical-align: top;\n",
       "    }\n",
       "\n",
       "    .dataframe thead th {\n",
       "        text-align: right;\n",
       "    }\n",
       "</style>\n",
       "<table border=\"1\" class=\"dataframe\">\n",
       "  <thead>\n",
       "    <tr style=\"text-align: right;\">\n",
       "      <th></th>\n",
       "      <th>name</th>\n",
       "      <th>popularity</th>\n",
       "      <th>location.address</th>\n",
       "      <th>location.postcode</th>\n",
       "      <th>category</th>\n",
       "    </tr>\n",
       "  </thead>\n",
       "  <tbody>\n",
       "    <tr>\n",
       "      <th>0</th>\n",
       "      <td>UC Life Chiropractic Centre</td>\n",
       "      <td>0.077949</td>\n",
       "      <td>1113 Langley St</td>\n",
       "      <td>V8W 1V9</td>\n",
       "      <td>Chiropractor</td>\n",
       "    </tr>\n",
       "    <tr>\n",
       "      <th>1</th>\n",
       "      <td>Fix Healthcare</td>\n",
       "      <td>0.918929</td>\n",
       "      <td>805 Johnson St</td>\n",
       "      <td>V8W 1N4</td>\n",
       "      <td>Chiropractor</td>\n",
       "    </tr>\n",
       "    <tr>\n",
       "      <th>2</th>\n",
       "      <td>Elder Chiropractic Office</td>\n",
       "      <td>0.438866</td>\n",
       "      <td>1116 Blanshard St</td>\n",
       "      <td>V8W 2H6</td>\n",
       "      <td>Chiropractor</td>\n",
       "    </tr>\n",
       "    <tr>\n",
       "      <th>3</th>\n",
       "      <td>Coastal Chiropractic</td>\n",
       "      <td>0.427696</td>\n",
       "      <td>2950 Douglas St</td>\n",
       "      <td>V8T 4N4</td>\n",
       "      <td>Chiropractor</td>\n",
       "    </tr>\n",
       "    <tr>\n",
       "      <th>4</th>\n",
       "      <td>Diversified Health Clinic Ltd</td>\n",
       "      <td>0.888061</td>\n",
       "      <td>1063 Fort St</td>\n",
       "      <td>V8V 3K5</td>\n",
       "      <td>Chiropractor</td>\n",
       "    </tr>\n",
       "  </tbody>\n",
       "</table>\n",
       "</div>"
      ],
      "text/plain": [
       "                            name  popularity   location.address  \\\n",
       "0    UC Life Chiropractic Centre    0.077949    1113 Langley St   \n",
       "1                 Fix Healthcare    0.918929     805 Johnson St   \n",
       "2      Elder Chiropractic Office    0.438866  1116 Blanshard St   \n",
       "3           Coastal Chiropractic    0.427696    2950 Douglas St   \n",
       "4  Diversified Health Clinic Ltd    0.888061       1063 Fort St   \n",
       "\n",
       "  location.postcode      category  \n",
       "0           V8W 1V9  Chiropractor  \n",
       "1           V8W 1N4  Chiropractor  \n",
       "2           V8W 2H6  Chiropractor  \n",
       "3           V8T 4N4  Chiropractor  \n",
       "4           V8V 3K5  Chiropractor  "
      ]
     },
     "execution_count": 20,
     "metadata": {},
     "output_type": "execute_result"
    }
   ],
   "source": [
    "df_fs1 = pd.json_normalize(res_fs1['results'])[['name', 'popularity', 'location.address', 'location.postcode']] \n",
    "df_fs2 = pd.json_normalize(res_fs2['results'])[['name', 'popularity', 'location.address', 'location.postcode']] \n",
    "df_fs3 = pd.json_normalize(res_fs3['results'])[['name', 'popularity', 'location.address', 'location.postcode']] \n",
    "\n",
    "df_fs1['category'] = 'Chiropractor'\n",
    "df_fs2['category'] = 'Pet Store'\n",
    "df_fs3['category'] = 'Chinese Restaurant'\n",
    "\n",
    "df_fs = pd.concat([df_fs1, df_fs2, df_fs3])\n",
    "df_fs.head()"
   ]
  },
  {
   "cell_type": "code",
   "execution_count": 21,
   "id": "ac95f310-95fb-4fd2-a63d-6110e779710b",
   "metadata": {},
   "outputs": [
    {
     "data": {
      "text/html": [
       "<div>\n",
       "<style scoped>\n",
       "    .dataframe tbody tr th:only-of-type {\n",
       "        vertical-align: middle;\n",
       "    }\n",
       "\n",
       "    .dataframe tbody tr th {\n",
       "        vertical-align: top;\n",
       "    }\n",
       "\n",
       "    .dataframe thead th {\n",
       "        text-align: right;\n",
       "    }\n",
       "</style>\n",
       "<table border=\"1\" class=\"dataframe\">\n",
       "  <thead>\n",
       "    <tr style=\"text-align: right;\">\n",
       "      <th></th>\n",
       "      <th>category</th>\n",
       "      <th>name</th>\n",
       "      <th>API</th>\n",
       "    </tr>\n",
       "  </thead>\n",
       "  <tbody>\n",
       "    <tr>\n",
       "      <th>0</th>\n",
       "      <td>Chinese Restaurant</td>\n",
       "      <td>31</td>\n",
       "      <td>FourSquare</td>\n",
       "    </tr>\n",
       "    <tr>\n",
       "      <th>1</th>\n",
       "      <td>Chiropractor</td>\n",
       "      <td>9</td>\n",
       "      <td>FourSquare</td>\n",
       "    </tr>\n",
       "    <tr>\n",
       "      <th>2</th>\n",
       "      <td>Pet Store</td>\n",
       "      <td>16</td>\n",
       "      <td>FourSquare</td>\n",
       "    </tr>\n",
       "  </tbody>\n",
       "</table>\n",
       "</div>"
      ],
      "text/plain": [
       "             category  name         API\n",
       "0  Chinese Restaurant    31  FourSquare\n",
       "1        Chiropractor     9  FourSquare\n",
       "2           Pet Store    16  FourSquare"
      ]
     },
     "execution_count": 21,
     "metadata": {},
     "output_type": "execute_result"
    }
   ],
   "source": [
    "FourSquare = df_fs[['name', 'category']].groupby('category', as_index=False).count()\n",
    "FourSquare['API'] = 'FourSquare'\n",
    "FourSquare"
   ]
  },
  {
   "cell_type": "code",
   "execution_count": 22,
   "id": "61488d51-1a64-4f6d-9a2a-dd89b96e01c7",
   "metadata": {},
   "outputs": [
    {
     "data": {
      "text/html": [
       "<div>\n",
       "<style scoped>\n",
       "    .dataframe tbody tr th:only-of-type {\n",
       "        vertical-align: middle;\n",
       "    }\n",
       "\n",
       "    .dataframe tbody tr th {\n",
       "        vertical-align: top;\n",
       "    }\n",
       "\n",
       "    .dataframe thead th {\n",
       "        text-align: right;\n",
       "    }\n",
       "</style>\n",
       "<table border=\"1\" class=\"dataframe\">\n",
       "  <thead>\n",
       "    <tr style=\"text-align: right;\">\n",
       "      <th></th>\n",
       "      <th>category</th>\n",
       "      <th>name</th>\n",
       "      <th>API</th>\n",
       "    </tr>\n",
       "  </thead>\n",
       "  <tbody>\n",
       "    <tr>\n",
       "      <th>0</th>\n",
       "      <td>Chinese Restaurant</td>\n",
       "      <td>50</td>\n",
       "      <td>Yelp</td>\n",
       "    </tr>\n",
       "    <tr>\n",
       "      <th>1</th>\n",
       "      <td>Chiropractor</td>\n",
       "      <td>18</td>\n",
       "      <td>Yelp</td>\n",
       "    </tr>\n",
       "    <tr>\n",
       "      <th>2</th>\n",
       "      <td>Pet Store</td>\n",
       "      <td>19</td>\n",
       "      <td>Yelp</td>\n",
       "    </tr>\n",
       "  </tbody>\n",
       "</table>\n",
       "</div>"
      ],
      "text/plain": [
       "             category  name   API\n",
       "0  Chinese Restaurant    50  Yelp\n",
       "1        Chiropractor    18  Yelp\n",
       "2           Pet Store    19  Yelp"
      ]
     },
     "execution_count": 22,
     "metadata": {},
     "output_type": "execute_result"
    }
   ],
   "source": [
    "Yelp = df_yelp[['name', 'category']].groupby('category', as_index=False).count()\n",
    "Yelp['API'] = 'Yelp'\n",
    "Yelp"
   ]
  },
  {
   "cell_type": "code",
   "execution_count": 23,
   "id": "f97200d3-9d0a-433b-8792-b2741be5f420",
   "metadata": {},
   "outputs": [
    {
     "data": {
      "text/html": [
       "<div>\n",
       "<style scoped>\n",
       "    .dataframe tbody tr th:only-of-type {\n",
       "        vertical-align: middle;\n",
       "    }\n",
       "\n",
       "    .dataframe tbody tr th {\n",
       "        vertical-align: top;\n",
       "    }\n",
       "\n",
       "    .dataframe thead th {\n",
       "        text-align: right;\n",
       "    }\n",
       "</style>\n",
       "<table border=\"1\" class=\"dataframe\">\n",
       "  <thead>\n",
       "    <tr style=\"text-align: right;\">\n",
       "      <th></th>\n",
       "      <th>category</th>\n",
       "      <th>Count</th>\n",
       "      <th>API</th>\n",
       "    </tr>\n",
       "  </thead>\n",
       "  <tbody>\n",
       "    <tr>\n",
       "      <th>0</th>\n",
       "      <td>Chinese Restaurant</td>\n",
       "      <td>31</td>\n",
       "      <td>FourSquare</td>\n",
       "    </tr>\n",
       "    <tr>\n",
       "      <th>1</th>\n",
       "      <td>Chiropractor</td>\n",
       "      <td>9</td>\n",
       "      <td>FourSquare</td>\n",
       "    </tr>\n",
       "    <tr>\n",
       "      <th>2</th>\n",
       "      <td>Pet Store</td>\n",
       "      <td>16</td>\n",
       "      <td>FourSquare</td>\n",
       "    </tr>\n",
       "    <tr>\n",
       "      <th>0</th>\n",
       "      <td>Chinese Restaurant</td>\n",
       "      <td>50</td>\n",
       "      <td>Yelp</td>\n",
       "    </tr>\n",
       "    <tr>\n",
       "      <th>1</th>\n",
       "      <td>Chiropractor</td>\n",
       "      <td>18</td>\n",
       "      <td>Yelp</td>\n",
       "    </tr>\n",
       "    <tr>\n",
       "      <th>2</th>\n",
       "      <td>Pet Store</td>\n",
       "      <td>19</td>\n",
       "      <td>Yelp</td>\n",
       "    </tr>\n",
       "  </tbody>\n",
       "</table>\n",
       "</div>"
      ],
      "text/plain": [
       "             category  Count         API\n",
       "0  Chinese Restaurant     31  FourSquare\n",
       "1        Chiropractor      9  FourSquare\n",
       "2           Pet Store     16  FourSquare\n",
       "0  Chinese Restaurant     50        Yelp\n",
       "1        Chiropractor     18        Yelp\n",
       "2           Pet Store     19        Yelp"
      ]
     },
     "execution_count": 23,
     "metadata": {},
     "output_type": "execute_result"
    }
   ],
   "source": [
    "df = pd.concat([FourSquare, Yelp])\n",
    "df.rename(columns={'name': 'Count'}, inplace=True)\n",
    "df"
   ]
  },
  {
   "cell_type": "code",
   "execution_count": 24,
   "id": "d5403bae-55d8-49d8-a785-33ca3fa6ec93",
   "metadata": {},
   "outputs": [
    {
     "data": {
      "image/png": "[encoded data removed]",
      "text/plain": [
       "<Figure size 640x400 with 1 Axes>"
      ]
     },
     "metadata": {
      "needs_background": "light"
     },
     "output_type": "display_data"
    }
   ],
   "source": [
    "plt.figure(figsize=(8, 5), dpi=80)\n",
    "comp = sns.barplot(x='category', y='Count', hue='API', data=df, palette=\"mako_r\")\n",
    "for container in comp.containers:\n",
    "    comp.bar_label(container)\n",
    "plt.title('Number of POIs retrieved from different APIs', fontsize=18)\n",
    "plt.xlabel('Category', fontsize=14)\n",
    "plt.ylabel('Count', fontsize=14)\n",
    "plt.show()\n"
   ]
  },
  {
   "cell_type": "markdown",
   "id": "cc65c49e-5410-4cae-8ae8-ca525b21df9a",
   "metadata": {},
   "source": [
    "### 4. Choose the top 10 POIs based on the popularity"
   ]
  },
  {
   "cell_type": "code",
   "execution_count": 25,
   "id": "f55f5810-55bd-4fcf-ab37-c35f0392744c",
   "metadata": {},
   "outputs": [
    {
     "data": {
      "text/html": [
       "<div>\n",
       "<style scoped>\n",
       "    .dataframe tbody tr th:only-of-type {\n",
       "        vertical-align: middle;\n",
       "    }\n",
       "\n",
       "    .dataframe tbody tr th {\n",
       "        vertical-align: top;\n",
       "    }\n",
       "\n",
       "    .dataframe thead th {\n",
       "        text-align: right;\n",
       "    }\n",
       "</style>\n",
       "<table border=\"1\" class=\"dataframe\">\n",
       "  <thead>\n",
       "    <tr style=\"text-align: right;\">\n",
       "      <th></th>\n",
       "      <th>name</th>\n",
       "      <th>rating</th>\n",
       "    </tr>\n",
       "  </thead>\n",
       "  <tbody>\n",
       "    <tr>\n",
       "      <th>0</th>\n",
       "      <td>Diversified Health Clinic</td>\n",
       "      <td>5.0</td>\n",
       "    </tr>\n",
       "    <tr>\n",
       "      <th>7</th>\n",
       "      <td>Murray Chiropractic Group</td>\n",
       "      <td>5.0</td>\n",
       "    </tr>\n",
       "    <tr>\n",
       "      <th>12</th>\n",
       "      <td>Martell Bruce, RMT</td>\n",
       "      <td>5.0</td>\n",
       "    </tr>\n",
       "    <tr>\n",
       "      <th>11</th>\n",
       "      <td>Richard Kjaer, DC</td>\n",
       "      <td>5.0</td>\n",
       "    </tr>\n",
       "    <tr>\n",
       "      <th>10</th>\n",
       "      <td>Emmanuel Parenteau</td>\n",
       "      <td>5.0</td>\n",
       "    </tr>\n",
       "    <tr>\n",
       "      <th>1</th>\n",
       "      <td>Geometry Integrated Health</td>\n",
       "      <td>5.0</td>\n",
       "    </tr>\n",
       "    <tr>\n",
       "      <th>8</th>\n",
       "      <td>The Athlete Centre</td>\n",
       "      <td>5.0</td>\n",
       "    </tr>\n",
       "    <tr>\n",
       "      <th>9</th>\n",
       "      <td>Wholistic Chiropractic &amp; Wellness</td>\n",
       "      <td>5.0</td>\n",
       "    </tr>\n",
       "    <tr>\n",
       "      <th>4</th>\n",
       "      <td>Juniper Family Health</td>\n",
       "      <td>5.0</td>\n",
       "    </tr>\n",
       "    <tr>\n",
       "      <th>3</th>\n",
       "      <td>Synergy Health Centre</td>\n",
       "      <td>5.0</td>\n",
       "    </tr>\n",
       "  </tbody>\n",
       "</table>\n",
       "</div>"
      ],
      "text/plain": [
       "                                 name  rating\n",
       "0           Diversified Health Clinic     5.0\n",
       "7           Murray Chiropractic Group     5.0\n",
       "12                 Martell Bruce, RMT     5.0\n",
       "11                  Richard Kjaer, DC     5.0\n",
       "10                 Emmanuel Parenteau     5.0\n",
       "1          Geometry Integrated Health     5.0\n",
       "8                  The Athlete Centre     5.0\n",
       "9   Wholistic Chiropractic & Wellness     5.0\n",
       "4               Juniper Family Health     5.0\n",
       "3               Synergy Health Centre     5.0"
      ]
     },
     "execution_count": 25,
     "metadata": {},
     "output_type": "execute_result"
    }
   ],
   "source": [
    "df_yelp1[['name','rating']].sort_values('rating', ascending=False).head(10)"
   ]
  },
  {
   "cell_type": "code",
   "execution_count": 26,
   "id": "9a8038b7-c42a-480f-bdd1-e635ee08fb25",
   "metadata": {},
   "outputs": [
    {
     "data": {
      "text/html": [
       "<div>\n",
       "<style scoped>\n",
       "    .dataframe tbody tr th:only-of-type {\n",
       "        vertical-align: middle;\n",
       "    }\n",
       "\n",
       "    .dataframe tbody tr th {\n",
       "        vertical-align: top;\n",
       "    }\n",
       "\n",
       "    .dataframe thead th {\n",
       "        text-align: right;\n",
       "    }\n",
       "</style>\n",
       "<table border=\"1\" class=\"dataframe\">\n",
       "  <thead>\n",
       "    <tr style=\"text-align: right;\">\n",
       "      <th></th>\n",
       "      <th>name</th>\n",
       "      <th>popularity</th>\n",
       "    </tr>\n",
       "  </thead>\n",
       "  <tbody>\n",
       "    <tr>\n",
       "      <th>1</th>\n",
       "      <td>Fix Healthcare</td>\n",
       "      <td>0.918929</td>\n",
       "    </tr>\n",
       "    <tr>\n",
       "      <th>4</th>\n",
       "      <td>Diversified Health Clinic Ltd</td>\n",
       "      <td>0.888061</td>\n",
       "    </tr>\n",
       "    <tr>\n",
       "      <th>6</th>\n",
       "      <td>Active Health &amp; Wellness Clinic</td>\n",
       "      <td>0.842421</td>\n",
       "    </tr>\n",
       "    <tr>\n",
       "      <th>2</th>\n",
       "      <td>Elder Chiropractic Office</td>\n",
       "      <td>0.438866</td>\n",
       "    </tr>\n",
       "    <tr>\n",
       "      <th>3</th>\n",
       "      <td>Coastal Chiropractic</td>\n",
       "      <td>0.427696</td>\n",
       "    </tr>\n",
       "    <tr>\n",
       "      <th>5</th>\n",
       "      <td>Fairfield Chiropractic &amp; Massage</td>\n",
       "      <td>0.254144</td>\n",
       "    </tr>\n",
       "    <tr>\n",
       "      <th>8</th>\n",
       "      <td>Victoria Family Chiropractic</td>\n",
       "      <td>0.214991</td>\n",
       "    </tr>\n",
       "    <tr>\n",
       "      <th>7</th>\n",
       "      <td>Dr. Jack Chin</td>\n",
       "      <td>0.207903</td>\n",
       "    </tr>\n",
       "    <tr>\n",
       "      <th>0</th>\n",
       "      <td>UC Life Chiropractic Centre</td>\n",
       "      <td>0.077949</td>\n",
       "    </tr>\n",
       "  </tbody>\n",
       "</table>\n",
       "</div>"
      ],
      "text/plain": [
       "                               name  popularity\n",
       "1                    Fix Healthcare    0.918929\n",
       "4     Diversified Health Clinic Ltd    0.888061\n",
       "6   Active Health & Wellness Clinic    0.842421\n",
       "2         Elder Chiropractic Office    0.438866\n",
       "3              Coastal Chiropractic    0.427696\n",
       "5  Fairfield Chiropractic & Massage    0.254144\n",
       "8      Victoria Family Chiropractic    0.214991\n",
       "7                     Dr. Jack Chin    0.207903\n",
       "0       UC Life Chiropractic Centre    0.077949"
      ]
     },
     "execution_count": 26,
     "metadata": {},
     "output_type": "execute_result"
    }
   ],
   "source": [
    "df_fs1[['name', 'popularity']].sort_values('popularity', ascending=False).head(10)"
   ]
  },
  {
   "cell_type": "code",
   "execution_count": 27,
   "id": "ec57ccf0-4212-47ee-8054-a8f8a103df9e",
   "metadata": {},
   "outputs": [
    {
     "data": {
      "text/html": [
       "<div>\n",
       "<style scoped>\n",
       "    .dataframe tbody tr th:only-of-type {\n",
       "        vertical-align: middle;\n",
       "    }\n",
       "\n",
       "    .dataframe tbody tr th {\n",
       "        vertical-align: top;\n",
       "    }\n",
       "\n",
       "    .dataframe thead th {\n",
       "        text-align: right;\n",
       "    }\n",
       "</style>\n",
       "<table border=\"1\" class=\"dataframe\">\n",
       "  <thead>\n",
       "    <tr style=\"text-align: right;\">\n",
       "      <th></th>\n",
       "      <th>name</th>\n",
       "      <th>rating</th>\n",
       "      <th>popularity</th>\n",
       "    </tr>\n",
       "  </thead>\n",
       "  <tbody>\n",
       "    <tr>\n",
       "      <th>0</th>\n",
       "      <td>Active Health &amp; Wellness Clinic</td>\n",
       "      <td>3.0</td>\n",
       "      <td>0.842421</td>\n",
       "    </tr>\n",
       "  </tbody>\n",
       "</table>\n",
       "</div>"
      ],
      "text/plain": [
       "                              name  rating  popularity\n",
       "0  Active Health & Wellness Clinic     3.0    0.842421"
      ]
     },
     "execution_count": 27,
     "metadata": {},
     "output_type": "execute_result"
    }
   ],
   "source": [
    "pd.merge(df_yelp1[['name','rating']], df_fs1[['name', 'popularity']], on='name')"
   ]
  },
  {
   "cell_type": "code",
   "execution_count": 28,
   "id": "2db59780-49db-4dd9-bcd1-09ea51eaa18c",
   "metadata": {},
   "outputs": [
    {
     "data": {
      "text/html": [
       "<div>\n",
       "<style scoped>\n",
       "    .dataframe tbody tr th:only-of-type {\n",
       "        vertical-align: middle;\n",
       "    }\n",
       "\n",
       "    .dataframe tbody tr th {\n",
       "        vertical-align: top;\n",
       "    }\n",
       "\n",
       "    .dataframe thead th {\n",
       "        text-align: right;\n",
       "    }\n",
       "</style>\n",
       "<table border=\"1\" class=\"dataframe\">\n",
       "  <thead>\n",
       "    <tr style=\"text-align: right;\">\n",
       "      <th></th>\n",
       "      <th>name</th>\n",
       "      <th>rating</th>\n",
       "    </tr>\n",
       "  </thead>\n",
       "  <tbody>\n",
       "    <tr>\n",
       "      <th>26</th>\n",
       "      <td>Pho &amp; Wok</td>\n",
       "      <td>5.0</td>\n",
       "    </tr>\n",
       "    <tr>\n",
       "      <th>40</th>\n",
       "      <td>Panda Island</td>\n",
       "      <td>5.0</td>\n",
       "    </tr>\n",
       "    <tr>\n",
       "      <th>0</th>\n",
       "      <td>Little Yunnan Restaurant</td>\n",
       "      <td>4.5</td>\n",
       "    </tr>\n",
       "    <tr>\n",
       "      <th>2</th>\n",
       "      <td>Lotus Pond Vegetarian Restaurant</td>\n",
       "      <td>4.5</td>\n",
       "    </tr>\n",
       "    <tr>\n",
       "      <th>1</th>\n",
       "      <td>The Cozy Place Restaurant</td>\n",
       "      <td>4.5</td>\n",
       "    </tr>\n",
       "    <tr>\n",
       "      <th>4</th>\n",
       "      <td>Hope Key</td>\n",
       "      <td>4.5</td>\n",
       "    </tr>\n",
       "    <tr>\n",
       "      <th>6</th>\n",
       "      <td>Ox King Noodles</td>\n",
       "      <td>4.5</td>\n",
       "    </tr>\n",
       "    <tr>\n",
       "      <th>34</th>\n",
       "      <td>Laila Laila Hotpot Restaurant</td>\n",
       "      <td>4.0</td>\n",
       "    </tr>\n",
       "    <tr>\n",
       "      <th>27</th>\n",
       "      <td>Rainbow Chinese Restaurant</td>\n",
       "      <td>4.0</td>\n",
       "    </tr>\n",
       "    <tr>\n",
       "      <th>11</th>\n",
       "      <td>Lum's Chinese Restaurant</td>\n",
       "      <td>4.0</td>\n",
       "    </tr>\n",
       "  </tbody>\n",
       "</table>\n",
       "</div>"
      ],
      "text/plain": [
       "                                name  rating\n",
       "26                         Pho & Wok     5.0\n",
       "40                      Panda Island     5.0\n",
       "0           Little Yunnan Restaurant     4.5\n",
       "2   Lotus Pond Vegetarian Restaurant     4.5\n",
       "1          The Cozy Place Restaurant     4.5\n",
       "4                           Hope Key     4.5\n",
       "6                    Ox King Noodles     4.5\n",
       "34     Laila Laila Hotpot Restaurant     4.0\n",
       "27        Rainbow Chinese Restaurant     4.0\n",
       "11          Lum's Chinese Restaurant     4.0"
      ]
     },
     "execution_count": 28,
     "metadata": {},
     "output_type": "execute_result"
    }
   ],
   "source": [
    "df_yelp3[['name','rating']].sort_values('rating', ascending=False).head(10)"
   ]
  },
  {
   "cell_type": "code",
   "execution_count": 29,
   "id": "58facfa8-22ba-4cb7-bbdd-f26454c7d1b2",
   "metadata": {},
   "outputs": [
    {
     "data": {
      "text/html": [
       "<div>\n",
       "<style scoped>\n",
       "    .dataframe tbody tr th:only-of-type {\n",
       "        vertical-align: middle;\n",
       "    }\n",
       "\n",
       "    .dataframe tbody tr th {\n",
       "        vertical-align: top;\n",
       "    }\n",
       "\n",
       "    .dataframe thead th {\n",
       "        text-align: right;\n",
       "    }\n",
       "</style>\n",
       "<table border=\"1\" class=\"dataframe\">\n",
       "  <thead>\n",
       "    <tr style=\"text-align: right;\">\n",
       "      <th></th>\n",
       "      <th>name</th>\n",
       "      <th>popularity</th>\n",
       "    </tr>\n",
       "  </thead>\n",
       "  <tbody>\n",
       "    <tr>\n",
       "      <th>6</th>\n",
       "      <td>Don Mee Chinese Seafood Restaurant</td>\n",
       "      <td>0.954360</td>\n",
       "    </tr>\n",
       "    <tr>\n",
       "      <th>4</th>\n",
       "      <td>Fan-Tan Cafe</td>\n",
       "      <td>0.951718</td>\n",
       "    </tr>\n",
       "    <tr>\n",
       "      <th>1</th>\n",
       "      <td>J &amp; J Wonton Noodle House</td>\n",
       "      <td>0.940668</td>\n",
       "    </tr>\n",
       "    <tr>\n",
       "      <th>21</th>\n",
       "      <td>Sun Wah Chinese Restaurant</td>\n",
       "      <td>0.922051</td>\n",
       "    </tr>\n",
       "    <tr>\n",
       "      <th>10</th>\n",
       "      <td>Wah Lai Yuen Restaurant</td>\n",
       "      <td>0.919890</td>\n",
       "    </tr>\n",
       "    <tr>\n",
       "      <th>22</th>\n",
       "      <td>Crown Palace Chinese Restaurant</td>\n",
       "      <td>0.917367</td>\n",
       "    </tr>\n",
       "    <tr>\n",
       "      <th>13</th>\n",
       "      <td>Ox King Noodles</td>\n",
       "      <td>0.916406</td>\n",
       "    </tr>\n",
       "    <tr>\n",
       "      <th>29</th>\n",
       "      <td>Hongkong West Restaurant</td>\n",
       "      <td>0.910882</td>\n",
       "    </tr>\n",
       "    <tr>\n",
       "      <th>15</th>\n",
       "      <td>Szechuan Restaurant</td>\n",
       "      <td>0.907639</td>\n",
       "    </tr>\n",
       "    <tr>\n",
       "      <th>2</th>\n",
       "      <td>Hope Key Restaurant</td>\n",
       "      <td>0.899231</td>\n",
       "    </tr>\n",
       "  </tbody>\n",
       "</table>\n",
       "</div>"
      ],
      "text/plain": [
       "                                  name  popularity\n",
       "6   Don Mee Chinese Seafood Restaurant    0.954360\n",
       "4                         Fan-Tan Cafe    0.951718\n",
       "1            J & J Wonton Noodle House    0.940668\n",
       "21          Sun Wah Chinese Restaurant    0.922051\n",
       "10             Wah Lai Yuen Restaurant    0.919890\n",
       "22     Crown Palace Chinese Restaurant    0.917367\n",
       "13                     Ox King Noodles    0.916406\n",
       "29            Hongkong West Restaurant    0.910882\n",
       "15                 Szechuan Restaurant    0.907639\n",
       "2                  Hope Key Restaurant    0.899231"
      ]
     },
     "execution_count": 29,
     "metadata": {},
     "output_type": "execute_result"
    }
   ],
   "source": [
    "df_fs3[['name', 'popularity']].sort_values('popularity', ascending=False).head(10)"
   ]
  },
  {
   "cell_type": "code",
   "execution_count": 30,
   "id": "60e3058f-6c8b-411b-9d1e-33b3f6ed3b54",
   "metadata": {},
   "outputs": [
    {
     "data": {
      "text/html": [
       "<div>\n",
       "<style scoped>\n",
       "    .dataframe tbody tr th:only-of-type {\n",
       "        vertical-align: middle;\n",
       "    }\n",
       "\n",
       "    .dataframe tbody tr th {\n",
       "        vertical-align: top;\n",
       "    }\n",
       "\n",
       "    .dataframe thead th {\n",
       "        text-align: right;\n",
       "    }\n",
       "</style>\n",
       "<table border=\"1\" class=\"dataframe\">\n",
       "  <thead>\n",
       "    <tr style=\"text-align: right;\">\n",
       "      <th></th>\n",
       "      <th>name</th>\n",
       "      <th>rating</th>\n",
       "      <th>popularity</th>\n",
       "    </tr>\n",
       "  </thead>\n",
       "  <tbody>\n",
       "    <tr>\n",
       "      <th>0</th>\n",
       "      <td>Little Yunnan Restaurant</td>\n",
       "      <td>4.5</td>\n",
       "      <td>0.867403</td>\n",
       "    </tr>\n",
       "    <tr>\n",
       "      <th>1</th>\n",
       "      <td>Lotus Pond Vegetarian Restaurant</td>\n",
       "      <td>4.5</td>\n",
       "      <td>0.893706</td>\n",
       "    </tr>\n",
       "    <tr>\n",
       "      <th>2</th>\n",
       "      <td>Ox King Noodles</td>\n",
       "      <td>4.5</td>\n",
       "      <td>0.916406</td>\n",
       "    </tr>\n",
       "    <tr>\n",
       "      <th>3</th>\n",
       "      <td>I Kyu Noodles</td>\n",
       "      <td>3.5</td>\n",
       "      <td>0.863680</td>\n",
       "    </tr>\n",
       "    <tr>\n",
       "      <th>4</th>\n",
       "      <td>Golden City Restaurant</td>\n",
       "      <td>3.5</td>\n",
       "      <td>0.869085</td>\n",
       "    </tr>\n",
       "    <tr>\n",
       "      <th>5</th>\n",
       "      <td>J &amp; J Wonton Noodle House</td>\n",
       "      <td>3.5</td>\n",
       "      <td>0.940668</td>\n",
       "    </tr>\n",
       "    <tr>\n",
       "      <th>6</th>\n",
       "      <td>Beijing Bistro</td>\n",
       "      <td>3.5</td>\n",
       "      <td>0.797021</td>\n",
       "    </tr>\n",
       "    <tr>\n",
       "      <th>7</th>\n",
       "      <td>Sun Wah Chinese Restaurant</td>\n",
       "      <td>3.5</td>\n",
       "      <td>0.922051</td>\n",
       "    </tr>\n",
       "    <tr>\n",
       "      <th>8</th>\n",
       "      <td>Szechuan Restaurant</td>\n",
       "      <td>3.5</td>\n",
       "      <td>0.907639</td>\n",
       "    </tr>\n",
       "    <tr>\n",
       "      <th>9</th>\n",
       "      <td>James Bay Fish &amp; Chips</td>\n",
       "      <td>3.0</td>\n",
       "      <td>0.822964</td>\n",
       "    </tr>\n",
       "    <tr>\n",
       "      <th>10</th>\n",
       "      <td>Fountain Restaurant</td>\n",
       "      <td>2.5</td>\n",
       "      <td>0.640283</td>\n",
       "    </tr>\n",
       "    <tr>\n",
       "      <th>11</th>\n",
       "      <td>Crown Palace Chinese Restaurant</td>\n",
       "      <td>3.0</td>\n",
       "      <td>0.917367</td>\n",
       "    </tr>\n",
       "    <tr>\n",
       "      <th>12</th>\n",
       "      <td>East Garden Restaurant</td>\n",
       "      <td>2.5</td>\n",
       "      <td>0.822724</td>\n",
       "    </tr>\n",
       "  </tbody>\n",
       "</table>\n",
       "</div>"
      ],
      "text/plain": [
       "                                name  rating  popularity\n",
       "0           Little Yunnan Restaurant     4.5    0.867403\n",
       "1   Lotus Pond Vegetarian Restaurant     4.5    0.893706\n",
       "2                    Ox King Noodles     4.5    0.916406\n",
       "3                      I Kyu Noodles     3.5    0.863680\n",
       "4             Golden City Restaurant     3.5    0.869085\n",
       "5          J & J Wonton Noodle House     3.5    0.940668\n",
       "6                     Beijing Bistro     3.5    0.797021\n",
       "7         Sun Wah Chinese Restaurant     3.5    0.922051\n",
       "8                Szechuan Restaurant     3.5    0.907639\n",
       "9             James Bay Fish & Chips     3.0    0.822964\n",
       "10               Fountain Restaurant     2.5    0.640283\n",
       "11   Crown Palace Chinese Restaurant     3.0    0.917367\n",
       "12            East Garden Restaurant     2.5    0.822724"
      ]
     },
     "execution_count": 30,
     "metadata": {},
     "output_type": "execute_result"
    }
   ],
   "source": [
    "pd.merge(df_yelp3[['name','rating']], df_fs3[['name', 'popularity']], on='name')"
   ]
  },
  {
   "cell_type": "code",
   "execution_count": 31,
   "id": "8c9abeaa-ba6f-420c-baae-02d49b055f4a",
   "metadata": {},
   "outputs": [
    {
     "data": {
      "text/plain": [
       "(13, 1)"
      ]
     },
     "execution_count": 31,
     "metadata": {},
     "output_type": "execute_result"
    }
   ],
   "source": [
    "pd.merge(df_yelp3['name'], df_fs3['name'], on='name').shape"
   ]
  },
  {
   "cell_type": "code",
   "execution_count": 32,
   "id": "1ed9cbcc-9d02-490d-a26b-c6c43e8e876f",
   "metadata": {},
   "outputs": [
    {
     "data": {
      "image/png": "[encoded data removed]",
      "text/plain": [
       "<Figure size 432x288 with 1 Axes>"
      ]
     },
     "metadata": {},
     "output_type": "display_data"
    }
   ],
   "source": [
    "venn2(subsets = (31, 50, 13), set_labels = ('FourSquare', 'Yelp'), set_colors=('r', 'y'), alpha = 0.5);\n",
    "venn2_circles(subsets = (31, 50, 13));"
   ]
  },
  {
   "cell_type": "code",
   "execution_count": 36,
   "id": "4fe6c9ab-77b0-4120-825e-c149a7e0a762",
   "metadata": {},
   "outputs": [
    {
     "data": {
      "text/html": [
       "<div>\n",
       "<style scoped>\n",
       "    .dataframe tbody tr th:only-of-type {\n",
       "        vertical-align: middle;\n",
       "    }\n",
       "\n",
       "    .dataframe tbody tr th {\n",
       "        vertical-align: top;\n",
       "    }\n",
       "\n",
       "    .dataframe thead th {\n",
       "        text-align: right;\n",
       "    }\n",
       "</style>\n",
       "<table border=\"1\" class=\"dataframe\">\n",
       "  <thead>\n",
       "    <tr style=\"text-align: right;\">\n",
       "      <th></th>\n",
       "      <th>name</th>\n",
       "      <th>rating</th>\n",
       "      <th>API</th>\n",
       "    </tr>\n",
       "  </thead>\n",
       "  <tbody>\n",
       "    <tr>\n",
       "      <th>0</th>\n",
       "      <td>Little Yunnan Restaurant</td>\n",
       "      <td>9.0</td>\n",
       "      <td>Yelp</td>\n",
       "    </tr>\n",
       "    <tr>\n",
       "      <th>1</th>\n",
       "      <td>Lotus Pond Vegetarian Restaurant</td>\n",
       "      <td>9.0</td>\n",
       "      <td>Yelp</td>\n",
       "    </tr>\n",
       "    <tr>\n",
       "      <th>2</th>\n",
       "      <td>Ox King Noodles</td>\n",
       "      <td>9.0</td>\n",
       "      <td>Yelp</td>\n",
       "    </tr>\n",
       "    <tr>\n",
       "      <th>1</th>\n",
       "      <td>Lotus Pond Vegetarian Restaurant</td>\n",
       "      <td>8.2</td>\n",
       "      <td>FourSquare</td>\n",
       "    </tr>\n",
       "    <tr>\n",
       "      <th>5</th>\n",
       "      <td>J &amp; J Wonton Noodle House</td>\n",
       "      <td>7.9</td>\n",
       "      <td>FourSquare</td>\n",
       "    </tr>\n",
       "    <tr>\n",
       "      <th>5</th>\n",
       "      <td>J &amp; J Wonton Noodle House</td>\n",
       "      <td>7.0</td>\n",
       "      <td>Yelp</td>\n",
       "    </tr>\n",
       "    <tr>\n",
       "      <th>8</th>\n",
       "      <td>Szechuan Restaurant</td>\n",
       "      <td>7.0</td>\n",
       "      <td>Yelp</td>\n",
       "    </tr>\n",
       "    <tr>\n",
       "      <th>7</th>\n",
       "      <td>Sun Wah Chinese Restaurant</td>\n",
       "      <td>7.0</td>\n",
       "      <td>Yelp</td>\n",
       "    </tr>\n",
       "    <tr>\n",
       "      <th>6</th>\n",
       "      <td>Beijing Bistro</td>\n",
       "      <td>7.0</td>\n",
       "      <td>Yelp</td>\n",
       "    </tr>\n",
       "    <tr>\n",
       "      <th>4</th>\n",
       "      <td>Golden City Restaurant</td>\n",
       "      <td>7.0</td>\n",
       "      <td>Yelp</td>\n",
       "    </tr>\n",
       "    <tr>\n",
       "      <th>3</th>\n",
       "      <td>I Kyu Noodles</td>\n",
       "      <td>7.0</td>\n",
       "      <td>Yelp</td>\n",
       "    </tr>\n",
       "    <tr>\n",
       "      <th>3</th>\n",
       "      <td>I Kyu Noodles</td>\n",
       "      <td>6.8</td>\n",
       "      <td>FourSquare</td>\n",
       "    </tr>\n",
       "    <tr>\n",
       "      <th>9</th>\n",
       "      <td>James Bay Fish &amp; Chips</td>\n",
       "      <td>6.0</td>\n",
       "      <td>Yelp</td>\n",
       "    </tr>\n",
       "    <tr>\n",
       "      <th>11</th>\n",
       "      <td>Crown Palace Chinese Restaurant</td>\n",
       "      <td>6.0</td>\n",
       "      <td>Yelp</td>\n",
       "    </tr>\n",
       "    <tr>\n",
       "      <th>4</th>\n",
       "      <td>Golden City Restaurant</td>\n",
       "      <td>5.8</td>\n",
       "      <td>FourSquare</td>\n",
       "    </tr>\n",
       "    <tr>\n",
       "      <th>10</th>\n",
       "      <td>Fountain Restaurant</td>\n",
       "      <td>5.1</td>\n",
       "      <td>FourSquare</td>\n",
       "    </tr>\n",
       "    <tr>\n",
       "      <th>10</th>\n",
       "      <td>Fountain Restaurant</td>\n",
       "      <td>5.0</td>\n",
       "      <td>Yelp</td>\n",
       "    </tr>\n",
       "    <tr>\n",
       "      <th>12</th>\n",
       "      <td>East Garden Restaurant</td>\n",
       "      <td>5.0</td>\n",
       "      <td>Yelp</td>\n",
       "    </tr>\n",
       "    <tr>\n",
       "      <th>0</th>\n",
       "      <td>Little Yunnan Restaurant</td>\n",
       "      <td>NaN</td>\n",
       "      <td>FourSquare</td>\n",
       "    </tr>\n",
       "    <tr>\n",
       "      <th>2</th>\n",
       "      <td>Ox King Noodles</td>\n",
       "      <td>NaN</td>\n",
       "      <td>FourSquare</td>\n",
       "    </tr>\n",
       "    <tr>\n",
       "      <th>6</th>\n",
       "      <td>Beijing Bistro</td>\n",
       "      <td>NaN</td>\n",
       "      <td>FourSquare</td>\n",
       "    </tr>\n",
       "    <tr>\n",
       "      <th>7</th>\n",
       "      <td>Sun Wah Chinese Restaurant</td>\n",
       "      <td>NaN</td>\n",
       "      <td>FourSquare</td>\n",
       "    </tr>\n",
       "    <tr>\n",
       "      <th>8</th>\n",
       "      <td>Szechuan Restaurant</td>\n",
       "      <td>NaN</td>\n",
       "      <td>FourSquare</td>\n",
       "    </tr>\n",
       "    <tr>\n",
       "      <th>9</th>\n",
       "      <td>James Bay Fish &amp; Chips</td>\n",
       "      <td>NaN</td>\n",
       "      <td>FourSquare</td>\n",
       "    </tr>\n",
       "    <tr>\n",
       "      <th>11</th>\n",
       "      <td>Crown Palace Chinese Restaurant</td>\n",
       "      <td>NaN</td>\n",
       "      <td>FourSquare</td>\n",
       "    </tr>\n",
       "    <tr>\n",
       "      <th>12</th>\n",
       "      <td>East Garden Restaurant</td>\n",
       "      <td>NaN</td>\n",
       "      <td>FourSquare</td>\n",
       "    </tr>\n",
       "  </tbody>\n",
       "</table>\n",
       "</div>"
      ],
      "text/plain": [
       "                                name  rating         API\n",
       "0           Little Yunnan Restaurant     9.0        Yelp\n",
       "1   Lotus Pond Vegetarian Restaurant     9.0        Yelp\n",
       "2                    Ox King Noodles     9.0        Yelp\n",
       "1   Lotus Pond Vegetarian Restaurant     8.2  FourSquare\n",
       "5          J & J Wonton Noodle House     7.9  FourSquare\n",
       "5          J & J Wonton Noodle House     7.0        Yelp\n",
       "8                Szechuan Restaurant     7.0        Yelp\n",
       "7         Sun Wah Chinese Restaurant     7.0        Yelp\n",
       "6                     Beijing Bistro     7.0        Yelp\n",
       "4             Golden City Restaurant     7.0        Yelp\n",
       "3                      I Kyu Noodles     7.0        Yelp\n",
       "3                      I Kyu Noodles     6.8  FourSquare\n",
       "9             James Bay Fish & Chips     6.0        Yelp\n",
       "11   Crown Palace Chinese Restaurant     6.0        Yelp\n",
       "4             Golden City Restaurant     5.8  FourSquare\n",
       "10               Fountain Restaurant     5.1  FourSquare\n",
       "10               Fountain Restaurant     5.0        Yelp\n",
       "12            East Garden Restaurant     5.0        Yelp\n",
       "0           Little Yunnan Restaurant     NaN  FourSquare\n",
       "2                    Ox King Noodles     NaN  FourSquare\n",
       "6                     Beijing Bistro     NaN  FourSquare\n",
       "7         Sun Wah Chinese Restaurant     NaN  FourSquare\n",
       "8                Szechuan Restaurant     NaN  FourSquare\n",
       "9             James Bay Fish & Chips     NaN  FourSquare\n",
       "11   Crown Palace Chinese Restaurant     NaN  FourSquare\n",
       "12            East Garden Restaurant     NaN  FourSquare"
      ]
     },
     "execution_count": 36,
     "metadata": {},
     "output_type": "execute_result"
    }
   ],
   "source": [
    "rating_fs = pd.json_normalize(res_fs3['results'])[['name', 'rating']]\n",
    "rating_merge = pd.merge(df_yelp3[['name', 'rating']], rating_fs, on='name')\n",
    "rating_merge['API'] = 'Yelp'\n",
    "rating_fs = rating_merge.copy()[['name', 'rating_y']]\n",
    "rating_fs['API'] = 'FourSquare'\n",
    "rating_yelp = rating_merge.copy()[['name', 'rating_x', 'API']]\n",
    "rating_yelp['rating_x'] = rating_yelp['rating_x']*2\n",
    "\n",
    "rating_fs.rename(columns={'rating_y': 'rating'}, inplace=True)\n",
    "rating_yelp.rename(columns={'rating_x': 'rating'}, inplace=True)\n",
    "\n",
    "rating = pd.concat([rating_fs, rating_yelp]).sort_values('rating', ascending=False)\n",
    "rating"
   ]
  },
  {
   "cell_type": "code",
   "execution_count": 37,
   "id": "30ff43c8-676f-493a-8173-79ccb4705836",
   "metadata": {},
   "outputs": [
    {
     "data": {
      "image/png": "[encoded data removed]",
      "text/plain": [
       "<Figure size 640x640 with 1 Axes>"
      ]
     },
     "metadata": {
      "needs_background": "light"
     },
     "output_type": "display_data"
    }
   ],
   "source": [
    "plt.figure(figsize=(8, 8), dpi=80)\n",
    "comp = sns.barplot(x='rating', y='name', hue='API', data=rating, palette=\"coolwarm\", orient='h')\n",
    "for container in comp.containers:\n",
    "    comp.bar_label(container)\n",
    "plt.title('Ratings of Chinese restaurant from both APIs', fontsize=18)\n",
    "plt.xlabel('Category', fontsize=14)\n",
    "plt.ylabel('Count', fontsize=14)\n",
    "plt.show()"
   ]
  },
  {
   "cell_type": "code",
   "execution_count": 47,
   "id": "ee3cc4b9-9fd7-46e8-b568-6d7355fdd4ee",
   "metadata": {},
   "outputs": [
    {
     "data": {
      "text/html": [
       "<div>\n",
       "<style scoped>\n",
       "    .dataframe tbody tr th:only-of-type {\n",
       "        vertical-align: middle;\n",
       "    }\n",
       "\n",
       "    .dataframe tbody tr th {\n",
       "        vertical-align: top;\n",
       "    }\n",
       "\n",
       "    .dataframe thead th {\n",
       "        text-align: right;\n",
       "    }\n",
       "</style>\n",
       "<table border=\"1\" class=\"dataframe\">\n",
       "  <thead>\n",
       "    <tr style=\"text-align: right;\">\n",
       "      <th></th>\n",
       "      <th>name</th>\n",
       "      <th>location.postcode</th>\n",
       "    </tr>\n",
       "  </thead>\n",
       "  <tbody>\n",
       "    <tr>\n",
       "      <th>0</th>\n",
       "      <td>Lotus Pond Vegetarian Restaurant</td>\n",
       "      <td>V8W 1M5</td>\n",
       "    </tr>\n",
       "    <tr>\n",
       "      <th>1</th>\n",
       "      <td>J &amp; J Wonton Noodle House</td>\n",
       "      <td>V8V 3K4</td>\n",
       "    </tr>\n",
       "    <tr>\n",
       "      <th>2</th>\n",
       "      <td>Hope Key Restaurant</td>\n",
       "      <td>V8W 2E9</td>\n",
       "    </tr>\n",
       "    <tr>\n",
       "      <th>3</th>\n",
       "      <td>I Kyu Noodles</td>\n",
       "      <td>V8W 1R4</td>\n",
       "    </tr>\n",
       "    <tr>\n",
       "      <th>4</th>\n",
       "      <td>Fan-Tan Cafe</td>\n",
       "      <td>V8W 1R5</td>\n",
       "    </tr>\n",
       "  </tbody>\n",
       "</table>\n",
       "</div>"
      ],
      "text/plain": [
       "                               name location.postcode\n",
       "0  Lotus Pond Vegetarian Restaurant           V8W 1M5\n",
       "1         J & J Wonton Noodle House           V8V 3K4\n",
       "2               Hope Key Restaurant           V8W 2E9\n",
       "3                     I Kyu Noodles           V8W 1R4\n",
       "4                      Fan-Tan Cafe           V8W 1R5"
      ]
     },
     "execution_count": 47,
     "metadata": {},
     "output_type": "execute_result"
    }
   ],
   "source": [
    "pc_fs3 = df_fs3[['name', 'location.postcode']].copy()\n",
    "pc_fs3.head()"
   ]
  },
  {
   "cell_type": "code",
   "execution_count": 48,
   "id": "4a60f380-951f-47d0-ae83-8bc74ae74411",
   "metadata": {},
   "outputs": [
    {
     "data": {
      "text/html": [
       "<div>\n",
       "<style scoped>\n",
       "    .dataframe tbody tr th:only-of-type {\n",
       "        vertical-align: middle;\n",
       "    }\n",
       "\n",
       "    .dataframe tbody tr th {\n",
       "        vertical-align: top;\n",
       "    }\n",
       "\n",
       "    .dataframe thead th {\n",
       "        text-align: right;\n",
       "    }\n",
       "</style>\n",
       "<table border=\"1\" class=\"dataframe\">\n",
       "  <thead>\n",
       "    <tr style=\"text-align: right;\">\n",
       "      <th></th>\n",
       "      <th>name</th>\n",
       "      <th>location.zip_code</th>\n",
       "    </tr>\n",
       "  </thead>\n",
       "  <tbody>\n",
       "    <tr>\n",
       "      <th>0</th>\n",
       "      <td>Little Yunnan Restaurant</td>\n",
       "      <td>V8W 1R4</td>\n",
       "    </tr>\n",
       "    <tr>\n",
       "      <th>1</th>\n",
       "      <td>The Cozy Place Restaurant</td>\n",
       "      <td>V8W 2G6</td>\n",
       "    </tr>\n",
       "    <tr>\n",
       "      <th>2</th>\n",
       "      <td>Lotus Pond Vegetarian Restaurant</td>\n",
       "      <td>V8W 1M5</td>\n",
       "    </tr>\n",
       "    <tr>\n",
       "      <th>3</th>\n",
       "      <td>Bao</td>\n",
       "      <td>V8W 1R6</td>\n",
       "    </tr>\n",
       "    <tr>\n",
       "      <th>4</th>\n",
       "      <td>Hope Key</td>\n",
       "      <td>V8W 2E9</td>\n",
       "    </tr>\n",
       "  </tbody>\n",
       "</table>\n",
       "</div>"
      ],
      "text/plain": [
       "                               name location.zip_code\n",
       "0          Little Yunnan Restaurant           V8W 1R4\n",
       "1         The Cozy Place Restaurant           V8W 2G6\n",
       "2  Lotus Pond Vegetarian Restaurant           V8W 1M5\n",
       "3                               Bao           V8W 1R6\n",
       "4                          Hope Key           V8W 2E9"
      ]
     },
     "execution_count": 48,
     "metadata": {},
     "output_type": "execute_result"
    }
   ],
   "source": [
    "pc_yelp3 = df_yelp3[['name', 'location.zip_code']].copy()\n",
    "pc_yelp3.head()"
   ]
  },
  {
   "cell_type": "code",
   "execution_count": 55,
   "id": "b0c75826-ac50-40bf-a816-92892a0162ce",
   "metadata": {},
   "outputs": [
    {
     "data": {
      "text/html": [
       "<div>\n",
       "<style scoped>\n",
       "    .dataframe tbody tr th:only-of-type {\n",
       "        vertical-align: middle;\n",
       "    }\n",
       "\n",
       "    .dataframe tbody tr th {\n",
       "        vertical-align: top;\n",
       "    }\n",
       "\n",
       "    .dataframe thead th {\n",
       "        text-align: right;\n",
       "    }\n",
       "</style>\n",
       "<table border=\"1\" class=\"dataframe\">\n",
       "  <thead>\n",
       "    <tr style=\"text-align: right;\">\n",
       "      <th></th>\n",
       "      <th>name</th>\n",
       "    </tr>\n",
       "    <tr>\n",
       "      <th>location.zip_code</th>\n",
       "      <th></th>\n",
       "    </tr>\n",
       "  </thead>\n",
       "  <tbody>\n",
       "    <tr>\n",
       "      <th>V8N</th>\n",
       "      <td>1</td>\n",
       "    </tr>\n",
       "    <tr>\n",
       "      <th>V8P</th>\n",
       "      <td>5</td>\n",
       "    </tr>\n",
       "    <tr>\n",
       "      <th>V8R</th>\n",
       "      <td>5</td>\n",
       "    </tr>\n",
       "    <tr>\n",
       "      <th>V8T</th>\n",
       "      <td>4</td>\n",
       "    </tr>\n",
       "    <tr>\n",
       "      <th>V8V</th>\n",
       "      <td>3</td>\n",
       "    </tr>\n",
       "    <tr>\n",
       "      <th>V8W</th>\n",
       "      <td>19</td>\n",
       "    </tr>\n",
       "    <tr>\n",
       "      <th>V8X</th>\n",
       "      <td>2</td>\n",
       "    </tr>\n",
       "    <tr>\n",
       "      <th>V8Z</th>\n",
       "      <td>5</td>\n",
       "    </tr>\n",
       "    <tr>\n",
       "      <th>V9A</th>\n",
       "      <td>5</td>\n",
       "    </tr>\n",
       "    <tr>\n",
       "      <th>V9B</th>\n",
       "      <td>1</td>\n",
       "    </tr>\n",
       "  </tbody>\n",
       "</table>\n",
       "</div>"
      ],
      "text/plain": [
       "                   name\n",
       "location.zip_code      \n",
       "V8N                   1\n",
       "V8P                   5\n",
       "V8R                   5\n",
       "V8T                   4\n",
       "V8V                   3\n",
       "V8W                  19\n",
       "V8X                   2\n",
       "V8Z                   5\n",
       "V9A                   5\n",
       "V9B                   1"
      ]
     },
     "execution_count": 55,
     "metadata": {},
     "output_type": "execute_result"
    }
   ],
   "source": [
    "pc_yelp3['location.zip_code'] = pc_yelp3['location.zip_code'].apply(lambda x: x[:3])\n",
    "pc_yelp3.groupby('location.zip_code').count()"
   ]
  }
 ],
 "metadata": {
  "kernelspec": {
   "display_name": "Python 3 (ipykernel)",
   "language": "python",
   "name": "python3"
  },
  "language_info": {
   "codemirror_mode": {
    "name": "ipython",
    "version": 3
   },
   "file_extension": ".py",
   "mimetype": "text/x-python",
   "name": "python",
   "nbconvert_exporter": "python",
   "pygments_lexer": "ipython3",
   "version": "3.9.7"
  }
 },
 "nbformat": 4,
 "nbformat_minor": 5
}
